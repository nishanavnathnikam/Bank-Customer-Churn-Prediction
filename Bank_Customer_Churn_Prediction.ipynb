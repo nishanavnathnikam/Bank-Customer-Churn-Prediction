{
 "cells": [
  {
   "cell_type": "code",
   "execution_count": 1,
   "id": "385e693e",
   "metadata": {},
   "outputs": [],
   "source": [
    "#Customer churn\n",
    "#It is necessary to predict whether the client will leave the bank in the near\n",
    "#future or not. We have been provided with historical data on customer behavior\n",
    "#and termination of agreements with the bank."
   ]
  },
  {
   "cell_type": "code",
   "execution_count": 2,
   "id": "d701745b",
   "metadata": {},
   "outputs": [],
   "source": [
    "import pandas as pd\n",
    "import warnings\n",
    "warnings.filterwarnings('ignore')\n",
    "from sklearn.preprocessing import LabelEncoder\n",
    "le=LabelEncoder()\n",
    "import numpy as np\n",
    "import matplotlib.pyplot as plt\n",
    "import seaborn as sns"
   ]
  },
  {
   "cell_type": "code",
   "execution_count": 3,
   "id": "1bed36ab",
   "metadata": {},
   "outputs": [
    {
     "data": {
      "text/html": [
       "<div>\n",
       "<style scoped>\n",
       "    .dataframe tbody tr th:only-of-type {\n",
       "        vertical-align: middle;\n",
       "    }\n",
       "\n",
       "    .dataframe tbody tr th {\n",
       "        vertical-align: top;\n",
       "    }\n",
       "\n",
       "    .dataframe thead th {\n",
       "        text-align: right;\n",
       "    }\n",
       "</style>\n",
       "<table border=\"1\" class=\"dataframe\">\n",
       "  <thead>\n",
       "    <tr style=\"text-align: right;\">\n",
       "      <th></th>\n",
       "      <th>RowNumber</th>\n",
       "      <th>CustomerId</th>\n",
       "      <th>Surname</th>\n",
       "      <th>CreditScore</th>\n",
       "      <th>Geography</th>\n",
       "      <th>Gender</th>\n",
       "      <th>Age</th>\n",
       "      <th>Tenure</th>\n",
       "      <th>Balance</th>\n",
       "      <th>NumOfProducts</th>\n",
       "      <th>HasCrCard</th>\n",
       "      <th>IsActiveMember</th>\n",
       "      <th>EstimatedSalary</th>\n",
       "      <th>Exited</th>\n",
       "    </tr>\n",
       "  </thead>\n",
       "  <tbody>\n",
       "    <tr>\n",
       "      <th>0</th>\n",
       "      <td>1</td>\n",
       "      <td>15634602</td>\n",
       "      <td>Hargrave</td>\n",
       "      <td>619</td>\n",
       "      <td>France</td>\n",
       "      <td>Female</td>\n",
       "      <td>42</td>\n",
       "      <td>2</td>\n",
       "      <td>0.00</td>\n",
       "      <td>1</td>\n",
       "      <td>1</td>\n",
       "      <td>1</td>\n",
       "      <td>101348.88</td>\n",
       "      <td>1</td>\n",
       "    </tr>\n",
       "    <tr>\n",
       "      <th>1</th>\n",
       "      <td>2</td>\n",
       "      <td>15647311</td>\n",
       "      <td>Hill</td>\n",
       "      <td>608</td>\n",
       "      <td>Spain</td>\n",
       "      <td>Female</td>\n",
       "      <td>41</td>\n",
       "      <td>1</td>\n",
       "      <td>83807.86</td>\n",
       "      <td>1</td>\n",
       "      <td>0</td>\n",
       "      <td>1</td>\n",
       "      <td>112542.58</td>\n",
       "      <td>0</td>\n",
       "    </tr>\n",
       "    <tr>\n",
       "      <th>2</th>\n",
       "      <td>3</td>\n",
       "      <td>15619304</td>\n",
       "      <td>Onio</td>\n",
       "      <td>502</td>\n",
       "      <td>France</td>\n",
       "      <td>Female</td>\n",
       "      <td>42</td>\n",
       "      <td>8</td>\n",
       "      <td>159660.80</td>\n",
       "      <td>3</td>\n",
       "      <td>1</td>\n",
       "      <td>0</td>\n",
       "      <td>113931.57</td>\n",
       "      <td>1</td>\n",
       "    </tr>\n",
       "    <tr>\n",
       "      <th>3</th>\n",
       "      <td>4</td>\n",
       "      <td>15701354</td>\n",
       "      <td>Boni</td>\n",
       "      <td>699</td>\n",
       "      <td>France</td>\n",
       "      <td>Female</td>\n",
       "      <td>39</td>\n",
       "      <td>1</td>\n",
       "      <td>0.00</td>\n",
       "      <td>2</td>\n",
       "      <td>0</td>\n",
       "      <td>0</td>\n",
       "      <td>93826.63</td>\n",
       "      <td>0</td>\n",
       "    </tr>\n",
       "    <tr>\n",
       "      <th>4</th>\n",
       "      <td>5</td>\n",
       "      <td>15737888</td>\n",
       "      <td>Mitchell</td>\n",
       "      <td>850</td>\n",
       "      <td>Spain</td>\n",
       "      <td>Female</td>\n",
       "      <td>43</td>\n",
       "      <td>2</td>\n",
       "      <td>125510.82</td>\n",
       "      <td>1</td>\n",
       "      <td>1</td>\n",
       "      <td>1</td>\n",
       "      <td>79084.10</td>\n",
       "      <td>0</td>\n",
       "    </tr>\n",
       "  </tbody>\n",
       "</table>\n",
       "</div>"
      ],
      "text/plain": [
       "   RowNumber  CustomerId   Surname  CreditScore Geography  Gender  Age  \\\n",
       "0          1    15634602  Hargrave          619    France  Female   42   \n",
       "1          2    15647311      Hill          608     Spain  Female   41   \n",
       "2          3    15619304      Onio          502    France  Female   42   \n",
       "3          4    15701354      Boni          699    France  Female   39   \n",
       "4          5    15737888  Mitchell          850     Spain  Female   43   \n",
       "\n",
       "   Tenure    Balance  NumOfProducts  HasCrCard  IsActiveMember  \\\n",
       "0       2       0.00              1          1               1   \n",
       "1       1   83807.86              1          0               1   \n",
       "2       8  159660.80              3          1               0   \n",
       "3       1       0.00              2          0               0   \n",
       "4       2  125510.82              1          1               1   \n",
       "\n",
       "   EstimatedSalary  Exited  \n",
       "0        101348.88       1  \n",
       "1        112542.58       0  \n",
       "2        113931.57       1  \n",
       "3         93826.63       0  \n",
       "4         79084.10       0  "
      ]
     },
     "execution_count": 3,
     "metadata": {},
     "output_type": "execute_result"
    }
   ],
   "source": [
    "churn=pd.read_csv(r\"C:\\Users\\Admin\\Documents\\GitHub\\edu-python\\Churn_Modelling.csv\")\n",
    "churn.head()"
   ]
  },
  {
   "cell_type": "code",
   "execution_count": 4,
   "id": "64f33fa5",
   "metadata": {},
   "outputs": [
    {
     "data": {
      "text/plain": [
       "(10000, 14)"
      ]
     },
     "execution_count": 4,
     "metadata": {},
     "output_type": "execute_result"
    }
   ],
   "source": [
    "churn.shape"
   ]
  },
  {
   "cell_type": "code",
   "execution_count": 5,
   "id": "75449a3d",
   "metadata": {},
   "outputs": [
    {
     "data": {
      "text/plain": [
       "RowNumber          0\n",
       "CustomerId         0\n",
       "Surname            0\n",
       "CreditScore        0\n",
       "Geography          0\n",
       "Gender             0\n",
       "Age                0\n",
       "Tenure             0\n",
       "Balance            0\n",
       "NumOfProducts      0\n",
       "HasCrCard          0\n",
       "IsActiveMember     0\n",
       "EstimatedSalary    0\n",
       "Exited             0\n",
       "dtype: int64"
      ]
     },
     "execution_count": 5,
     "metadata": {},
     "output_type": "execute_result"
    }
   ],
   "source": [
    "churn.isnull().sum()"
   ]
  },
  {
   "cell_type": "code",
   "execution_count": 6,
   "id": "1e165f87",
   "metadata": {},
   "outputs": [
    {
     "data": {
      "text/plain": [
       "RowNumber          10000\n",
       "CustomerId         10000\n",
       "Surname             2932\n",
       "CreditScore          460\n",
       "Geography              3\n",
       "Gender                 2\n",
       "Age                   70\n",
       "Tenure                11\n",
       "Balance             6382\n",
       "NumOfProducts          4\n",
       "HasCrCard              2\n",
       "IsActiveMember         2\n",
       "EstimatedSalary     9999\n",
       "Exited                 2\n",
       "dtype: int64"
      ]
     },
     "execution_count": 6,
     "metadata": {},
     "output_type": "execute_result"
    }
   ],
   "source": [
    "churn.nunique()"
   ]
  },
  {
   "cell_type": "code",
   "execution_count": 7,
   "id": "ca7e1678",
   "metadata": {},
   "outputs": [],
   "source": [
    "#From the above, we will not require the first 2 attributes as the are specific to a customer. \n",
    "#It is borderline with the surname as this would result to profiling so we exclude this as well.\n",
    "churn=churn.drop([\"RowNumber\", \"CustomerId\", \"Surname\"], axis = 1)"
   ]
  },
  {
   "cell_type": "markdown",
   "id": "6871ac8d",
   "metadata": {},
   "source": [
    "# Data-type Conversion"
   ]
  },
  {
   "cell_type": "code",
   "execution_count": 8,
   "id": "a1b754e2",
   "metadata": {},
   "outputs": [
    {
     "data": {
      "text/plain": [
       "CreditScore          int64\n",
       "Geography           object\n",
       "Gender              object\n",
       "Age                  int64\n",
       "Tenure               int64\n",
       "Balance            float64\n",
       "NumOfProducts        int64\n",
       "HasCrCard            int64\n",
       "IsActiveMember       int64\n",
       "EstimatedSalary    float64\n",
       "Exited               int64\n",
       "dtype: object"
      ]
     },
     "execution_count": 8,
     "metadata": {},
     "output_type": "execute_result"
    }
   ],
   "source": [
    "churn.dtypes"
   ]
  },
  {
   "cell_type": "code",
   "execution_count": 9,
   "id": "11eb69fc",
   "metadata": {},
   "outputs": [],
   "source": [
    "churn.Geography=le.fit_transform(churn.Geography)\n",
    "churn.Gender=le.fit_transform(churn.Gender)"
   ]
  },
  {
   "cell_type": "code",
   "execution_count": 10,
   "id": "44c2a98d",
   "metadata": {},
   "outputs": [
    {
     "data": {
      "text/plain": [
       "CreditScore          int64\n",
       "Geography            int32\n",
       "Gender               int32\n",
       "Age                  int64\n",
       "Tenure               int64\n",
       "Balance            float64\n",
       "NumOfProducts        int64\n",
       "HasCrCard            int64\n",
       "IsActiveMember       int64\n",
       "EstimatedSalary    float64\n",
       "Exited               int64\n",
       "dtype: object"
      ]
     },
     "execution_count": 10,
     "metadata": {},
     "output_type": "execute_result"
    }
   ],
   "source": [
    "churn.dtypes"
   ]
  },
  {
   "cell_type": "markdown",
   "id": "dc011d4d",
   "metadata": {},
   "source": [
    "# Model"
   ]
  },
  {
   "cell_type": "code",
   "execution_count": 11,
   "id": "903523fd",
   "metadata": {},
   "outputs": [],
   "source": [
    "from sklearn.metrics import confusion_matrix,classification_report,f1_score,accuracy_score,precision_score,recall_score"
   ]
  },
  {
   "cell_type": "code",
   "execution_count": 12,
   "id": "24a0e1ce",
   "metadata": {},
   "outputs": [
    {
     "data": {
      "text/html": [
       "<div>\n",
       "<style scoped>\n",
       "    .dataframe tbody tr th:only-of-type {\n",
       "        vertical-align: middle;\n",
       "    }\n",
       "\n",
       "    .dataframe tbody tr th {\n",
       "        vertical-align: top;\n",
       "    }\n",
       "\n",
       "    .dataframe thead th {\n",
       "        text-align: right;\n",
       "    }\n",
       "</style>\n",
       "<table border=\"1\" class=\"dataframe\">\n",
       "  <thead>\n",
       "    <tr style=\"text-align: right;\">\n",
       "      <th></th>\n",
       "      <th>CreditScore</th>\n",
       "      <th>Geography</th>\n",
       "      <th>Gender</th>\n",
       "      <th>Age</th>\n",
       "      <th>Tenure</th>\n",
       "      <th>Balance</th>\n",
       "      <th>NumOfProducts</th>\n",
       "      <th>HasCrCard</th>\n",
       "      <th>IsActiveMember</th>\n",
       "      <th>EstimatedSalary</th>\n",
       "      <th>Exited</th>\n",
       "    </tr>\n",
       "  </thead>\n",
       "  <tbody>\n",
       "    <tr>\n",
       "      <th>0</th>\n",
       "      <td>619</td>\n",
       "      <td>0</td>\n",
       "      <td>0</td>\n",
       "      <td>42</td>\n",
       "      <td>2</td>\n",
       "      <td>0.00</td>\n",
       "      <td>1</td>\n",
       "      <td>1</td>\n",
       "      <td>1</td>\n",
       "      <td>101348.88</td>\n",
       "      <td>1</td>\n",
       "    </tr>\n",
       "    <tr>\n",
       "      <th>1</th>\n",
       "      <td>608</td>\n",
       "      <td>2</td>\n",
       "      <td>0</td>\n",
       "      <td>41</td>\n",
       "      <td>1</td>\n",
       "      <td>83807.86</td>\n",
       "      <td>1</td>\n",
       "      <td>0</td>\n",
       "      <td>1</td>\n",
       "      <td>112542.58</td>\n",
       "      <td>0</td>\n",
       "    </tr>\n",
       "    <tr>\n",
       "      <th>2</th>\n",
       "      <td>502</td>\n",
       "      <td>0</td>\n",
       "      <td>0</td>\n",
       "      <td>42</td>\n",
       "      <td>8</td>\n",
       "      <td>159660.80</td>\n",
       "      <td>3</td>\n",
       "      <td>1</td>\n",
       "      <td>0</td>\n",
       "      <td>113931.57</td>\n",
       "      <td>1</td>\n",
       "    </tr>\n",
       "    <tr>\n",
       "      <th>3</th>\n",
       "      <td>699</td>\n",
       "      <td>0</td>\n",
       "      <td>0</td>\n",
       "      <td>39</td>\n",
       "      <td>1</td>\n",
       "      <td>0.00</td>\n",
       "      <td>2</td>\n",
       "      <td>0</td>\n",
       "      <td>0</td>\n",
       "      <td>93826.63</td>\n",
       "      <td>0</td>\n",
       "    </tr>\n",
       "    <tr>\n",
       "      <th>4</th>\n",
       "      <td>850</td>\n",
       "      <td>2</td>\n",
       "      <td>0</td>\n",
       "      <td>43</td>\n",
       "      <td>2</td>\n",
       "      <td>125510.82</td>\n",
       "      <td>1</td>\n",
       "      <td>1</td>\n",
       "      <td>1</td>\n",
       "      <td>79084.10</td>\n",
       "      <td>0</td>\n",
       "    </tr>\n",
       "  </tbody>\n",
       "</table>\n",
       "</div>"
      ],
      "text/plain": [
       "   CreditScore  Geography  Gender  Age  Tenure    Balance  NumOfProducts  \\\n",
       "0          619          0       0   42       2       0.00              1   \n",
       "1          608          2       0   41       1   83807.86              1   \n",
       "2          502          0       0   42       8  159660.80              3   \n",
       "3          699          0       0   39       1       0.00              2   \n",
       "4          850          2       0   43       2  125510.82              1   \n",
       "\n",
       "   HasCrCard  IsActiveMember  EstimatedSalary  Exited  \n",
       "0          1               1        101348.88       1  \n",
       "1          0               1        112542.58       0  \n",
       "2          1               0        113931.57       1  \n",
       "3          0               0         93826.63       0  \n",
       "4          1               1         79084.10       0  "
      ]
     },
     "execution_count": 12,
     "metadata": {},
     "output_type": "execute_result"
    }
   ],
   "source": [
    "churn.head(5)"
   ]
  },
  {
   "cell_type": "code",
   "execution_count": 13,
   "id": "db72edfb",
   "metadata": {},
   "outputs": [],
   "source": [
    "x=churn.iloc[:,0:-1]\n",
    "y=churn.iloc[:,-1]"
   ]
  },
  {
   "cell_type": "code",
   "execution_count": 14,
   "id": "b8ebbcc5",
   "metadata": {},
   "outputs": [
    {
     "data": {
      "text/plain": [
       "0    1\n",
       "1    0\n",
       "Name: Exited, dtype: int64"
      ]
     },
     "execution_count": 14,
     "metadata": {},
     "output_type": "execute_result"
    }
   ],
   "source": [
    "y.head(2)"
   ]
  },
  {
   "cell_type": "code",
   "execution_count": 15,
   "id": "e8aa509e",
   "metadata": {},
   "outputs": [
    {
     "data": {
      "text/plain": [
       "((8000, 10), (2000, 10), (8000,), (2000,))"
      ]
     },
     "execution_count": 15,
     "metadata": {},
     "output_type": "execute_result"
    }
   ],
   "source": [
    "from sklearn.model_selection import train_test_split\n",
    "x_train,x_test,y_train,y_test=train_test_split(x,y,test_size=0.2,random_state=101)\n",
    "x_train.shape,x_test.shape,y_train.shape,y_test.shape"
   ]
  },
  {
   "cell_type": "markdown",
   "id": "bc022189",
   "metadata": {},
   "source": [
    "# Logistic Regression"
   ]
  },
  {
   "cell_type": "code",
   "execution_count": 16,
   "id": "679e3996",
   "metadata": {},
   "outputs": [],
   "source": [
    "from sklearn.linear_model import LogisticRegression\n",
    "lg=LogisticRegression()"
   ]
  },
  {
   "cell_type": "code",
   "execution_count": 17,
   "id": "ae1f2a5e",
   "metadata": {},
   "outputs": [
    {
     "data": {
      "text/html": [
       "<style>#sk-container-id-1 {color: black;}#sk-container-id-1 pre{padding: 0;}#sk-container-id-1 div.sk-toggleable {background-color: white;}#sk-container-id-1 label.sk-toggleable__label {cursor: pointer;display: block;width: 100%;margin-bottom: 0;padding: 0.3em;box-sizing: border-box;text-align: center;}#sk-container-id-1 label.sk-toggleable__label-arrow:before {content: \"▸\";float: left;margin-right: 0.25em;color: #696969;}#sk-container-id-1 label.sk-toggleable__label-arrow:hover:before {color: black;}#sk-container-id-1 div.sk-estimator:hover label.sk-toggleable__label-arrow:before {color: black;}#sk-container-id-1 div.sk-toggleable__content {max-height: 0;max-width: 0;overflow: hidden;text-align: left;background-color: #f0f8ff;}#sk-container-id-1 div.sk-toggleable__content pre {margin: 0.2em;color: black;border-radius: 0.25em;background-color: #f0f8ff;}#sk-container-id-1 input.sk-toggleable__control:checked~div.sk-toggleable__content {max-height: 200px;max-width: 100%;overflow: auto;}#sk-container-id-1 input.sk-toggleable__control:checked~label.sk-toggleable__label-arrow:before {content: \"▾\";}#sk-container-id-1 div.sk-estimator input.sk-toggleable__control:checked~label.sk-toggleable__label {background-color: #d4ebff;}#sk-container-id-1 div.sk-label input.sk-toggleable__control:checked~label.sk-toggleable__label {background-color: #d4ebff;}#sk-container-id-1 input.sk-hidden--visually {border: 0;clip: rect(1px 1px 1px 1px);clip: rect(1px, 1px, 1px, 1px);height: 1px;margin: -1px;overflow: hidden;padding: 0;position: absolute;width: 1px;}#sk-container-id-1 div.sk-estimator {font-family: monospace;background-color: #f0f8ff;border: 1px dotted black;border-radius: 0.25em;box-sizing: border-box;margin-bottom: 0.5em;}#sk-container-id-1 div.sk-estimator:hover {background-color: #d4ebff;}#sk-container-id-1 div.sk-parallel-item::after {content: \"\";width: 100%;border-bottom: 1px solid gray;flex-grow: 1;}#sk-container-id-1 div.sk-label:hover label.sk-toggleable__label {background-color: #d4ebff;}#sk-container-id-1 div.sk-serial::before {content: \"\";position: absolute;border-left: 1px solid gray;box-sizing: border-box;top: 0;bottom: 0;left: 50%;z-index: 0;}#sk-container-id-1 div.sk-serial {display: flex;flex-direction: column;align-items: center;background-color: white;padding-right: 0.2em;padding-left: 0.2em;position: relative;}#sk-container-id-1 div.sk-item {position: relative;z-index: 1;}#sk-container-id-1 div.sk-parallel {display: flex;align-items: stretch;justify-content: center;background-color: white;position: relative;}#sk-container-id-1 div.sk-item::before, #sk-container-id-1 div.sk-parallel-item::before {content: \"\";position: absolute;border-left: 1px solid gray;box-sizing: border-box;top: 0;bottom: 0;left: 50%;z-index: -1;}#sk-container-id-1 div.sk-parallel-item {display: flex;flex-direction: column;z-index: 1;position: relative;background-color: white;}#sk-container-id-1 div.sk-parallel-item:first-child::after {align-self: flex-end;width: 50%;}#sk-container-id-1 div.sk-parallel-item:last-child::after {align-self: flex-start;width: 50%;}#sk-container-id-1 div.sk-parallel-item:only-child::after {width: 0;}#sk-container-id-1 div.sk-dashed-wrapped {border: 1px dashed gray;margin: 0 0.4em 0.5em 0.4em;box-sizing: border-box;padding-bottom: 0.4em;background-color: white;}#sk-container-id-1 div.sk-label label {font-family: monospace;font-weight: bold;display: inline-block;line-height: 1.2em;}#sk-container-id-1 div.sk-label-container {text-align: center;}#sk-container-id-1 div.sk-container {/* jupyter's `normalize.less` sets `[hidden] { display: none; }` but bootstrap.min.css set `[hidden] { display: none !important; }` so we also need the `!important` here to be able to override the default hidden behavior on the sphinx rendered scikit-learn.org. See: https://github.com/scikit-learn/scikit-learn/issues/21755 */display: inline-block !important;position: relative;}#sk-container-id-1 div.sk-text-repr-fallback {display: none;}</style><div id=\"sk-container-id-1\" class=\"sk-top-container\"><div class=\"sk-text-repr-fallback\"><pre>LogisticRegression()</pre><b>In a Jupyter environment, please rerun this cell to show the HTML representation or trust the notebook. <br />On GitHub, the HTML representation is unable to render, please try loading this page with nbviewer.org.</b></div><div class=\"sk-container\" hidden><div class=\"sk-item\"><div class=\"sk-estimator sk-toggleable\"><input class=\"sk-toggleable__control sk-hidden--visually\" id=\"sk-estimator-id-1\" type=\"checkbox\" checked><label for=\"sk-estimator-id-1\" class=\"sk-toggleable__label sk-toggleable__label-arrow\">LogisticRegression</label><div class=\"sk-toggleable__content\"><pre>LogisticRegression()</pre></div></div></div></div></div>"
      ],
      "text/plain": [
       "LogisticRegression()"
      ]
     },
     "execution_count": 17,
     "metadata": {},
     "output_type": "execute_result"
    }
   ],
   "source": [
    "lg.fit(x_train,y_train)"
   ]
  },
  {
   "cell_type": "code",
   "execution_count": 18,
   "id": "a717d482",
   "metadata": {},
   "outputs": [
    {
     "data": {
      "text/plain": [
       "array([0, 0, 0, ..., 0, 0, 0], dtype=int64)"
      ]
     },
     "execution_count": 18,
     "metadata": {},
     "output_type": "execute_result"
    }
   ],
   "source": [
    "lg_p=lg.predict(x_test)\n",
    "lg_p"
   ]
  },
  {
   "cell_type": "code",
   "execution_count": 19,
   "id": "67f03174",
   "metadata": {},
   "outputs": [],
   "source": [
    "prob=lg.predict_proba(x_test)\n",
    "#prob"
   ]
  },
  {
   "cell_type": "code",
   "execution_count": 20,
   "id": "7d04b785",
   "metadata": {},
   "outputs": [],
   "source": [
    "df=pd.DataFrame(prob)\n",
    "#df"
   ]
  },
  {
   "cell_type": "code",
   "execution_count": 21,
   "id": "d341b87e",
   "metadata": {},
   "outputs": [
    {
     "data": {
      "text/plain": [
       "array([[1542,   35],\n",
       "       [ 403,   20]], dtype=int64)"
      ]
     },
     "execution_count": 21,
     "metadata": {},
     "output_type": "execute_result"
    }
   ],
   "source": [
    "from sklearn.metrics import confusion_matrix\n",
    "lg_cf=confusion_matrix(y_test,lg_p)\n",
    "lg_cf "
   ]
  },
  {
   "cell_type": "code",
   "execution_count": 22,
   "id": "d951dfa6",
   "metadata": {},
   "outputs": [
    {
     "data": {
      "text/plain": [
       "78.10000000000001"
      ]
     },
     "execution_count": 22,
     "metadata": {},
     "output_type": "execute_result"
    }
   ],
   "source": [
    "lg_ac=lg_cf.diagonal().sum()/lg_cf.sum()*100\n",
    "lg_ac"
   ]
  },
  {
   "cell_type": "code",
   "execution_count": 23,
   "id": "6c3b83b7",
   "metadata": {},
   "outputs": [],
   "source": [
    "a=f1_score(y_test,lg_p)\n",
    "b=precision_score(y_test,lg_p)\n",
    "c=recall_score(y_test,lg_p)"
   ]
  },
  {
   "cell_type": "code",
   "execution_count": 24,
   "id": "2d11fa35",
   "metadata": {},
   "outputs": [
    {
     "name": "stdout",
     "output_type": "stream",
     "text": [
      "              precision    recall  f1-score   support\n",
      "\n",
      "           0       0.79      0.98      0.88      1577\n",
      "           1       0.36      0.05      0.08       423\n",
      "\n",
      "    accuracy                           0.78      2000\n",
      "   macro avg       0.58      0.51      0.48      2000\n",
      "weighted avg       0.70      0.78      0.71      2000\n",
      "\n"
     ]
    }
   ],
   "source": [
    "print(classification_report(y_test,lg_p))"
   ]
  },
  {
   "cell_type": "markdown",
   "id": "e3f10004",
   "metadata": {},
   "source": [
    "# Decision Tree"
   ]
  },
  {
   "cell_type": "code",
   "execution_count": 25,
   "id": "142cad30",
   "metadata": {},
   "outputs": [],
   "source": [
    "from sklearn.tree import DecisionTreeClassifier\n",
    "dt=DecisionTreeClassifier()"
   ]
  },
  {
   "cell_type": "code",
   "execution_count": 26,
   "id": "892b1060",
   "metadata": {},
   "outputs": [
    {
     "data": {
      "text/html": [
       "<style>#sk-container-id-2 {color: black;}#sk-container-id-2 pre{padding: 0;}#sk-container-id-2 div.sk-toggleable {background-color: white;}#sk-container-id-2 label.sk-toggleable__label {cursor: pointer;display: block;width: 100%;margin-bottom: 0;padding: 0.3em;box-sizing: border-box;text-align: center;}#sk-container-id-2 label.sk-toggleable__label-arrow:before {content: \"▸\";float: left;margin-right: 0.25em;color: #696969;}#sk-container-id-2 label.sk-toggleable__label-arrow:hover:before {color: black;}#sk-container-id-2 div.sk-estimator:hover label.sk-toggleable__label-arrow:before {color: black;}#sk-container-id-2 div.sk-toggleable__content {max-height: 0;max-width: 0;overflow: hidden;text-align: left;background-color: #f0f8ff;}#sk-container-id-2 div.sk-toggleable__content pre {margin: 0.2em;color: black;border-radius: 0.25em;background-color: #f0f8ff;}#sk-container-id-2 input.sk-toggleable__control:checked~div.sk-toggleable__content {max-height: 200px;max-width: 100%;overflow: auto;}#sk-container-id-2 input.sk-toggleable__control:checked~label.sk-toggleable__label-arrow:before {content: \"▾\";}#sk-container-id-2 div.sk-estimator input.sk-toggleable__control:checked~label.sk-toggleable__label {background-color: #d4ebff;}#sk-container-id-2 div.sk-label input.sk-toggleable__control:checked~label.sk-toggleable__label {background-color: #d4ebff;}#sk-container-id-2 input.sk-hidden--visually {border: 0;clip: rect(1px 1px 1px 1px);clip: rect(1px, 1px, 1px, 1px);height: 1px;margin: -1px;overflow: hidden;padding: 0;position: absolute;width: 1px;}#sk-container-id-2 div.sk-estimator {font-family: monospace;background-color: #f0f8ff;border: 1px dotted black;border-radius: 0.25em;box-sizing: border-box;margin-bottom: 0.5em;}#sk-container-id-2 div.sk-estimator:hover {background-color: #d4ebff;}#sk-container-id-2 div.sk-parallel-item::after {content: \"\";width: 100%;border-bottom: 1px solid gray;flex-grow: 1;}#sk-container-id-2 div.sk-label:hover label.sk-toggleable__label {background-color: #d4ebff;}#sk-container-id-2 div.sk-serial::before {content: \"\";position: absolute;border-left: 1px solid gray;box-sizing: border-box;top: 0;bottom: 0;left: 50%;z-index: 0;}#sk-container-id-2 div.sk-serial {display: flex;flex-direction: column;align-items: center;background-color: white;padding-right: 0.2em;padding-left: 0.2em;position: relative;}#sk-container-id-2 div.sk-item {position: relative;z-index: 1;}#sk-container-id-2 div.sk-parallel {display: flex;align-items: stretch;justify-content: center;background-color: white;position: relative;}#sk-container-id-2 div.sk-item::before, #sk-container-id-2 div.sk-parallel-item::before {content: \"\";position: absolute;border-left: 1px solid gray;box-sizing: border-box;top: 0;bottom: 0;left: 50%;z-index: -1;}#sk-container-id-2 div.sk-parallel-item {display: flex;flex-direction: column;z-index: 1;position: relative;background-color: white;}#sk-container-id-2 div.sk-parallel-item:first-child::after {align-self: flex-end;width: 50%;}#sk-container-id-2 div.sk-parallel-item:last-child::after {align-self: flex-start;width: 50%;}#sk-container-id-2 div.sk-parallel-item:only-child::after {width: 0;}#sk-container-id-2 div.sk-dashed-wrapped {border: 1px dashed gray;margin: 0 0.4em 0.5em 0.4em;box-sizing: border-box;padding-bottom: 0.4em;background-color: white;}#sk-container-id-2 div.sk-label label {font-family: monospace;font-weight: bold;display: inline-block;line-height: 1.2em;}#sk-container-id-2 div.sk-label-container {text-align: center;}#sk-container-id-2 div.sk-container {/* jupyter's `normalize.less` sets `[hidden] { display: none; }` but bootstrap.min.css set `[hidden] { display: none !important; }` so we also need the `!important` here to be able to override the default hidden behavior on the sphinx rendered scikit-learn.org. See: https://github.com/scikit-learn/scikit-learn/issues/21755 */display: inline-block !important;position: relative;}#sk-container-id-2 div.sk-text-repr-fallback {display: none;}</style><div id=\"sk-container-id-2\" class=\"sk-top-container\"><div class=\"sk-text-repr-fallback\"><pre>DecisionTreeClassifier()</pre><b>In a Jupyter environment, please rerun this cell to show the HTML representation or trust the notebook. <br />On GitHub, the HTML representation is unable to render, please try loading this page with nbviewer.org.</b></div><div class=\"sk-container\" hidden><div class=\"sk-item\"><div class=\"sk-estimator sk-toggleable\"><input class=\"sk-toggleable__control sk-hidden--visually\" id=\"sk-estimator-id-2\" type=\"checkbox\" checked><label for=\"sk-estimator-id-2\" class=\"sk-toggleable__label sk-toggleable__label-arrow\">DecisionTreeClassifier</label><div class=\"sk-toggleable__content\"><pre>DecisionTreeClassifier()</pre></div></div></div></div></div>"
      ],
      "text/plain": [
       "DecisionTreeClassifier()"
      ]
     },
     "execution_count": 26,
     "metadata": {},
     "output_type": "execute_result"
    }
   ],
   "source": [
    "dt.fit(x_train,y_train)"
   ]
  },
  {
   "cell_type": "code",
   "execution_count": 27,
   "id": "e5f8376e",
   "metadata": {},
   "outputs": [
    {
     "data": {
      "text/plain": [
       "array([0, 0, 1, ..., 0, 0, 0], dtype=int64)"
      ]
     },
     "execution_count": 27,
     "metadata": {},
     "output_type": "execute_result"
    }
   ],
   "source": [
    "dt_p=dt.predict(x_test)\n",
    "dt_p"
   ]
  },
  {
   "cell_type": "code",
   "execution_count": 28,
   "id": "ca20e670",
   "metadata": {},
   "outputs": [
    {
     "data": {
      "text/plain": [
       "array([[1350,  227],\n",
       "       [ 205,  218]], dtype=int64)"
      ]
     },
     "execution_count": 28,
     "metadata": {},
     "output_type": "execute_result"
    }
   ],
   "source": [
    "dt_cf=confusion_matrix(y_test,dt_p)\n",
    "dt_cf"
   ]
  },
  {
   "cell_type": "code",
   "execution_count": 29,
   "id": "23f0db31",
   "metadata": {},
   "outputs": [
    {
     "data": {
      "text/plain": [
       "78.4"
      ]
     },
     "execution_count": 29,
     "metadata": {},
     "output_type": "execute_result"
    }
   ],
   "source": [
    "dt_ac=dt_cf.diagonal().sum()/dt_cf.sum()*100\n",
    "dt_ac"
   ]
  },
  {
   "cell_type": "code",
   "execution_count": 30,
   "id": "5c5b28ba",
   "metadata": {},
   "outputs": [],
   "source": [
    "a1=f1_score(y_test,dt_p)\n",
    "b1=precision_score(y_test,dt_p)\n",
    "c1=recall_score(y_test,dt_p)"
   ]
  },
  {
   "cell_type": "code",
   "execution_count": 31,
   "id": "e69a4e9a",
   "metadata": {},
   "outputs": [
    {
     "name": "stdout",
     "output_type": "stream",
     "text": [
      "              precision    recall  f1-score   support\n",
      "\n",
      "           0       0.87      0.86      0.86      1577\n",
      "           1       0.49      0.52      0.50       423\n",
      "\n",
      "    accuracy                           0.78      2000\n",
      "   macro avg       0.68      0.69      0.68      2000\n",
      "weighted avg       0.79      0.78      0.79      2000\n",
      "\n"
     ]
    }
   ],
   "source": [
    "print(classification_report(y_test,dt_p))"
   ]
  },
  {
   "cell_type": "markdown",
   "id": "219cdda0",
   "metadata": {},
   "source": [
    "# Random Forest"
   ]
  },
  {
   "cell_type": "code",
   "execution_count": 32,
   "id": "dc2220bd",
   "metadata": {},
   "outputs": [],
   "source": [
    "from sklearn.ensemble import RandomForestClassifier\n",
    "rf=RandomForestClassifier()"
   ]
  },
  {
   "cell_type": "code",
   "execution_count": 33,
   "id": "ba99bcf7",
   "metadata": {},
   "outputs": [
    {
     "data": {
      "text/html": [
       "<style>#sk-container-id-3 {color: black;}#sk-container-id-3 pre{padding: 0;}#sk-container-id-3 div.sk-toggleable {background-color: white;}#sk-container-id-3 label.sk-toggleable__label {cursor: pointer;display: block;width: 100%;margin-bottom: 0;padding: 0.3em;box-sizing: border-box;text-align: center;}#sk-container-id-3 label.sk-toggleable__label-arrow:before {content: \"▸\";float: left;margin-right: 0.25em;color: #696969;}#sk-container-id-3 label.sk-toggleable__label-arrow:hover:before {color: black;}#sk-container-id-3 div.sk-estimator:hover label.sk-toggleable__label-arrow:before {color: black;}#sk-container-id-3 div.sk-toggleable__content {max-height: 0;max-width: 0;overflow: hidden;text-align: left;background-color: #f0f8ff;}#sk-container-id-3 div.sk-toggleable__content pre {margin: 0.2em;color: black;border-radius: 0.25em;background-color: #f0f8ff;}#sk-container-id-3 input.sk-toggleable__control:checked~div.sk-toggleable__content {max-height: 200px;max-width: 100%;overflow: auto;}#sk-container-id-3 input.sk-toggleable__control:checked~label.sk-toggleable__label-arrow:before {content: \"▾\";}#sk-container-id-3 div.sk-estimator input.sk-toggleable__control:checked~label.sk-toggleable__label {background-color: #d4ebff;}#sk-container-id-3 div.sk-label input.sk-toggleable__control:checked~label.sk-toggleable__label {background-color: #d4ebff;}#sk-container-id-3 input.sk-hidden--visually {border: 0;clip: rect(1px 1px 1px 1px);clip: rect(1px, 1px, 1px, 1px);height: 1px;margin: -1px;overflow: hidden;padding: 0;position: absolute;width: 1px;}#sk-container-id-3 div.sk-estimator {font-family: monospace;background-color: #f0f8ff;border: 1px dotted black;border-radius: 0.25em;box-sizing: border-box;margin-bottom: 0.5em;}#sk-container-id-3 div.sk-estimator:hover {background-color: #d4ebff;}#sk-container-id-3 div.sk-parallel-item::after {content: \"\";width: 100%;border-bottom: 1px solid gray;flex-grow: 1;}#sk-container-id-3 div.sk-label:hover label.sk-toggleable__label {background-color: #d4ebff;}#sk-container-id-3 div.sk-serial::before {content: \"\";position: absolute;border-left: 1px solid gray;box-sizing: border-box;top: 0;bottom: 0;left: 50%;z-index: 0;}#sk-container-id-3 div.sk-serial {display: flex;flex-direction: column;align-items: center;background-color: white;padding-right: 0.2em;padding-left: 0.2em;position: relative;}#sk-container-id-3 div.sk-item {position: relative;z-index: 1;}#sk-container-id-3 div.sk-parallel {display: flex;align-items: stretch;justify-content: center;background-color: white;position: relative;}#sk-container-id-3 div.sk-item::before, #sk-container-id-3 div.sk-parallel-item::before {content: \"\";position: absolute;border-left: 1px solid gray;box-sizing: border-box;top: 0;bottom: 0;left: 50%;z-index: -1;}#sk-container-id-3 div.sk-parallel-item {display: flex;flex-direction: column;z-index: 1;position: relative;background-color: white;}#sk-container-id-3 div.sk-parallel-item:first-child::after {align-self: flex-end;width: 50%;}#sk-container-id-3 div.sk-parallel-item:last-child::after {align-self: flex-start;width: 50%;}#sk-container-id-3 div.sk-parallel-item:only-child::after {width: 0;}#sk-container-id-3 div.sk-dashed-wrapped {border: 1px dashed gray;margin: 0 0.4em 0.5em 0.4em;box-sizing: border-box;padding-bottom: 0.4em;background-color: white;}#sk-container-id-3 div.sk-label label {font-family: monospace;font-weight: bold;display: inline-block;line-height: 1.2em;}#sk-container-id-3 div.sk-label-container {text-align: center;}#sk-container-id-3 div.sk-container {/* jupyter's `normalize.less` sets `[hidden] { display: none; }` but bootstrap.min.css set `[hidden] { display: none !important; }` so we also need the `!important` here to be able to override the default hidden behavior on the sphinx rendered scikit-learn.org. See: https://github.com/scikit-learn/scikit-learn/issues/21755 */display: inline-block !important;position: relative;}#sk-container-id-3 div.sk-text-repr-fallback {display: none;}</style><div id=\"sk-container-id-3\" class=\"sk-top-container\"><div class=\"sk-text-repr-fallback\"><pre>RandomForestClassifier()</pre><b>In a Jupyter environment, please rerun this cell to show the HTML representation or trust the notebook. <br />On GitHub, the HTML representation is unable to render, please try loading this page with nbviewer.org.</b></div><div class=\"sk-container\" hidden><div class=\"sk-item\"><div class=\"sk-estimator sk-toggleable\"><input class=\"sk-toggleable__control sk-hidden--visually\" id=\"sk-estimator-id-3\" type=\"checkbox\" checked><label for=\"sk-estimator-id-3\" class=\"sk-toggleable__label sk-toggleable__label-arrow\">RandomForestClassifier</label><div class=\"sk-toggleable__content\"><pre>RandomForestClassifier()</pre></div></div></div></div></div>"
      ],
      "text/plain": [
       "RandomForestClassifier()"
      ]
     },
     "execution_count": 33,
     "metadata": {},
     "output_type": "execute_result"
    }
   ],
   "source": [
    "rf.fit(x_train,y_train)"
   ]
  },
  {
   "cell_type": "code",
   "execution_count": 34,
   "id": "f06500cd",
   "metadata": {},
   "outputs": [],
   "source": [
    "rf_p=rf.predict(x_test)"
   ]
  },
  {
   "cell_type": "code",
   "execution_count": 35,
   "id": "f405e93d",
   "metadata": {},
   "outputs": [
    {
     "data": {
      "text/plain": [
       "array([[1520,   57],\n",
       "       [ 204,  219]], dtype=int64)"
      ]
     },
     "execution_count": 35,
     "metadata": {},
     "output_type": "execute_result"
    }
   ],
   "source": [
    "rf_cf=confusion_matrix(y_test,rf_p)\n",
    "rf_cf"
   ]
  },
  {
   "cell_type": "code",
   "execution_count": 36,
   "id": "830c5ddf",
   "metadata": {},
   "outputs": [
    {
     "data": {
      "text/plain": [
       "86.95"
      ]
     },
     "execution_count": 36,
     "metadata": {},
     "output_type": "execute_result"
    }
   ],
   "source": [
    "rf_ac=rf_cf.diagonal().sum()/rf_cf.sum()*100\n",
    "rf_ac"
   ]
  },
  {
   "cell_type": "code",
   "execution_count": 37,
   "id": "e175bf67",
   "metadata": {},
   "outputs": [],
   "source": [
    "a2=f1_score(y_test,rf_p)\n",
    "b2=precision_score(y_test,rf_p)\n",
    "c2=recall_score(y_test,rf_p)"
   ]
  },
  {
   "cell_type": "code",
   "execution_count": 38,
   "id": "76d935d4",
   "metadata": {},
   "outputs": [
    {
     "name": "stdout",
     "output_type": "stream",
     "text": [
      "              precision    recall  f1-score   support\n",
      "\n",
      "           0       0.88      0.96      0.92      1577\n",
      "           1       0.79      0.52      0.63       423\n",
      "\n",
      "    accuracy                           0.87      2000\n",
      "   macro avg       0.84      0.74      0.77      2000\n",
      "weighted avg       0.86      0.87      0.86      2000\n",
      "\n"
     ]
    }
   ],
   "source": [
    "print(classification_report(y_test,rf_p))"
   ]
  },
  {
   "cell_type": "markdown",
   "id": "bc394a0f",
   "metadata": {},
   "source": [
    "# KNN"
   ]
  },
  {
   "cell_type": "code",
   "execution_count": 39,
   "id": "34cb5510",
   "metadata": {},
   "outputs": [],
   "source": [
    "from sklearn.neighbors import KNeighborsClassifier\n",
    "knn=KNeighborsClassifier()"
   ]
  },
  {
   "cell_type": "code",
   "execution_count": 40,
   "id": "3e328815",
   "metadata": {},
   "outputs": [
    {
     "data": {
      "text/html": [
       "<style>#sk-container-id-4 {color: black;}#sk-container-id-4 pre{padding: 0;}#sk-container-id-4 div.sk-toggleable {background-color: white;}#sk-container-id-4 label.sk-toggleable__label {cursor: pointer;display: block;width: 100%;margin-bottom: 0;padding: 0.3em;box-sizing: border-box;text-align: center;}#sk-container-id-4 label.sk-toggleable__label-arrow:before {content: \"▸\";float: left;margin-right: 0.25em;color: #696969;}#sk-container-id-4 label.sk-toggleable__label-arrow:hover:before {color: black;}#sk-container-id-4 div.sk-estimator:hover label.sk-toggleable__label-arrow:before {color: black;}#sk-container-id-4 div.sk-toggleable__content {max-height: 0;max-width: 0;overflow: hidden;text-align: left;background-color: #f0f8ff;}#sk-container-id-4 div.sk-toggleable__content pre {margin: 0.2em;color: black;border-radius: 0.25em;background-color: #f0f8ff;}#sk-container-id-4 input.sk-toggleable__control:checked~div.sk-toggleable__content {max-height: 200px;max-width: 100%;overflow: auto;}#sk-container-id-4 input.sk-toggleable__control:checked~label.sk-toggleable__label-arrow:before {content: \"▾\";}#sk-container-id-4 div.sk-estimator input.sk-toggleable__control:checked~label.sk-toggleable__label {background-color: #d4ebff;}#sk-container-id-4 div.sk-label input.sk-toggleable__control:checked~label.sk-toggleable__label {background-color: #d4ebff;}#sk-container-id-4 input.sk-hidden--visually {border: 0;clip: rect(1px 1px 1px 1px);clip: rect(1px, 1px, 1px, 1px);height: 1px;margin: -1px;overflow: hidden;padding: 0;position: absolute;width: 1px;}#sk-container-id-4 div.sk-estimator {font-family: monospace;background-color: #f0f8ff;border: 1px dotted black;border-radius: 0.25em;box-sizing: border-box;margin-bottom: 0.5em;}#sk-container-id-4 div.sk-estimator:hover {background-color: #d4ebff;}#sk-container-id-4 div.sk-parallel-item::after {content: \"\";width: 100%;border-bottom: 1px solid gray;flex-grow: 1;}#sk-container-id-4 div.sk-label:hover label.sk-toggleable__label {background-color: #d4ebff;}#sk-container-id-4 div.sk-serial::before {content: \"\";position: absolute;border-left: 1px solid gray;box-sizing: border-box;top: 0;bottom: 0;left: 50%;z-index: 0;}#sk-container-id-4 div.sk-serial {display: flex;flex-direction: column;align-items: center;background-color: white;padding-right: 0.2em;padding-left: 0.2em;position: relative;}#sk-container-id-4 div.sk-item {position: relative;z-index: 1;}#sk-container-id-4 div.sk-parallel {display: flex;align-items: stretch;justify-content: center;background-color: white;position: relative;}#sk-container-id-4 div.sk-item::before, #sk-container-id-4 div.sk-parallel-item::before {content: \"\";position: absolute;border-left: 1px solid gray;box-sizing: border-box;top: 0;bottom: 0;left: 50%;z-index: -1;}#sk-container-id-4 div.sk-parallel-item {display: flex;flex-direction: column;z-index: 1;position: relative;background-color: white;}#sk-container-id-4 div.sk-parallel-item:first-child::after {align-self: flex-end;width: 50%;}#sk-container-id-4 div.sk-parallel-item:last-child::after {align-self: flex-start;width: 50%;}#sk-container-id-4 div.sk-parallel-item:only-child::after {width: 0;}#sk-container-id-4 div.sk-dashed-wrapped {border: 1px dashed gray;margin: 0 0.4em 0.5em 0.4em;box-sizing: border-box;padding-bottom: 0.4em;background-color: white;}#sk-container-id-4 div.sk-label label {font-family: monospace;font-weight: bold;display: inline-block;line-height: 1.2em;}#sk-container-id-4 div.sk-label-container {text-align: center;}#sk-container-id-4 div.sk-container {/* jupyter's `normalize.less` sets `[hidden] { display: none; }` but bootstrap.min.css set `[hidden] { display: none !important; }` so we also need the `!important` here to be able to override the default hidden behavior on the sphinx rendered scikit-learn.org. See: https://github.com/scikit-learn/scikit-learn/issues/21755 */display: inline-block !important;position: relative;}#sk-container-id-4 div.sk-text-repr-fallback {display: none;}</style><div id=\"sk-container-id-4\" class=\"sk-top-container\"><div class=\"sk-text-repr-fallback\"><pre>KNeighborsClassifier()</pre><b>In a Jupyter environment, please rerun this cell to show the HTML representation or trust the notebook. <br />On GitHub, the HTML representation is unable to render, please try loading this page with nbviewer.org.</b></div><div class=\"sk-container\" hidden><div class=\"sk-item\"><div class=\"sk-estimator sk-toggleable\"><input class=\"sk-toggleable__control sk-hidden--visually\" id=\"sk-estimator-id-4\" type=\"checkbox\" checked><label for=\"sk-estimator-id-4\" class=\"sk-toggleable__label sk-toggleable__label-arrow\">KNeighborsClassifier</label><div class=\"sk-toggleable__content\"><pre>KNeighborsClassifier()</pre></div></div></div></div></div>"
      ],
      "text/plain": [
       "KNeighborsClassifier()"
      ]
     },
     "execution_count": 40,
     "metadata": {},
     "output_type": "execute_result"
    }
   ],
   "source": [
    "knn.fit(x_train,y_train)"
   ]
  },
  {
   "cell_type": "code",
   "execution_count": 41,
   "id": "0035f36b",
   "metadata": {},
   "outputs": [],
   "source": [
    "knn_p=knn.predict(x_test)"
   ]
  },
  {
   "cell_type": "code",
   "execution_count": 42,
   "id": "f6166474",
   "metadata": {},
   "outputs": [
    {
     "data": {
      "text/plain": [
       "array([[1483,   94],\n",
       "       [ 390,   33]], dtype=int64)"
      ]
     },
     "execution_count": 42,
     "metadata": {},
     "output_type": "execute_result"
    }
   ],
   "source": [
    "knn_cf=confusion_matrix(y_test,knn_p)\n",
    "knn_cf"
   ]
  },
  {
   "cell_type": "code",
   "execution_count": 43,
   "id": "4024cd43",
   "metadata": {},
   "outputs": [
    {
     "data": {
      "text/plain": [
       "75.8"
      ]
     },
     "execution_count": 43,
     "metadata": {},
     "output_type": "execute_result"
    }
   ],
   "source": [
    "knn_ac=knn_cf.diagonal().sum()/knn_cf.sum()*100\n",
    "knn_ac"
   ]
  },
  {
   "cell_type": "code",
   "execution_count": 44,
   "id": "c8ff0e06",
   "metadata": {},
   "outputs": [],
   "source": [
    "a3=f1_score(y_test,knn_p)\n",
    "b3=precision_score(y_test,knn_p)\n",
    "c3=recall_score(y_test,knn_p)"
   ]
  },
  {
   "cell_type": "code",
   "execution_count": 45,
   "id": "74dd6e68",
   "metadata": {},
   "outputs": [
    {
     "name": "stdout",
     "output_type": "stream",
     "text": [
      "              precision    recall  f1-score   support\n",
      "\n",
      "           0       0.79      0.94      0.86      1577\n",
      "           1       0.26      0.08      0.12       423\n",
      "\n",
      "    accuracy                           0.76      2000\n",
      "   macro avg       0.53      0.51      0.49      2000\n",
      "weighted avg       0.68      0.76      0.70      2000\n",
      "\n"
     ]
    }
   ],
   "source": [
    "print(classification_report(y_test,knn_p))"
   ]
  },
  {
   "cell_type": "markdown",
   "id": "65788ea1",
   "metadata": {},
   "source": [
    "# XGB(XGBoost)"
   ]
  },
  {
   "cell_type": "code",
   "execution_count": 46,
   "id": "539f8f5f",
   "metadata": {},
   "outputs": [],
   "source": [
    "import xgboost\n",
    "from xgboost import XGBClassifier\n",
    "xgb=XGBClassifier()"
   ]
  },
  {
   "cell_type": "code",
   "execution_count": 47,
   "id": "a009f6cf",
   "metadata": {},
   "outputs": [
    {
     "data": {
      "text/html": [
       "<style>#sk-container-id-5 {color: black;}#sk-container-id-5 pre{padding: 0;}#sk-container-id-5 div.sk-toggleable {background-color: white;}#sk-container-id-5 label.sk-toggleable__label {cursor: pointer;display: block;width: 100%;margin-bottom: 0;padding: 0.3em;box-sizing: border-box;text-align: center;}#sk-container-id-5 label.sk-toggleable__label-arrow:before {content: \"▸\";float: left;margin-right: 0.25em;color: #696969;}#sk-container-id-5 label.sk-toggleable__label-arrow:hover:before {color: black;}#sk-container-id-5 div.sk-estimator:hover label.sk-toggleable__label-arrow:before {color: black;}#sk-container-id-5 div.sk-toggleable__content {max-height: 0;max-width: 0;overflow: hidden;text-align: left;background-color: #f0f8ff;}#sk-container-id-5 div.sk-toggleable__content pre {margin: 0.2em;color: black;border-radius: 0.25em;background-color: #f0f8ff;}#sk-container-id-5 input.sk-toggleable__control:checked~div.sk-toggleable__content {max-height: 200px;max-width: 100%;overflow: auto;}#sk-container-id-5 input.sk-toggleable__control:checked~label.sk-toggleable__label-arrow:before {content: \"▾\";}#sk-container-id-5 div.sk-estimator input.sk-toggleable__control:checked~label.sk-toggleable__label {background-color: #d4ebff;}#sk-container-id-5 div.sk-label input.sk-toggleable__control:checked~label.sk-toggleable__label {background-color: #d4ebff;}#sk-container-id-5 input.sk-hidden--visually {border: 0;clip: rect(1px 1px 1px 1px);clip: rect(1px, 1px, 1px, 1px);height: 1px;margin: -1px;overflow: hidden;padding: 0;position: absolute;width: 1px;}#sk-container-id-5 div.sk-estimator {font-family: monospace;background-color: #f0f8ff;border: 1px dotted black;border-radius: 0.25em;box-sizing: border-box;margin-bottom: 0.5em;}#sk-container-id-5 div.sk-estimator:hover {background-color: #d4ebff;}#sk-container-id-5 div.sk-parallel-item::after {content: \"\";width: 100%;border-bottom: 1px solid gray;flex-grow: 1;}#sk-container-id-5 div.sk-label:hover label.sk-toggleable__label {background-color: #d4ebff;}#sk-container-id-5 div.sk-serial::before {content: \"\";position: absolute;border-left: 1px solid gray;box-sizing: border-box;top: 0;bottom: 0;left: 50%;z-index: 0;}#sk-container-id-5 div.sk-serial {display: flex;flex-direction: column;align-items: center;background-color: white;padding-right: 0.2em;padding-left: 0.2em;position: relative;}#sk-container-id-5 div.sk-item {position: relative;z-index: 1;}#sk-container-id-5 div.sk-parallel {display: flex;align-items: stretch;justify-content: center;background-color: white;position: relative;}#sk-container-id-5 div.sk-item::before, #sk-container-id-5 div.sk-parallel-item::before {content: \"\";position: absolute;border-left: 1px solid gray;box-sizing: border-box;top: 0;bottom: 0;left: 50%;z-index: -1;}#sk-container-id-5 div.sk-parallel-item {display: flex;flex-direction: column;z-index: 1;position: relative;background-color: white;}#sk-container-id-5 div.sk-parallel-item:first-child::after {align-self: flex-end;width: 50%;}#sk-container-id-5 div.sk-parallel-item:last-child::after {align-self: flex-start;width: 50%;}#sk-container-id-5 div.sk-parallel-item:only-child::after {width: 0;}#sk-container-id-5 div.sk-dashed-wrapped {border: 1px dashed gray;margin: 0 0.4em 0.5em 0.4em;box-sizing: border-box;padding-bottom: 0.4em;background-color: white;}#sk-container-id-5 div.sk-label label {font-family: monospace;font-weight: bold;display: inline-block;line-height: 1.2em;}#sk-container-id-5 div.sk-label-container {text-align: center;}#sk-container-id-5 div.sk-container {/* jupyter's `normalize.less` sets `[hidden] { display: none; }` but bootstrap.min.css set `[hidden] { display: none !important; }` so we also need the `!important` here to be able to override the default hidden behavior on the sphinx rendered scikit-learn.org. See: https://github.com/scikit-learn/scikit-learn/issues/21755 */display: inline-block !important;position: relative;}#sk-container-id-5 div.sk-text-repr-fallback {display: none;}</style><div id=\"sk-container-id-5\" class=\"sk-top-container\"><div class=\"sk-text-repr-fallback\"><pre>XGBClassifier(base_score=None, booster=None, callbacks=None,\n",
       "              colsample_bylevel=None, colsample_bynode=None,\n",
       "              colsample_bytree=None, early_stopping_rounds=None,\n",
       "              enable_categorical=False, eval_metric=None, feature_types=None,\n",
       "              gamma=None, gpu_id=None, grow_policy=None, importance_type=None,\n",
       "              interaction_constraints=None, learning_rate=None, max_bin=None,\n",
       "              max_cat_threshold=None, max_cat_to_onehot=None,\n",
       "              max_delta_step=None, max_depth=None, max_leaves=None,\n",
       "              min_child_weight=None, missing=nan, monotone_constraints=None,\n",
       "              n_estimators=100, n_jobs=None, num_parallel_tree=None,\n",
       "              predictor=None, random_state=None, ...)</pre><b>In a Jupyter environment, please rerun this cell to show the HTML representation or trust the notebook. <br />On GitHub, the HTML representation is unable to render, please try loading this page with nbviewer.org.</b></div><div class=\"sk-container\" hidden><div class=\"sk-item\"><div class=\"sk-estimator sk-toggleable\"><input class=\"sk-toggleable__control sk-hidden--visually\" id=\"sk-estimator-id-5\" type=\"checkbox\" checked><label for=\"sk-estimator-id-5\" class=\"sk-toggleable__label sk-toggleable__label-arrow\">XGBClassifier</label><div class=\"sk-toggleable__content\"><pre>XGBClassifier(base_score=None, booster=None, callbacks=None,\n",
       "              colsample_bylevel=None, colsample_bynode=None,\n",
       "              colsample_bytree=None, early_stopping_rounds=None,\n",
       "              enable_categorical=False, eval_metric=None, feature_types=None,\n",
       "              gamma=None, gpu_id=None, grow_policy=None, importance_type=None,\n",
       "              interaction_constraints=None, learning_rate=None, max_bin=None,\n",
       "              max_cat_threshold=None, max_cat_to_onehot=None,\n",
       "              max_delta_step=None, max_depth=None, max_leaves=None,\n",
       "              min_child_weight=None, missing=nan, monotone_constraints=None,\n",
       "              n_estimators=100, n_jobs=None, num_parallel_tree=None,\n",
       "              predictor=None, random_state=None, ...)</pre></div></div></div></div></div>"
      ],
      "text/plain": [
       "XGBClassifier(base_score=None, booster=None, callbacks=None,\n",
       "              colsample_bylevel=None, colsample_bynode=None,\n",
       "              colsample_bytree=None, early_stopping_rounds=None,\n",
       "              enable_categorical=False, eval_metric=None, feature_types=None,\n",
       "              gamma=None, gpu_id=None, grow_policy=None, importance_type=None,\n",
       "              interaction_constraints=None, learning_rate=None, max_bin=None,\n",
       "              max_cat_threshold=None, max_cat_to_onehot=None,\n",
       "              max_delta_step=None, max_depth=None, max_leaves=None,\n",
       "              min_child_weight=None, missing=nan, monotone_constraints=None,\n",
       "              n_estimators=100, n_jobs=None, num_parallel_tree=None,\n",
       "              predictor=None, random_state=None, ...)"
      ]
     },
     "execution_count": 47,
     "metadata": {},
     "output_type": "execute_result"
    }
   ],
   "source": [
    "xgb.fit(x_train,y_train)"
   ]
  },
  {
   "cell_type": "code",
   "execution_count": 48,
   "id": "aa42b73f",
   "metadata": {},
   "outputs": [],
   "source": [
    "xgb_p=xgb.predict(x_test)"
   ]
  },
  {
   "cell_type": "code",
   "execution_count": 49,
   "id": "09751e40",
   "metadata": {},
   "outputs": [
    {
     "data": {
      "text/plain": [
       "array([[1484,   93],\n",
       "       [ 193,  230]], dtype=int64)"
      ]
     },
     "execution_count": 49,
     "metadata": {},
     "output_type": "execute_result"
    }
   ],
   "source": [
    "xgb_cf=confusion_matrix(y_test,xgb_p)\n",
    "xgb_cf"
   ]
  },
  {
   "cell_type": "code",
   "execution_count": 50,
   "id": "2f9462e3",
   "metadata": {},
   "outputs": [
    {
     "data": {
      "text/plain": [
       "85.7"
      ]
     },
     "execution_count": 50,
     "metadata": {},
     "output_type": "execute_result"
    }
   ],
   "source": [
    "xgb_ac=xgb_cf.diagonal().sum()/xgb_cf.sum()*100\n",
    "xgb_ac"
   ]
  },
  {
   "cell_type": "code",
   "execution_count": 51,
   "id": "7181c160",
   "metadata": {},
   "outputs": [],
   "source": [
    "a4=f1_score(y_test,xgb_p)\n",
    "b4=precision_score(y_test,xgb_p)\n",
    "c4=recall_score(y_test,xgb_p)"
   ]
  },
  {
   "cell_type": "code",
   "execution_count": 52,
   "id": "9f667dc9",
   "metadata": {},
   "outputs": [
    {
     "name": "stdout",
     "output_type": "stream",
     "text": [
      "              precision    recall  f1-score   support\n",
      "\n",
      "           0       0.88      0.94      0.91      1577\n",
      "           1       0.71      0.54      0.62       423\n",
      "\n",
      "    accuracy                           0.86      2000\n",
      "   macro avg       0.80      0.74      0.76      2000\n",
      "weighted avg       0.85      0.86      0.85      2000\n",
      "\n"
     ]
    }
   ],
   "source": [
    "print(classification_report(y_test,xgb_p))"
   ]
  },
  {
   "cell_type": "markdown",
   "id": "87d1fcbc",
   "metadata": {},
   "source": [
    "# SVM"
   ]
  },
  {
   "cell_type": "code",
   "execution_count": 53,
   "id": "5bd764d7",
   "metadata": {},
   "outputs": [],
   "source": [
    "from sklearn.svm import SVC\n",
    "svm=SVC()"
   ]
  },
  {
   "cell_type": "code",
   "execution_count": 54,
   "id": "454842a4",
   "metadata": {},
   "outputs": [
    {
     "data": {
      "text/html": [
       "<style>#sk-container-id-6 {color: black;}#sk-container-id-6 pre{padding: 0;}#sk-container-id-6 div.sk-toggleable {background-color: white;}#sk-container-id-6 label.sk-toggleable__label {cursor: pointer;display: block;width: 100%;margin-bottom: 0;padding: 0.3em;box-sizing: border-box;text-align: center;}#sk-container-id-6 label.sk-toggleable__label-arrow:before {content: \"▸\";float: left;margin-right: 0.25em;color: #696969;}#sk-container-id-6 label.sk-toggleable__label-arrow:hover:before {color: black;}#sk-container-id-6 div.sk-estimator:hover label.sk-toggleable__label-arrow:before {color: black;}#sk-container-id-6 div.sk-toggleable__content {max-height: 0;max-width: 0;overflow: hidden;text-align: left;background-color: #f0f8ff;}#sk-container-id-6 div.sk-toggleable__content pre {margin: 0.2em;color: black;border-radius: 0.25em;background-color: #f0f8ff;}#sk-container-id-6 input.sk-toggleable__control:checked~div.sk-toggleable__content {max-height: 200px;max-width: 100%;overflow: auto;}#sk-container-id-6 input.sk-toggleable__control:checked~label.sk-toggleable__label-arrow:before {content: \"▾\";}#sk-container-id-6 div.sk-estimator input.sk-toggleable__control:checked~label.sk-toggleable__label {background-color: #d4ebff;}#sk-container-id-6 div.sk-label input.sk-toggleable__control:checked~label.sk-toggleable__label {background-color: #d4ebff;}#sk-container-id-6 input.sk-hidden--visually {border: 0;clip: rect(1px 1px 1px 1px);clip: rect(1px, 1px, 1px, 1px);height: 1px;margin: -1px;overflow: hidden;padding: 0;position: absolute;width: 1px;}#sk-container-id-6 div.sk-estimator {font-family: monospace;background-color: #f0f8ff;border: 1px dotted black;border-radius: 0.25em;box-sizing: border-box;margin-bottom: 0.5em;}#sk-container-id-6 div.sk-estimator:hover {background-color: #d4ebff;}#sk-container-id-6 div.sk-parallel-item::after {content: \"\";width: 100%;border-bottom: 1px solid gray;flex-grow: 1;}#sk-container-id-6 div.sk-label:hover label.sk-toggleable__label {background-color: #d4ebff;}#sk-container-id-6 div.sk-serial::before {content: \"\";position: absolute;border-left: 1px solid gray;box-sizing: border-box;top: 0;bottom: 0;left: 50%;z-index: 0;}#sk-container-id-6 div.sk-serial {display: flex;flex-direction: column;align-items: center;background-color: white;padding-right: 0.2em;padding-left: 0.2em;position: relative;}#sk-container-id-6 div.sk-item {position: relative;z-index: 1;}#sk-container-id-6 div.sk-parallel {display: flex;align-items: stretch;justify-content: center;background-color: white;position: relative;}#sk-container-id-6 div.sk-item::before, #sk-container-id-6 div.sk-parallel-item::before {content: \"\";position: absolute;border-left: 1px solid gray;box-sizing: border-box;top: 0;bottom: 0;left: 50%;z-index: -1;}#sk-container-id-6 div.sk-parallel-item {display: flex;flex-direction: column;z-index: 1;position: relative;background-color: white;}#sk-container-id-6 div.sk-parallel-item:first-child::after {align-self: flex-end;width: 50%;}#sk-container-id-6 div.sk-parallel-item:last-child::after {align-self: flex-start;width: 50%;}#sk-container-id-6 div.sk-parallel-item:only-child::after {width: 0;}#sk-container-id-6 div.sk-dashed-wrapped {border: 1px dashed gray;margin: 0 0.4em 0.5em 0.4em;box-sizing: border-box;padding-bottom: 0.4em;background-color: white;}#sk-container-id-6 div.sk-label label {font-family: monospace;font-weight: bold;display: inline-block;line-height: 1.2em;}#sk-container-id-6 div.sk-label-container {text-align: center;}#sk-container-id-6 div.sk-container {/* jupyter's `normalize.less` sets `[hidden] { display: none; }` but bootstrap.min.css set `[hidden] { display: none !important; }` so we also need the `!important` here to be able to override the default hidden behavior on the sphinx rendered scikit-learn.org. See: https://github.com/scikit-learn/scikit-learn/issues/21755 */display: inline-block !important;position: relative;}#sk-container-id-6 div.sk-text-repr-fallback {display: none;}</style><div id=\"sk-container-id-6\" class=\"sk-top-container\"><div class=\"sk-text-repr-fallback\"><pre>SVC()</pre><b>In a Jupyter environment, please rerun this cell to show the HTML representation or trust the notebook. <br />On GitHub, the HTML representation is unable to render, please try loading this page with nbviewer.org.</b></div><div class=\"sk-container\" hidden><div class=\"sk-item\"><div class=\"sk-estimator sk-toggleable\"><input class=\"sk-toggleable__control sk-hidden--visually\" id=\"sk-estimator-id-6\" type=\"checkbox\" checked><label for=\"sk-estimator-id-6\" class=\"sk-toggleable__label sk-toggleable__label-arrow\">SVC</label><div class=\"sk-toggleable__content\"><pre>SVC()</pre></div></div></div></div></div>"
      ],
      "text/plain": [
       "SVC()"
      ]
     },
     "execution_count": 54,
     "metadata": {},
     "output_type": "execute_result"
    }
   ],
   "source": [
    "svm.fit(x_train,y_train)"
   ]
  },
  {
   "cell_type": "code",
   "execution_count": 55,
   "id": "88e59677",
   "metadata": {},
   "outputs": [],
   "source": [
    "svm_p=svm.predict(x_test)"
   ]
  },
  {
   "cell_type": "code",
   "execution_count": 56,
   "id": "89bb4ad6",
   "metadata": {},
   "outputs": [
    {
     "data": {
      "text/plain": [
       "array([[1577,    0],\n",
       "       [ 423,    0]], dtype=int64)"
      ]
     },
     "execution_count": 56,
     "metadata": {},
     "output_type": "execute_result"
    }
   ],
   "source": [
    "svm_cf=confusion_matrix(y_test,svm_p)\n",
    "svm_cf"
   ]
  },
  {
   "cell_type": "code",
   "execution_count": 57,
   "id": "4aad0dc5",
   "metadata": {},
   "outputs": [
    {
     "data": {
      "text/plain": [
       "78.85"
      ]
     },
     "execution_count": 57,
     "metadata": {},
     "output_type": "execute_result"
    }
   ],
   "source": [
    "svm_ac=svm_cf.diagonal().sum()/svm_cf.sum()*100\n",
    "svm_ac"
   ]
  },
  {
   "cell_type": "code",
   "execution_count": 58,
   "id": "bf25c73a",
   "metadata": {},
   "outputs": [],
   "source": [
    "a5=f1_score(y_test,svm_p)\n",
    "b5=precision_score(y_test,svm_p)\n",
    "c5=recall_score(y_test,svm_p)"
   ]
  },
  {
   "cell_type": "code",
   "execution_count": 59,
   "id": "0582d6a9",
   "metadata": {},
   "outputs": [
    {
     "name": "stdout",
     "output_type": "stream",
     "text": [
      "              precision    recall  f1-score   support\n",
      "\n",
      "           0       0.79      1.00      0.88      1577\n",
      "           1       0.00      0.00      0.00       423\n",
      "\n",
      "    accuracy                           0.79      2000\n",
      "   macro avg       0.39      0.50      0.44      2000\n",
      "weighted avg       0.62      0.79      0.70      2000\n",
      "\n"
     ]
    }
   ],
   "source": [
    "print(classification_report(y_test,svm_p))"
   ]
  },
  {
   "cell_type": "markdown",
   "id": "6bf9b81a",
   "metadata": {},
   "source": [
    "# Naive Bayes"
   ]
  },
  {
   "cell_type": "code",
   "execution_count": 60,
   "id": "e277754b",
   "metadata": {},
   "outputs": [],
   "source": [
    "from sklearn.naive_bayes import MultinomialNB\n",
    "nb=MultinomialNB()"
   ]
  },
  {
   "cell_type": "code",
   "execution_count": 61,
   "id": "a2a4e812",
   "metadata": {},
   "outputs": [
    {
     "data": {
      "text/html": [
       "<style>#sk-container-id-7 {color: black;}#sk-container-id-7 pre{padding: 0;}#sk-container-id-7 div.sk-toggleable {background-color: white;}#sk-container-id-7 label.sk-toggleable__label {cursor: pointer;display: block;width: 100%;margin-bottom: 0;padding: 0.3em;box-sizing: border-box;text-align: center;}#sk-container-id-7 label.sk-toggleable__label-arrow:before {content: \"▸\";float: left;margin-right: 0.25em;color: #696969;}#sk-container-id-7 label.sk-toggleable__label-arrow:hover:before {color: black;}#sk-container-id-7 div.sk-estimator:hover label.sk-toggleable__label-arrow:before {color: black;}#sk-container-id-7 div.sk-toggleable__content {max-height: 0;max-width: 0;overflow: hidden;text-align: left;background-color: #f0f8ff;}#sk-container-id-7 div.sk-toggleable__content pre {margin: 0.2em;color: black;border-radius: 0.25em;background-color: #f0f8ff;}#sk-container-id-7 input.sk-toggleable__control:checked~div.sk-toggleable__content {max-height: 200px;max-width: 100%;overflow: auto;}#sk-container-id-7 input.sk-toggleable__control:checked~label.sk-toggleable__label-arrow:before {content: \"▾\";}#sk-container-id-7 div.sk-estimator input.sk-toggleable__control:checked~label.sk-toggleable__label {background-color: #d4ebff;}#sk-container-id-7 div.sk-label input.sk-toggleable__control:checked~label.sk-toggleable__label {background-color: #d4ebff;}#sk-container-id-7 input.sk-hidden--visually {border: 0;clip: rect(1px 1px 1px 1px);clip: rect(1px, 1px, 1px, 1px);height: 1px;margin: -1px;overflow: hidden;padding: 0;position: absolute;width: 1px;}#sk-container-id-7 div.sk-estimator {font-family: monospace;background-color: #f0f8ff;border: 1px dotted black;border-radius: 0.25em;box-sizing: border-box;margin-bottom: 0.5em;}#sk-container-id-7 div.sk-estimator:hover {background-color: #d4ebff;}#sk-container-id-7 div.sk-parallel-item::after {content: \"\";width: 100%;border-bottom: 1px solid gray;flex-grow: 1;}#sk-container-id-7 div.sk-label:hover label.sk-toggleable__label {background-color: #d4ebff;}#sk-container-id-7 div.sk-serial::before {content: \"\";position: absolute;border-left: 1px solid gray;box-sizing: border-box;top: 0;bottom: 0;left: 50%;z-index: 0;}#sk-container-id-7 div.sk-serial {display: flex;flex-direction: column;align-items: center;background-color: white;padding-right: 0.2em;padding-left: 0.2em;position: relative;}#sk-container-id-7 div.sk-item {position: relative;z-index: 1;}#sk-container-id-7 div.sk-parallel {display: flex;align-items: stretch;justify-content: center;background-color: white;position: relative;}#sk-container-id-7 div.sk-item::before, #sk-container-id-7 div.sk-parallel-item::before {content: \"\";position: absolute;border-left: 1px solid gray;box-sizing: border-box;top: 0;bottom: 0;left: 50%;z-index: -1;}#sk-container-id-7 div.sk-parallel-item {display: flex;flex-direction: column;z-index: 1;position: relative;background-color: white;}#sk-container-id-7 div.sk-parallel-item:first-child::after {align-self: flex-end;width: 50%;}#sk-container-id-7 div.sk-parallel-item:last-child::after {align-self: flex-start;width: 50%;}#sk-container-id-7 div.sk-parallel-item:only-child::after {width: 0;}#sk-container-id-7 div.sk-dashed-wrapped {border: 1px dashed gray;margin: 0 0.4em 0.5em 0.4em;box-sizing: border-box;padding-bottom: 0.4em;background-color: white;}#sk-container-id-7 div.sk-label label {font-family: monospace;font-weight: bold;display: inline-block;line-height: 1.2em;}#sk-container-id-7 div.sk-label-container {text-align: center;}#sk-container-id-7 div.sk-container {/* jupyter's `normalize.less` sets `[hidden] { display: none; }` but bootstrap.min.css set `[hidden] { display: none !important; }` so we also need the `!important` here to be able to override the default hidden behavior on the sphinx rendered scikit-learn.org. See: https://github.com/scikit-learn/scikit-learn/issues/21755 */display: inline-block !important;position: relative;}#sk-container-id-7 div.sk-text-repr-fallback {display: none;}</style><div id=\"sk-container-id-7\" class=\"sk-top-container\"><div class=\"sk-text-repr-fallback\"><pre>MultinomialNB()</pre><b>In a Jupyter environment, please rerun this cell to show the HTML representation or trust the notebook. <br />On GitHub, the HTML representation is unable to render, please try loading this page with nbviewer.org.</b></div><div class=\"sk-container\" hidden><div class=\"sk-item\"><div class=\"sk-estimator sk-toggleable\"><input class=\"sk-toggleable__control sk-hidden--visually\" id=\"sk-estimator-id-7\" type=\"checkbox\" checked><label for=\"sk-estimator-id-7\" class=\"sk-toggleable__label sk-toggleable__label-arrow\">MultinomialNB</label><div class=\"sk-toggleable__content\"><pre>MultinomialNB()</pre></div></div></div></div></div>"
      ],
      "text/plain": [
       "MultinomialNB()"
      ]
     },
     "execution_count": 61,
     "metadata": {},
     "output_type": "execute_result"
    }
   ],
   "source": [
    "nb.fit(x_train,y_train)"
   ]
  },
  {
   "cell_type": "code",
   "execution_count": 62,
   "id": "db941f97",
   "metadata": {},
   "outputs": [
    {
     "data": {
      "text/plain": [
       "array([0, 1, 0, ..., 0, 0, 1], dtype=int64)"
      ]
     },
     "execution_count": 62,
     "metadata": {},
     "output_type": "execute_result"
    }
   ],
   "source": [
    "nb_p=nb.predict(x_test)\n",
    "nb_p"
   ]
  },
  {
   "cell_type": "code",
   "execution_count": 63,
   "id": "061e9637",
   "metadata": {},
   "outputs": [
    {
     "data": {
      "text/plain": [
       "array([[876, 701],\n",
       "       [203, 220]], dtype=int64)"
      ]
     },
     "execution_count": 63,
     "metadata": {},
     "output_type": "execute_result"
    }
   ],
   "source": [
    "nb_cf=confusion_matrix(y_test,nb_p)\n",
    "nb_cf"
   ]
  },
  {
   "cell_type": "code",
   "execution_count": 64,
   "id": "9c57d1fb",
   "metadata": {},
   "outputs": [
    {
     "data": {
      "text/plain": [
       "54.800000000000004"
      ]
     },
     "execution_count": 64,
     "metadata": {},
     "output_type": "execute_result"
    }
   ],
   "source": [
    "nb_ac=nb_cf.diagonal().sum()/nb_cf.sum()*100\n",
    "nb_ac"
   ]
  },
  {
   "cell_type": "code",
   "execution_count": 65,
   "id": "ec161d99",
   "metadata": {},
   "outputs": [],
   "source": [
    "a6=f1_score(y_test,nb_p)\n",
    "b6=precision_score(y_test,nb_p)\n",
    "c6=recall_score(y_test,nb_p)"
   ]
  },
  {
   "cell_type": "code",
   "execution_count": 66,
   "id": "bc05cc9b",
   "metadata": {},
   "outputs": [
    {
     "name": "stdout",
     "output_type": "stream",
     "text": [
      "              precision    recall  f1-score   support\n",
      "\n",
      "           0       0.81      0.56      0.66      1577\n",
      "           1       0.24      0.52      0.33       423\n",
      "\n",
      "    accuracy                           0.55      2000\n",
      "   macro avg       0.53      0.54      0.49      2000\n",
      "weighted avg       0.69      0.55      0.59      2000\n",
      "\n"
     ]
    }
   ],
   "source": [
    "print(classification_report(y_test,nb_p))"
   ]
  },
  {
   "cell_type": "code",
   "execution_count": 67,
   "id": "78cfba74",
   "metadata": {},
   "outputs": [],
   "source": [
    "algo=[\"Logistic Regression\",\"Decision Tree\",\"Random Forest\",\"KNN\",\"XGB\",\"SVM\",\"Naive Bayes\"]\n",
    "accuracy=[lg_ac,dt_ac,rf_ac,knn_ac,xgb_ac,svm_ac,nb_ac]\n",
    "f1=[a,a1,a2,a3,a4,a5,a6]\n",
    "precision=[b,b1,b2,b3,b4,b5,b6]\n",
    "recall=[c,c1,c2,c3,c4,c5,c6]"
   ]
  },
  {
   "cell_type": "code",
   "execution_count": 68,
   "id": "5ac044aa",
   "metadata": {},
   "outputs": [
    {
     "data": {
      "text/html": [
       "<div>\n",
       "<style scoped>\n",
       "    .dataframe tbody tr th:only-of-type {\n",
       "        vertical-align: middle;\n",
       "    }\n",
       "\n",
       "    .dataframe tbody tr th {\n",
       "        vertical-align: top;\n",
       "    }\n",
       "\n",
       "    .dataframe thead th {\n",
       "        text-align: right;\n",
       "    }\n",
       "</style>\n",
       "<table border=\"1\" class=\"dataframe\">\n",
       "  <thead>\n",
       "    <tr style=\"text-align: right;\">\n",
       "      <th></th>\n",
       "      <th>Algorithm</th>\n",
       "      <th>Accuracy</th>\n",
       "      <th>F1-score</th>\n",
       "      <th>Precision</th>\n",
       "      <th>Recall</th>\n",
       "    </tr>\n",
       "  </thead>\n",
       "  <tbody>\n",
       "    <tr>\n",
       "      <th>0</th>\n",
       "      <td>Logistic Regression</td>\n",
       "      <td>78.10</td>\n",
       "      <td>0.083682</td>\n",
       "      <td>0.363636</td>\n",
       "      <td>0.047281</td>\n",
       "    </tr>\n",
       "    <tr>\n",
       "      <th>1</th>\n",
       "      <td>Decision Tree</td>\n",
       "      <td>78.40</td>\n",
       "      <td>0.502304</td>\n",
       "      <td>0.489888</td>\n",
       "      <td>0.515366</td>\n",
       "    </tr>\n",
       "    <tr>\n",
       "      <th>2</th>\n",
       "      <td>Random Forest</td>\n",
       "      <td>86.95</td>\n",
       "      <td>0.626609</td>\n",
       "      <td>0.793478</td>\n",
       "      <td>0.517730</td>\n",
       "    </tr>\n",
       "    <tr>\n",
       "      <th>3</th>\n",
       "      <td>KNN</td>\n",
       "      <td>75.80</td>\n",
       "      <td>0.120000</td>\n",
       "      <td>0.259843</td>\n",
       "      <td>0.078014</td>\n",
       "    </tr>\n",
       "    <tr>\n",
       "      <th>4</th>\n",
       "      <td>XGB</td>\n",
       "      <td>85.70</td>\n",
       "      <td>0.616622</td>\n",
       "      <td>0.712074</td>\n",
       "      <td>0.543735</td>\n",
       "    </tr>\n",
       "    <tr>\n",
       "      <th>5</th>\n",
       "      <td>SVM</td>\n",
       "      <td>78.85</td>\n",
       "      <td>0.000000</td>\n",
       "      <td>0.000000</td>\n",
       "      <td>0.000000</td>\n",
       "    </tr>\n",
       "    <tr>\n",
       "      <th>6</th>\n",
       "      <td>Naive Bayes</td>\n",
       "      <td>54.80</td>\n",
       "      <td>0.327381</td>\n",
       "      <td>0.238871</td>\n",
       "      <td>0.520095</td>\n",
       "    </tr>\n",
       "  </tbody>\n",
       "</table>\n",
       "</div>"
      ],
      "text/plain": [
       "             Algorithm  Accuracy  F1-score  Precision    Recall\n",
       "0  Logistic Regression     78.10  0.083682   0.363636  0.047281\n",
       "1        Decision Tree     78.40  0.502304   0.489888  0.515366\n",
       "2        Random Forest     86.95  0.626609   0.793478  0.517730\n",
       "3                  KNN     75.80  0.120000   0.259843  0.078014\n",
       "4                  XGB     85.70  0.616622   0.712074  0.543735\n",
       "5                  SVM     78.85  0.000000   0.000000  0.000000\n",
       "6          Naive Bayes     54.80  0.327381   0.238871  0.520095"
      ]
     },
     "execution_count": 68,
     "metadata": {},
     "output_type": "execute_result"
    }
   ],
   "source": [
    "model1=pd.DataFrame({\"Algorithm\":algo,\"Accuracy\":accuracy,\"F1-score\":f1,\"Precision\":precision,\"Recall\":recall})\n",
    "model1"
   ]
  },
  {
   "cell_type": "markdown",
   "id": "1f952946",
   "metadata": {},
   "source": [
    "Conclusion= In general, the performance of all models is very low, but if it is necessary to choose the best model,if you have to pick a single model it should be Random Forest and XGB because the accuracy,F1 score,Recall,precesion of model is good as compare to other model."
   ]
  },
  {
   "cell_type": "markdown",
   "id": "14cbe078",
   "metadata": {},
   "source": [
    "# Class Imbalanced"
   ]
  },
  {
   "cell_type": "markdown",
   "id": "7ab1c2d3",
   "metadata": {},
   "source": [
    "# Random Oversampling"
   ]
  },
  {
   "cell_type": "code",
   "execution_count": 69,
   "id": "9880a398",
   "metadata": {},
   "outputs": [
    {
     "data": {
      "text/plain": [
       "0    7963\n",
       "1    2037\n",
       "Name: Exited, dtype: int64"
      ]
     },
     "execution_count": 69,
     "metadata": {},
     "output_type": "execute_result"
    }
   ],
   "source": [
    "churn.Exited.value_counts()"
   ]
  },
  {
   "cell_type": "code",
   "execution_count": 70,
   "id": "9232cb4d",
   "metadata": {},
   "outputs": [
    {
     "data": {
      "image/png": "[encoded data removed]",
      "text/plain": [
       "<Figure size 640x480 with 1 Axes>"
      ]
     },
     "metadata": {},
     "output_type": "display_data"
    }
   ],
   "source": [
    "sns.countplot(data=churn,y=\"Exited\")\n",
    "plt.show()"
   ]
  },
  {
   "cell_type": "markdown",
   "id": "bf57f653",
   "metadata": {},
   "source": [
    "So about 20% of the customers have churned and 79% of the customer are retained."
   ]
  },
  {
   "cell_type": "code",
   "execution_count": 71,
   "id": "93d40673",
   "metadata": {},
   "outputs": [
    {
     "data": {
      "text/plain": [
       "(7963, 2037)"
      ]
     },
     "execution_count": 71,
     "metadata": {},
     "output_type": "execute_result"
    }
   ],
   "source": [
    "c_0,c_1=churn[\"Exited\"].value_counts()\n",
    "c_0,c_1"
   ]
  },
  {
   "cell_type": "code",
   "execution_count": 72,
   "id": "d37e706e",
   "metadata": {},
   "outputs": [
    {
     "data": {
      "text/plain": [
       "((7963, 11), (2037, 11))"
      ]
     },
     "execution_count": 72,
     "metadata": {},
     "output_type": "execute_result"
    }
   ],
   "source": [
    "train_0=churn[churn[\"Exited\"]==0]\n",
    "train_1=churn[churn[\"Exited\"]==1]\n",
    "train_0.shape,train_1.shape"
   ]
  },
  {
   "cell_type": "code",
   "execution_count": 73,
   "id": "2ef844ad",
   "metadata": {},
   "outputs": [
    {
     "data": {
      "text/plain": [
       "((7963, 11), (7963, 11))"
      ]
     },
     "execution_count": 73,
     "metadata": {},
     "output_type": "execute_result"
    }
   ],
   "source": [
    "class_1over=train_1.sample(c_0,replace=True)\n",
    "class_1over.head()\n",
    "class_1over.shape,train_0.shape"
   ]
  },
  {
   "cell_type": "code",
   "execution_count": 74,
   "id": "ea9a1483",
   "metadata": {},
   "outputs": [
    {
     "data": {
      "text/plain": [
       "(15926, 11)"
      ]
     },
     "execution_count": 74,
     "metadata": {},
     "output_type": "execute_result"
    }
   ],
   "source": [
    "class1_0=pd.concat([class_1over,train_0],axis=0)\n",
    "class1_0.shape"
   ]
  },
  {
   "cell_type": "code",
   "execution_count": 75,
   "id": "b2854f7b",
   "metadata": {},
   "outputs": [
    {
     "data": {
      "text/plain": [
       "1    7963\n",
       "0    7963\n",
       "Name: Exited, dtype: int64"
      ]
     },
     "execution_count": 75,
     "metadata": {},
     "output_type": "execute_result"
    }
   ],
   "source": [
    "class1_0.Exited.value_counts()"
   ]
  },
  {
   "cell_type": "code",
   "execution_count": 76,
   "id": "0c0942f5",
   "metadata": {},
   "outputs": [
    {
     "data": {
      "text/html": [
       "<div>\n",
       "<style scoped>\n",
       "    .dataframe tbody tr th:only-of-type {\n",
       "        vertical-align: middle;\n",
       "    }\n",
       "\n",
       "    .dataframe tbody tr th {\n",
       "        vertical-align: top;\n",
       "    }\n",
       "\n",
       "    .dataframe thead th {\n",
       "        text-align: right;\n",
       "    }\n",
       "</style>\n",
       "<table border=\"1\" class=\"dataframe\">\n",
       "  <thead>\n",
       "    <tr style=\"text-align: right;\">\n",
       "      <th></th>\n",
       "      <th>CreditScore</th>\n",
       "      <th>Geography</th>\n",
       "      <th>Gender</th>\n",
       "      <th>Age</th>\n",
       "      <th>Tenure</th>\n",
       "      <th>Balance</th>\n",
       "      <th>NumOfProducts</th>\n",
       "      <th>HasCrCard</th>\n",
       "      <th>IsActiveMember</th>\n",
       "      <th>EstimatedSalary</th>\n",
       "      <th>Exited</th>\n",
       "    </tr>\n",
       "  </thead>\n",
       "  <tbody>\n",
       "    <tr>\n",
       "      <th>1317</th>\n",
       "      <td>789</td>\n",
       "      <td>0</td>\n",
       "      <td>1</td>\n",
       "      <td>37</td>\n",
       "      <td>3</td>\n",
       "      <td>0.00</td>\n",
       "      <td>1</td>\n",
       "      <td>1</td>\n",
       "      <td>0</td>\n",
       "      <td>121883.87</td>\n",
       "      <td>1</td>\n",
       "    </tr>\n",
       "    <tr>\n",
       "      <th>6895</th>\n",
       "      <td>610</td>\n",
       "      <td>1</td>\n",
       "      <td>1</td>\n",
       "      <td>49</td>\n",
       "      <td>6</td>\n",
       "      <td>113882.33</td>\n",
       "      <td>1</td>\n",
       "      <td>1</td>\n",
       "      <td>0</td>\n",
       "      <td>195813.81</td>\n",
       "      <td>1</td>\n",
       "    </tr>\n",
       "  </tbody>\n",
       "</table>\n",
       "</div>"
      ],
      "text/plain": [
       "      CreditScore  Geography  Gender  Age  Tenure    Balance  NumOfProducts  \\\n",
       "1317          789          0       1   37       3       0.00              1   \n",
       "6895          610          1       1   49       6  113882.33              1   \n",
       "\n",
       "      HasCrCard  IsActiveMember  EstimatedSalary  Exited  \n",
       "1317          1               0        121883.87       1  \n",
       "6895          1               0        195813.81       1  "
      ]
     },
     "execution_count": 76,
     "metadata": {},
     "output_type": "execute_result"
    }
   ],
   "source": [
    "class1_0.head(2)"
   ]
  },
  {
   "cell_type": "code",
   "execution_count": 77,
   "id": "bd97dd7c",
   "metadata": {},
   "outputs": [],
   "source": [
    "x1=class1_0.iloc[:,0:-1]\n",
    "y1=class1_0.iloc[:,-1]"
   ]
  },
  {
   "cell_type": "code",
   "execution_count": 78,
   "id": "3d6c0d40",
   "metadata": {},
   "outputs": [
    {
     "data": {
      "text/plain": [
       "((12740, 10), (3186, 10), (12740,), (3186,))"
      ]
     },
     "execution_count": 78,
     "metadata": {},
     "output_type": "execute_result"
    }
   ],
   "source": [
    "x_tr,x_te,y_tr,y_te=train_test_split(x1,y1,test_size=0.2,random_state=100)\n",
    "x_tr.shape,x_te.shape,y_tr.shape,y_te.shape"
   ]
  },
  {
   "cell_type": "markdown",
   "id": "186d8718",
   "metadata": {},
   "source": [
    "# Correlation"
   ]
  },
  {
   "cell_type": "code",
   "execution_count": 79,
   "id": "192f5923",
   "metadata": {},
   "outputs": [
    {
     "data": {
      "text/html": [
       "<div>\n",
       "<style scoped>\n",
       "    .dataframe tbody tr th:only-of-type {\n",
       "        vertical-align: middle;\n",
       "    }\n",
       "\n",
       "    .dataframe tbody tr th {\n",
       "        vertical-align: top;\n",
       "    }\n",
       "\n",
       "    .dataframe thead th {\n",
       "        text-align: right;\n",
       "    }\n",
       "</style>\n",
       "<table border=\"1\" class=\"dataframe\">\n",
       "  <thead>\n",
       "    <tr style=\"text-align: right;\">\n",
       "      <th></th>\n",
       "      <th>CreditScore</th>\n",
       "      <th>Geography</th>\n",
       "      <th>Gender</th>\n",
       "      <th>Age</th>\n",
       "      <th>Tenure</th>\n",
       "      <th>Balance</th>\n",
       "      <th>NumOfProducts</th>\n",
       "      <th>HasCrCard</th>\n",
       "      <th>IsActiveMember</th>\n",
       "      <th>EstimatedSalary</th>\n",
       "      <th>Exited</th>\n",
       "    </tr>\n",
       "  </thead>\n",
       "  <tbody>\n",
       "    <tr>\n",
       "      <th>CreditScore</th>\n",
       "      <td>1.000000</td>\n",
       "      <td>0.007888</td>\n",
       "      <td>-0.002857</td>\n",
       "      <td>-0.003965</td>\n",
       "      <td>0.000842</td>\n",
       "      <td>0.006268</td>\n",
       "      <td>0.012238</td>\n",
       "      <td>-0.005458</td>\n",
       "      <td>0.025651</td>\n",
       "      <td>-0.001384</td>\n",
       "      <td>-0.027094</td>\n",
       "    </tr>\n",
       "    <tr>\n",
       "      <th>Geography</th>\n",
       "      <td>0.007888</td>\n",
       "      <td>1.000000</td>\n",
       "      <td>0.004719</td>\n",
       "      <td>0.022812</td>\n",
       "      <td>0.003739</td>\n",
       "      <td>0.069408</td>\n",
       "      <td>0.003972</td>\n",
       "      <td>-0.008523</td>\n",
       "      <td>0.006724</td>\n",
       "      <td>-0.001369</td>\n",
       "      <td>0.035943</td>\n",
       "    </tr>\n",
       "    <tr>\n",
       "      <th>Gender</th>\n",
       "      <td>-0.002857</td>\n",
       "      <td>0.004719</td>\n",
       "      <td>1.000000</td>\n",
       "      <td>-0.027544</td>\n",
       "      <td>0.014733</td>\n",
       "      <td>0.012087</td>\n",
       "      <td>-0.021859</td>\n",
       "      <td>0.005766</td>\n",
       "      <td>0.022544</td>\n",
       "      <td>-0.008112</td>\n",
       "      <td>-0.106512</td>\n",
       "    </tr>\n",
       "    <tr>\n",
       "      <th>Age</th>\n",
       "      <td>-0.003965</td>\n",
       "      <td>0.022812</td>\n",
       "      <td>-0.027544</td>\n",
       "      <td>1.000000</td>\n",
       "      <td>-0.009997</td>\n",
       "      <td>0.028308</td>\n",
       "      <td>-0.030680</td>\n",
       "      <td>-0.011721</td>\n",
       "      <td>0.085472</td>\n",
       "      <td>-0.007201</td>\n",
       "      <td>0.285323</td>\n",
       "    </tr>\n",
       "    <tr>\n",
       "      <th>Tenure</th>\n",
       "      <td>0.000842</td>\n",
       "      <td>0.003739</td>\n",
       "      <td>0.014733</td>\n",
       "      <td>-0.009997</td>\n",
       "      <td>1.000000</td>\n",
       "      <td>-0.012254</td>\n",
       "      <td>0.013444</td>\n",
       "      <td>0.022583</td>\n",
       "      <td>-0.028362</td>\n",
       "      <td>0.007784</td>\n",
       "      <td>-0.014001</td>\n",
       "    </tr>\n",
       "    <tr>\n",
       "      <th>Balance</th>\n",
       "      <td>0.006268</td>\n",
       "      <td>0.069408</td>\n",
       "      <td>0.012087</td>\n",
       "      <td>0.028308</td>\n",
       "      <td>-0.012254</td>\n",
       "      <td>1.000000</td>\n",
       "      <td>-0.304180</td>\n",
       "      <td>-0.014858</td>\n",
       "      <td>-0.010084</td>\n",
       "      <td>0.012797</td>\n",
       "      <td>0.118533</td>\n",
       "    </tr>\n",
       "    <tr>\n",
       "      <th>NumOfProducts</th>\n",
       "      <td>0.012238</td>\n",
       "      <td>0.003972</td>\n",
       "      <td>-0.021859</td>\n",
       "      <td>-0.030680</td>\n",
       "      <td>0.013444</td>\n",
       "      <td>-0.304180</td>\n",
       "      <td>1.000000</td>\n",
       "      <td>0.003183</td>\n",
       "      <td>0.009612</td>\n",
       "      <td>0.014204</td>\n",
       "      <td>-0.047820</td>\n",
       "    </tr>\n",
       "    <tr>\n",
       "      <th>HasCrCard</th>\n",
       "      <td>-0.005458</td>\n",
       "      <td>-0.008523</td>\n",
       "      <td>0.005766</td>\n",
       "      <td>-0.011721</td>\n",
       "      <td>0.022583</td>\n",
       "      <td>-0.014858</td>\n",
       "      <td>0.003183</td>\n",
       "      <td>1.000000</td>\n",
       "      <td>-0.011866</td>\n",
       "      <td>-0.009933</td>\n",
       "      <td>-0.007138</td>\n",
       "    </tr>\n",
       "    <tr>\n",
       "      <th>IsActiveMember</th>\n",
       "      <td>0.025651</td>\n",
       "      <td>0.006724</td>\n",
       "      <td>0.022544</td>\n",
       "      <td>0.085472</td>\n",
       "      <td>-0.028362</td>\n",
       "      <td>-0.010084</td>\n",
       "      <td>0.009612</td>\n",
       "      <td>-0.011866</td>\n",
       "      <td>1.000000</td>\n",
       "      <td>-0.011421</td>\n",
       "      <td>-0.156128</td>\n",
       "    </tr>\n",
       "    <tr>\n",
       "      <th>EstimatedSalary</th>\n",
       "      <td>-0.001384</td>\n",
       "      <td>-0.001369</td>\n",
       "      <td>-0.008112</td>\n",
       "      <td>-0.007201</td>\n",
       "      <td>0.007784</td>\n",
       "      <td>0.012797</td>\n",
       "      <td>0.014204</td>\n",
       "      <td>-0.009933</td>\n",
       "      <td>-0.011421</td>\n",
       "      <td>1.000000</td>\n",
       "      <td>0.012097</td>\n",
       "    </tr>\n",
       "    <tr>\n",
       "      <th>Exited</th>\n",
       "      <td>-0.027094</td>\n",
       "      <td>0.035943</td>\n",
       "      <td>-0.106512</td>\n",
       "      <td>0.285323</td>\n",
       "      <td>-0.014001</td>\n",
       "      <td>0.118533</td>\n",
       "      <td>-0.047820</td>\n",
       "      <td>-0.007138</td>\n",
       "      <td>-0.156128</td>\n",
       "      <td>0.012097</td>\n",
       "      <td>1.000000</td>\n",
       "    </tr>\n",
       "  </tbody>\n",
       "</table>\n",
       "</div>"
      ],
      "text/plain": [
       "                 CreditScore  Geography    Gender       Age    Tenure  \\\n",
       "CreditScore         1.000000   0.007888 -0.002857 -0.003965  0.000842   \n",
       "Geography           0.007888   1.000000  0.004719  0.022812  0.003739   \n",
       "Gender             -0.002857   0.004719  1.000000 -0.027544  0.014733   \n",
       "Age                -0.003965   0.022812 -0.027544  1.000000 -0.009997   \n",
       "Tenure              0.000842   0.003739  0.014733 -0.009997  1.000000   \n",
       "Balance             0.006268   0.069408  0.012087  0.028308 -0.012254   \n",
       "NumOfProducts       0.012238   0.003972 -0.021859 -0.030680  0.013444   \n",
       "HasCrCard          -0.005458  -0.008523  0.005766 -0.011721  0.022583   \n",
       "IsActiveMember      0.025651   0.006724  0.022544  0.085472 -0.028362   \n",
       "EstimatedSalary    -0.001384  -0.001369 -0.008112 -0.007201  0.007784   \n",
       "Exited             -0.027094   0.035943 -0.106512  0.285323 -0.014001   \n",
       "\n",
       "                  Balance  NumOfProducts  HasCrCard  IsActiveMember  \\\n",
       "CreditScore      0.006268       0.012238  -0.005458        0.025651   \n",
       "Geography        0.069408       0.003972  -0.008523        0.006724   \n",
       "Gender           0.012087      -0.021859   0.005766        0.022544   \n",
       "Age              0.028308      -0.030680  -0.011721        0.085472   \n",
       "Tenure          -0.012254       0.013444   0.022583       -0.028362   \n",
       "Balance          1.000000      -0.304180  -0.014858       -0.010084   \n",
       "NumOfProducts   -0.304180       1.000000   0.003183        0.009612   \n",
       "HasCrCard       -0.014858       0.003183   1.000000       -0.011866   \n",
       "IsActiveMember  -0.010084       0.009612  -0.011866        1.000000   \n",
       "EstimatedSalary  0.012797       0.014204  -0.009933       -0.011421   \n",
       "Exited           0.118533      -0.047820  -0.007138       -0.156128   \n",
       "\n",
       "                 EstimatedSalary    Exited  \n",
       "CreditScore            -0.001384 -0.027094  \n",
       "Geography              -0.001369  0.035943  \n",
       "Gender                 -0.008112 -0.106512  \n",
       "Age                    -0.007201  0.285323  \n",
       "Tenure                  0.007784 -0.014001  \n",
       "Balance                 0.012797  0.118533  \n",
       "NumOfProducts           0.014204 -0.047820  \n",
       "HasCrCard              -0.009933 -0.007138  \n",
       "IsActiveMember         -0.011421 -0.156128  \n",
       "EstimatedSalary         1.000000  0.012097  \n",
       "Exited                  0.012097  1.000000  "
      ]
     },
     "execution_count": 79,
     "metadata": {},
     "output_type": "execute_result"
    }
   ],
   "source": [
    "churn_cor=churn.corr()\n",
    "churn_cor"
   ]
  },
  {
   "cell_type": "code",
   "execution_count": 80,
   "id": "e1798bae",
   "metadata": {
    "scrolled": true
   },
   "outputs": [
    {
     "data": {
      "image/png": "[encoded data removed]",
      "text/plain": [
       "<Figure size 1000x900 with 2 Axes>"
      ]
     },
     "metadata": {},
     "output_type": "display_data"
    }
   ],
   "source": [
    "plt.figure(figsize=(10,9))\n",
    "heatmap=sns.heatmap(churn_cor,linewidth=2,annot=True,cmap=plt.cm.Blues)\n",
    "plt.title(\"Bank Customer Churn\")\n",
    "plt.show()"
   ]
  },
  {
   "cell_type": "markdown",
   "id": "76570306",
   "metadata": {},
   "source": [
    "There is no high correlation between features"
   ]
  },
  {
   "cell_type": "markdown",
   "id": "b62a9cb3",
   "metadata": {},
   "source": [
    "# Outlier Treatment"
   ]
  },
  {
   "cell_type": "code",
   "execution_count": 81,
   "id": "084f176f",
   "metadata": {},
   "outputs": [
    {
     "data": {
      "text/plain": [
       "CreditScore       -0.094249\n",
       "Geography          0.437095\n",
       "Gender            -0.058300\n",
       "Age                0.592497\n",
       "Tenure             0.021257\n",
       "Balance           -0.276383\n",
       "NumOfProducts      1.198039\n",
       "HasCrCard         -0.859885\n",
       "IsActiveMember     0.199420\n",
       "EstimatedSalary   -0.018491\n",
       "Exited             0.000000\n",
       "dtype: float64"
      ]
     },
     "execution_count": 81,
     "metadata": {},
     "output_type": "execute_result"
    }
   ],
   "source": [
    "class1_0.skew()"
   ]
  },
  {
   "cell_type": "code",
   "execution_count": 82,
   "id": "95fb1fac",
   "metadata": {},
   "outputs": [
    {
     "data": {
      "image/png": "[encoded data removed]",
      "text/plain": [
       "<Figure size 2000x1200 with 1 Axes>"
      ]
     },
     "metadata": {},
     "output_type": "display_data"
    }
   ],
   "source": [
    "plt.figure(figsize=(20,12))\n",
    "sns.boxplot(data=class1_0)\n",
    "plt.show()"
   ]
  },
  {
   "cell_type": "code",
   "execution_count": 83,
   "id": "f5a6bda0",
   "metadata": {},
   "outputs": [
    {
     "data": {
      "text/plain": [
       "<Axes: ylabel='CreditScore'>"
      ]
     },
     "execution_count": 83,
     "metadata": {},
     "output_type": "execute_result"
    },
    {
     "data": {
      "image/png": "[encoded data removed]",
      "text/plain": [
       "<Figure size 500x500 with 1 Axes>"
      ]
     },
     "metadata": {},
     "output_type": "display_data"
    }
   ],
   "source": [
    "fig=plt.figure(figsize=(5,5))\n",
    "sns.boxplot(data=class1_0,y=\"CreditScore\")"
   ]
  },
  {
   "cell_type": "code",
   "execution_count": 84,
   "id": "21d79386",
   "metadata": {},
   "outputs": [
    {
     "data": {
      "text/plain": [
       "<Axes: xlabel='CreditScore', ylabel='Density'>"
      ]
     },
     "execution_count": 84,
     "metadata": {},
     "output_type": "execute_result"
    },
    {
     "data": {
      "image/png": "[encoded data removed]",
      "text/plain": [
       "<Figure size 640x480 with 1 Axes>"
      ]
     },
     "metadata": {},
     "output_type": "display_data"
    }
   ],
   "source": [
    "sns.distplot(class1_0.CreditScore) "
   ]
  },
  {
   "cell_type": "code",
   "execution_count": 85,
   "id": "a8a94343",
   "metadata": {},
   "outputs": [
    {
     "data": {
      "text/plain": [
       "<Axes: >"
      ]
     },
     "execution_count": 85,
     "metadata": {},
     "output_type": "execute_result"
    },
    {
     "data": {
      "image/png": "[encoded data removed]",
      "text/plain": [
       "<Figure size 640x480 with 1 Axes>"
      ]
     },
     "metadata": {},
     "output_type": "display_data"
    }
   ],
   "source": [
    "class1_0.CreditScore.hist()"
   ]
  },
  {
   "cell_type": "code",
   "execution_count": 86,
   "id": "9de09ad8",
   "metadata": {},
   "outputs": [
    {
     "name": "stdout",
     "output_type": "stream",
     "text": [
      "942.8177198525971 354.57710621797946\n"
     ]
    }
   ],
   "source": [
    "ub1=class1_0.CreditScore.mean()+3*class1_0.CreditScore.std()\n",
    "lb1=class1_0.CreditScore.mean()-3*class1_0.CreditScore.std()\n",
    "print(ub1,lb1)"
   ]
  },
  {
   "cell_type": "code",
   "execution_count": 87,
   "id": "295b6a01",
   "metadata": {},
   "outputs": [],
   "source": [
    "class1_0.loc[class1_0[\"CreditScore\"]<355.04,\"CreditScore\"]=355.04"
   ]
  },
  {
   "cell_type": "code",
   "execution_count": 88,
   "id": "69470e4a",
   "metadata": {},
   "outputs": [
    {
     "data": {
      "text/plain": [
       "<Axes: xlabel='CreditScore', ylabel='Density'>"
      ]
     },
     "execution_count": 88,
     "metadata": {},
     "output_type": "execute_result"
    },
    {
     "data": {
      "image/png": "[encoded data removed]",
      "text/plain": [
       "<Figure size 640x480 with 1 Axes>"
      ]
     },
     "metadata": {},
     "output_type": "display_data"
    }
   ],
   "source": [
    "sns.distplot(class1_0.CreditScore) "
   ]
  },
  {
   "cell_type": "code",
   "execution_count": 89,
   "id": "72afebb7",
   "metadata": {},
   "outputs": [
    {
     "data": {
      "text/plain": [
       "<Axes: >"
      ]
     },
     "execution_count": 89,
     "metadata": {},
     "output_type": "execute_result"
    },
    {
     "data": {
      "image/png": "[encoded data removed]",
      "text/plain": [
       "<Figure size 640x480 with 1 Axes>"
      ]
     },
     "metadata": {},
     "output_type": "display_data"
    }
   ],
   "source": [
    "class1_0.CreditScore.hist()"
   ]
  },
  {
   "cell_type": "code",
   "execution_count": 90,
   "id": "5f187a42",
   "metadata": {},
   "outputs": [
    {
     "data": {
      "text/plain": [
       "<Axes: ylabel='Age'>"
      ]
     },
     "execution_count": 90,
     "metadata": {},
     "output_type": "execute_result"
    },
    {
     "data": {
      "image/png": "[encoded data removed]",
      "text/plain": [
       "<Figure size 500x500 with 1 Axes>"
      ]
     },
     "metadata": {},
     "output_type": "display_data"
    }
   ],
   "source": [
    "fig=plt.figure(figsize=(5,5))\n",
    "sns.boxplot(data=class1_0,y=\"Age\")"
   ]
  },
  {
   "cell_type": "code",
   "execution_count": 91,
   "id": "50cef3ce",
   "metadata": {},
   "outputs": [
    {
     "data": {
      "text/plain": [
       "<Axes: xlabel='Age', ylabel='Density'>"
      ]
     },
     "execution_count": 91,
     "metadata": {},
     "output_type": "execute_result"
    },
    {
     "data": {
      "image/png": "[encoded data removed]",
      "text/plain": [
       "<Figure size 640x480 with 1 Axes>"
      ]
     },
     "metadata": {},
     "output_type": "display_data"
    }
   ],
   "source": [
    "sns.distplot(class1_0.Age) "
   ]
  },
  {
   "cell_type": "code",
   "execution_count": 92,
   "id": "404404f8",
   "metadata": {},
   "outputs": [
    {
     "data": {
      "text/plain": [
       "<Axes: >"
      ]
     },
     "execution_count": 92,
     "metadata": {},
     "output_type": "execute_result"
    },
    {
     "data": {
      "image/png": "[encoded data removed]",
      "text/plain": [
       "<Figure size 640x480 with 1 Axes>"
      ]
     },
     "metadata": {},
     "output_type": "display_data"
    }
   ],
   "source": [
    "class1_0.Age.hist()"
   ]
  },
  {
   "cell_type": "code",
   "execution_count": 93,
   "id": "325d42ba",
   "metadata": {},
   "outputs": [
    {
     "name": "stdout",
     "output_type": "stream",
     "text": [
      "73.0251683871187 9.26605351417479\n"
     ]
    }
   ],
   "source": [
    "ub1=class1_0.Age.mean()+3*class1_0.Age.std()\n",
    "lb1=class1_0.Age.mean()-3*class1_0.Age.std()\n",
    "print(ub1,lb1)"
   ]
  },
  {
   "cell_type": "code",
   "execution_count": 94,
   "id": "d481aa44",
   "metadata": {},
   "outputs": [],
   "source": [
    "class1_0.loc[class1_0[\"Age\"]>72.97,\"Age\"]=72.97"
   ]
  },
  {
   "cell_type": "code",
   "execution_count": 95,
   "id": "c9f179c2",
   "metadata": {},
   "outputs": [
    {
     "data": {
      "text/plain": [
       "<Axes: xlabel='Age', ylabel='Density'>"
      ]
     },
     "execution_count": 95,
     "metadata": {},
     "output_type": "execute_result"
    },
    {
     "data": {
      "image/png": "[encoded data removed]",
      "text/plain": [
       "<Figure size 640x480 with 1 Axes>"
      ]
     },
     "metadata": {},
     "output_type": "display_data"
    }
   ],
   "source": [
    "sns.distplot(class1_0.Age) "
   ]
  },
  {
   "cell_type": "code",
   "execution_count": 96,
   "id": "aa529463",
   "metadata": {},
   "outputs": [
    {
     "data": {
      "text/plain": [
       "<Axes: >"
      ]
     },
     "execution_count": 96,
     "metadata": {},
     "output_type": "execute_result"
    },
    {
     "data": {
      "image/png": "[encoded data removed]",
      "text/plain": [
       "<Figure size 640x480 with 1 Axes>"
      ]
     },
     "metadata": {},
     "output_type": "display_data"
    }
   ],
   "source": [
    "class1_0.Age.hist()"
   ]
  },
  {
   "cell_type": "code",
   "execution_count": 97,
   "id": "5f9b8c3f",
   "metadata": {},
   "outputs": [
    {
     "data": {
      "text/plain": [
       "CreditScore       -0.092547\n",
       "Geography          0.437095\n",
       "Gender            -0.058300\n",
       "Age                0.543239\n",
       "Tenure             0.021257\n",
       "Balance           -0.276383\n",
       "NumOfProducts      1.198039\n",
       "HasCrCard         -0.859885\n",
       "IsActiveMember     0.199420\n",
       "EstimatedSalary   -0.018491\n",
       "Exited             0.000000\n",
       "dtype: float64"
      ]
     },
     "execution_count": 97,
     "metadata": {},
     "output_type": "execute_result"
    }
   ],
   "source": [
    "class1_0.skew()"
   ]
  },
  {
   "cell_type": "markdown",
   "id": "58e1edf8",
   "metadata": {},
   "source": [
    "# Visualization"
   ]
  },
  {
   "cell_type": "code",
   "execution_count": 98,
   "id": "d807684c",
   "metadata": {},
   "outputs": [
    {
     "data": {
      "image/png": "[encoded data removed]",
      "text/plain": [
       "<Figure size 1000x800 with 1 Axes>"
      ]
     },
     "metadata": {},
     "output_type": "display_data"
    }
   ],
   "source": [
    "labels = 'Exited', 'Retained'\n",
    "sizes = [churn.Exited[churn['Exited']==1].count(), churn.Exited[churn['Exited']==0].count()]\n",
    "explode = (0, 0.1)\n",
    "fig1, ax1 = plt.subplots(figsize=(10, 8))\n",
    "ax1.pie(sizes, explode=explode, labels=labels, autopct='%1.1f%%',\n",
    "        shadow=True, startangle=90)\n",
    "ax1.axis('equal')\n",
    "plt.title(\"Proportion of customer churned and retained\", size = 20)\n",
    "plt.show()"
   ]
  },
  {
   "cell_type": "markdown",
   "id": "947ce2ef",
   "metadata": {},
   "source": [
    "So about 20% of the customers have churned. So the baseline model could be to predict that 20% of the customers will churn. Given 20% is a small number, we need to ensure that the chosen model does predict with great accuracy this 20% as it is of interest to the bank to identify and keep this bunch as opposed to accurately predicting the customers that are retained."
   ]
  },
  {
   "cell_type": "code",
   "execution_count": 99,
   "id": "ac35bc7b",
   "metadata": {},
   "outputs": [
    {
     "data": {
      "image/png": "[encoded data removed]",
      "text/plain": [
       "<Figure size 640x480 with 1 Axes>"
      ]
     },
     "metadata": {},
     "output_type": "display_data"
    }
   ],
   "source": [
    "churn.Tenure.value_counts().plot.barh()\n",
    "plt.show()"
   ]
  },
  {
   "cell_type": "code",
   "execution_count": 100,
   "id": "fd865304",
   "metadata": {
    "scrolled": true
   },
   "outputs": [
    {
     "data": {
      "image/png": "[encoded data removed]",
      "text/plain": [
       "<Figure size 1500x400 with 1 Axes>"
      ]
     },
     "metadata": {},
     "output_type": "display_data"
    },
    {
     "data": {
      "image/png": "[encoded data removed]",
      "text/plain": [
       "<Figure size 1500x400 with 1 Axes>"
      ]
     },
     "metadata": {},
     "output_type": "display_data"
    },
    {
     "data": {
      "image/png": "[encoded data removed]",
      "text/plain": [
       "<Figure size 1500x400 with 1 Axes>"
      ]
     },
     "metadata": {},
     "output_type": "display_data"
    },
    {
     "data": {
      "image/png": "[encoded data removed]",
      "text/plain": [
       "<Figure size 1500x400 with 1 Axes>"
      ]
     },
     "metadata": {},
     "output_type": "display_data"
    },
    {
     "data": {
      "image/png": "[encoded data removed]",
      "text/plain": [
       "<Figure size 1500x400 with 1 Axes>"
      ]
     },
     "metadata": {},
     "output_type": "display_data"
    },
    {
     "data": {
      "image/png": "[encoded data removed]",
      "text/plain": [
       "<Figure size 1500x400 with 1 Axes>"
      ]
     },
     "metadata": {},
     "output_type": "display_data"
    },
    {
     "data": {
      "image/png": "[encoded data removed]",
      "text/plain": [
       "<Figure size 1500x400 with 1 Axes>"
      ]
     },
     "metadata": {},
     "output_type": "display_data"
    }
   ],
   "source": [
    "for idx , pred in enumerate(churn.drop(columns=['Exited','Balance','EstimatedSalary','CreditScore'])):\n",
    "    plt.figure(idx,figsize=(15,4))\n",
    "    sns.countplot(data=churn,x=pred,hue='Exited')"
   ]
  },
  {
   "cell_type": "markdown",
   "id": "3f6a017a",
   "metadata": {},
   "source": [
    "# Observations: \n",
    "1. Females are bit more likey to exit as compared to males. \n",
    "2. People having 1 product are more likely to exit. \n",
    "3. People having credit card are more likely to exit. \n",
    "4. Inactive members are more likely to exit. \n",
    "5. All tenure grps have similar likilihood of exiting. \n",
    "6. People between age between 38 and 53 have very high chance of exiting"
   ]
  },
  {
   "cell_type": "markdown",
   "id": "c3aeab14",
   "metadata": {},
   "source": [
    "# Logistic-Random Oversampling"
   ]
  },
  {
   "cell_type": "code",
   "execution_count": 101,
   "id": "9bba2ed4",
   "metadata": {},
   "outputs": [],
   "source": [
    "from sklearn.linear_model import LogisticRegression\n",
    "lg=LogisticRegression()"
   ]
  },
  {
   "cell_type": "code",
   "execution_count": 102,
   "id": "0efbad89",
   "metadata": {},
   "outputs": [
    {
     "data": {
      "text/html": [
       "<style>#sk-container-id-8 {color: black;}#sk-container-id-8 pre{padding: 0;}#sk-container-id-8 div.sk-toggleable {background-color: white;}#sk-container-id-8 label.sk-toggleable__label {cursor: pointer;display: block;width: 100%;margin-bottom: 0;padding: 0.3em;box-sizing: border-box;text-align: center;}#sk-container-id-8 label.sk-toggleable__label-arrow:before {content: \"▸\";float: left;margin-right: 0.25em;color: #696969;}#sk-container-id-8 label.sk-toggleable__label-arrow:hover:before {color: black;}#sk-container-id-8 div.sk-estimator:hover label.sk-toggleable__label-arrow:before {color: black;}#sk-container-id-8 div.sk-toggleable__content {max-height: 0;max-width: 0;overflow: hidden;text-align: left;background-color: #f0f8ff;}#sk-container-id-8 div.sk-toggleable__content pre {margin: 0.2em;color: black;border-radius: 0.25em;background-color: #f0f8ff;}#sk-container-id-8 input.sk-toggleable__control:checked~div.sk-toggleable__content {max-height: 200px;max-width: 100%;overflow: auto;}#sk-container-id-8 input.sk-toggleable__control:checked~label.sk-toggleable__label-arrow:before {content: \"▾\";}#sk-container-id-8 div.sk-estimator input.sk-toggleable__control:checked~label.sk-toggleable__label {background-color: #d4ebff;}#sk-container-id-8 div.sk-label input.sk-toggleable__control:checked~label.sk-toggleable__label {background-color: #d4ebff;}#sk-container-id-8 input.sk-hidden--visually {border: 0;clip: rect(1px 1px 1px 1px);clip: rect(1px, 1px, 1px, 1px);height: 1px;margin: -1px;overflow: hidden;padding: 0;position: absolute;width: 1px;}#sk-container-id-8 div.sk-estimator {font-family: monospace;background-color: #f0f8ff;border: 1px dotted black;border-radius: 0.25em;box-sizing: border-box;margin-bottom: 0.5em;}#sk-container-id-8 div.sk-estimator:hover {background-color: #d4ebff;}#sk-container-id-8 div.sk-parallel-item::after {content: \"\";width: 100%;border-bottom: 1px solid gray;flex-grow: 1;}#sk-container-id-8 div.sk-label:hover label.sk-toggleable__label {background-color: #d4ebff;}#sk-container-id-8 div.sk-serial::before {content: \"\";position: absolute;border-left: 1px solid gray;box-sizing: border-box;top: 0;bottom: 0;left: 50%;z-index: 0;}#sk-container-id-8 div.sk-serial {display: flex;flex-direction: column;align-items: center;background-color: white;padding-right: 0.2em;padding-left: 0.2em;position: relative;}#sk-container-id-8 div.sk-item {position: relative;z-index: 1;}#sk-container-id-8 div.sk-parallel {display: flex;align-items: stretch;justify-content: center;background-color: white;position: relative;}#sk-container-id-8 div.sk-item::before, #sk-container-id-8 div.sk-parallel-item::before {content: \"\";position: absolute;border-left: 1px solid gray;box-sizing: border-box;top: 0;bottom: 0;left: 50%;z-index: -1;}#sk-container-id-8 div.sk-parallel-item {display: flex;flex-direction: column;z-index: 1;position: relative;background-color: white;}#sk-container-id-8 div.sk-parallel-item:first-child::after {align-self: flex-end;width: 50%;}#sk-container-id-8 div.sk-parallel-item:last-child::after {align-self: flex-start;width: 50%;}#sk-container-id-8 div.sk-parallel-item:only-child::after {width: 0;}#sk-container-id-8 div.sk-dashed-wrapped {border: 1px dashed gray;margin: 0 0.4em 0.5em 0.4em;box-sizing: border-box;padding-bottom: 0.4em;background-color: white;}#sk-container-id-8 div.sk-label label {font-family: monospace;font-weight: bold;display: inline-block;line-height: 1.2em;}#sk-container-id-8 div.sk-label-container {text-align: center;}#sk-container-id-8 div.sk-container {/* jupyter's `normalize.less` sets `[hidden] { display: none; }` but bootstrap.min.css set `[hidden] { display: none !important; }` so we also need the `!important` here to be able to override the default hidden behavior on the sphinx rendered scikit-learn.org. See: https://github.com/scikit-learn/scikit-learn/issues/21755 */display: inline-block !important;position: relative;}#sk-container-id-8 div.sk-text-repr-fallback {display: none;}</style><div id=\"sk-container-id-8\" class=\"sk-top-container\"><div class=\"sk-text-repr-fallback\"><pre>LogisticRegression()</pre><b>In a Jupyter environment, please rerun this cell to show the HTML representation or trust the notebook. <br />On GitHub, the HTML representation is unable to render, please try loading this page with nbviewer.org.</b></div><div class=\"sk-container\" hidden><div class=\"sk-item\"><div class=\"sk-estimator sk-toggleable\"><input class=\"sk-toggleable__control sk-hidden--visually\" id=\"sk-estimator-id-8\" type=\"checkbox\" checked><label for=\"sk-estimator-id-8\" class=\"sk-toggleable__label sk-toggleable__label-arrow\">LogisticRegression</label><div class=\"sk-toggleable__content\"><pre>LogisticRegression()</pre></div></div></div></div></div>"
      ],
      "text/plain": [
       "LogisticRegression()"
      ]
     },
     "execution_count": 102,
     "metadata": {},
     "output_type": "execute_result"
    }
   ],
   "source": [
    "lg.fit(x_tr,y_tr)"
   ]
  },
  {
   "cell_type": "code",
   "execution_count": 103,
   "id": "1c745217",
   "metadata": {},
   "outputs": [],
   "source": [
    "lg_p1=lg.predict(x_te)"
   ]
  },
  {
   "cell_type": "code",
   "execution_count": 104,
   "id": "89458824",
   "metadata": {},
   "outputs": [
    {
     "data": {
      "text/plain": [
       "array([[1055,  544],\n",
       "       [ 546, 1041]], dtype=int64)"
      ]
     },
     "execution_count": 104,
     "metadata": {},
     "output_type": "execute_result"
    }
   ],
   "source": [
    "lg_cf1=confusion_matrix(y_te,lg_p1)\n",
    "lg_cf1"
   ]
  },
  {
   "cell_type": "code",
   "execution_count": 105,
   "id": "52be4622",
   "metadata": {},
   "outputs": [
    {
     "data": {
      "text/plain": [
       "65.78782172002511"
      ]
     },
     "execution_count": 105,
     "metadata": {},
     "output_type": "execute_result"
    }
   ],
   "source": [
    "lg_ac1=lg_cf1.diagonal().sum()/lg_cf1.sum()*100\n",
    "lg_ac1"
   ]
  },
  {
   "cell_type": "code",
   "execution_count": 106,
   "id": "30c60570",
   "metadata": {},
   "outputs": [],
   "source": [
    "lg_re1=recall_score(y_te,lg_p1)"
   ]
  },
  {
   "cell_type": "code",
   "execution_count": 107,
   "id": "54171e6f",
   "metadata": {},
   "outputs": [],
   "source": [
    "lg_pr1=precision_score(y_te,lg_p1)"
   ]
  },
  {
   "cell_type": "code",
   "execution_count": 108,
   "id": "d2f9a381",
   "metadata": {},
   "outputs": [],
   "source": [
    "lg_f1=f1_score(y_te,lg_p1,average='weighted')"
   ]
  },
  {
   "cell_type": "code",
   "execution_count": 109,
   "id": "36a82d86",
   "metadata": {},
   "outputs": [
    {
     "name": "stdout",
     "output_type": "stream",
     "text": [
      "\n",
      "               precision    recall  f1-score   support\n",
      "\n",
      "           0       0.66      0.66      0.66      1599\n",
      "           1       0.66      0.66      0.66      1587\n",
      "\n",
      "    accuracy                           0.66      3186\n",
      "   macro avg       0.66      0.66      0.66      3186\n",
      "weighted avg       0.66      0.66      0.66      3186\n",
      "\n",
      "\n",
      "Confusion Matrix\n",
      "[[1055  544]\n",
      " [ 546 1041]]\n"
     ]
    }
   ],
   "source": [
    "print(\"\\n\",classification_report(y_te,lg_p1)) \n",
    "print(\"\\nConfusion Matrix\")\n",
    "print(lg_cf1)"
   ]
  },
  {
   "cell_type": "markdown",
   "id": "0bff086a",
   "metadata": {},
   "source": [
    "# DT-Random oversampling"
   ]
  },
  {
   "cell_type": "code",
   "execution_count": 110,
   "id": "b6a6c17e",
   "metadata": {},
   "outputs": [],
   "source": [
    "from sklearn.tree import DecisionTreeClassifier\n",
    "dt=DecisionTreeClassifier()"
   ]
  },
  {
   "cell_type": "code",
   "execution_count": 111,
   "id": "6d6a7596",
   "metadata": {},
   "outputs": [
    {
     "data": {
      "text/html": [
       "<style>#sk-container-id-9 {color: black;}#sk-container-id-9 pre{padding: 0;}#sk-container-id-9 div.sk-toggleable {background-color: white;}#sk-container-id-9 label.sk-toggleable__label {cursor: pointer;display: block;width: 100%;margin-bottom: 0;padding: 0.3em;box-sizing: border-box;text-align: center;}#sk-container-id-9 label.sk-toggleable__label-arrow:before {content: \"▸\";float: left;margin-right: 0.25em;color: #696969;}#sk-container-id-9 label.sk-toggleable__label-arrow:hover:before {color: black;}#sk-container-id-9 div.sk-estimator:hover label.sk-toggleable__label-arrow:before {color: black;}#sk-container-id-9 div.sk-toggleable__content {max-height: 0;max-width: 0;overflow: hidden;text-align: left;background-color: #f0f8ff;}#sk-container-id-9 div.sk-toggleable__content pre {margin: 0.2em;color: black;border-radius: 0.25em;background-color: #f0f8ff;}#sk-container-id-9 input.sk-toggleable__control:checked~div.sk-toggleable__content {max-height: 200px;max-width: 100%;overflow: auto;}#sk-container-id-9 input.sk-toggleable__control:checked~label.sk-toggleable__label-arrow:before {content: \"▾\";}#sk-container-id-9 div.sk-estimator input.sk-toggleable__control:checked~label.sk-toggleable__label {background-color: #d4ebff;}#sk-container-id-9 div.sk-label input.sk-toggleable__control:checked~label.sk-toggleable__label {background-color: #d4ebff;}#sk-container-id-9 input.sk-hidden--visually {border: 0;clip: rect(1px 1px 1px 1px);clip: rect(1px, 1px, 1px, 1px);height: 1px;margin: -1px;overflow: hidden;padding: 0;position: absolute;width: 1px;}#sk-container-id-9 div.sk-estimator {font-family: monospace;background-color: #f0f8ff;border: 1px dotted black;border-radius: 0.25em;box-sizing: border-box;margin-bottom: 0.5em;}#sk-container-id-9 div.sk-estimator:hover {background-color: #d4ebff;}#sk-container-id-9 div.sk-parallel-item::after {content: \"\";width: 100%;border-bottom: 1px solid gray;flex-grow: 1;}#sk-container-id-9 div.sk-label:hover label.sk-toggleable__label {background-color: #d4ebff;}#sk-container-id-9 div.sk-serial::before {content: \"\";position: absolute;border-left: 1px solid gray;box-sizing: border-box;top: 0;bottom: 0;left: 50%;z-index: 0;}#sk-container-id-9 div.sk-serial {display: flex;flex-direction: column;align-items: center;background-color: white;padding-right: 0.2em;padding-left: 0.2em;position: relative;}#sk-container-id-9 div.sk-item {position: relative;z-index: 1;}#sk-container-id-9 div.sk-parallel {display: flex;align-items: stretch;justify-content: center;background-color: white;position: relative;}#sk-container-id-9 div.sk-item::before, #sk-container-id-9 div.sk-parallel-item::before {content: \"\";position: absolute;border-left: 1px solid gray;box-sizing: border-box;top: 0;bottom: 0;left: 50%;z-index: -1;}#sk-container-id-9 div.sk-parallel-item {display: flex;flex-direction: column;z-index: 1;position: relative;background-color: white;}#sk-container-id-9 div.sk-parallel-item:first-child::after {align-self: flex-end;width: 50%;}#sk-container-id-9 div.sk-parallel-item:last-child::after {align-self: flex-start;width: 50%;}#sk-container-id-9 div.sk-parallel-item:only-child::after {width: 0;}#sk-container-id-9 div.sk-dashed-wrapped {border: 1px dashed gray;margin: 0 0.4em 0.5em 0.4em;box-sizing: border-box;padding-bottom: 0.4em;background-color: white;}#sk-container-id-9 div.sk-label label {font-family: monospace;font-weight: bold;display: inline-block;line-height: 1.2em;}#sk-container-id-9 div.sk-label-container {text-align: center;}#sk-container-id-9 div.sk-container {/* jupyter's `normalize.less` sets `[hidden] { display: none; }` but bootstrap.min.css set `[hidden] { display: none !important; }` so we also need the `!important` here to be able to override the default hidden behavior on the sphinx rendered scikit-learn.org. See: https://github.com/scikit-learn/scikit-learn/issues/21755 */display: inline-block !important;position: relative;}#sk-container-id-9 div.sk-text-repr-fallback {display: none;}</style><div id=\"sk-container-id-9\" class=\"sk-top-container\"><div class=\"sk-text-repr-fallback\"><pre>DecisionTreeClassifier()</pre><b>In a Jupyter environment, please rerun this cell to show the HTML representation or trust the notebook. <br />On GitHub, the HTML representation is unable to render, please try loading this page with nbviewer.org.</b></div><div class=\"sk-container\" hidden><div class=\"sk-item\"><div class=\"sk-estimator sk-toggleable\"><input class=\"sk-toggleable__control sk-hidden--visually\" id=\"sk-estimator-id-9\" type=\"checkbox\" checked><label for=\"sk-estimator-id-9\" class=\"sk-toggleable__label sk-toggleable__label-arrow\">DecisionTreeClassifier</label><div class=\"sk-toggleable__content\"><pre>DecisionTreeClassifier()</pre></div></div></div></div></div>"
      ],
      "text/plain": [
       "DecisionTreeClassifier()"
      ]
     },
     "execution_count": 111,
     "metadata": {},
     "output_type": "execute_result"
    }
   ],
   "source": [
    "dt.fit(x_tr,y_tr)"
   ]
  },
  {
   "cell_type": "code",
   "execution_count": 112,
   "id": "981810e1",
   "metadata": {},
   "outputs": [],
   "source": [
    "dt_p1=dt.predict(x_te)"
   ]
  },
  {
   "cell_type": "code",
   "execution_count": 113,
   "id": "12cbcf43",
   "metadata": {},
   "outputs": [
    {
     "data": {
      "text/plain": [
       "array([[1390,  209],\n",
       "       [  27, 1560]], dtype=int64)"
      ]
     },
     "execution_count": 113,
     "metadata": {},
     "output_type": "execute_result"
    }
   ],
   "source": [
    "dt_cf1=confusion_matrix(y_te,dt_p1)\n",
    "dt_cf1"
   ]
  },
  {
   "cell_type": "code",
   "execution_count": 114,
   "id": "35eae1f1",
   "metadata": {},
   "outputs": [
    {
     "data": {
      "text/plain": [
       "92.5925925925926"
      ]
     },
     "execution_count": 114,
     "metadata": {},
     "output_type": "execute_result"
    }
   ],
   "source": [
    "dt_ac1=dt_cf1.diagonal().sum()/dt_cf1.sum()*100\n",
    "dt_ac1"
   ]
  },
  {
   "cell_type": "code",
   "execution_count": 115,
   "id": "e372cb62",
   "metadata": {},
   "outputs": [],
   "source": [
    "dt_re1=recall_score(y_te,dt_p1)"
   ]
  },
  {
   "cell_type": "code",
   "execution_count": 116,
   "id": "9b5b5bbe",
   "metadata": {},
   "outputs": [],
   "source": [
    "dt_pr1=precision_score(y_te,dt_p1)"
   ]
  },
  {
   "cell_type": "code",
   "execution_count": 117,
   "id": "523c8c0e",
   "metadata": {},
   "outputs": [],
   "source": [
    "dt_f1=f1_score(y_te,dt_p1,average=\"weighted\")"
   ]
  },
  {
   "cell_type": "code",
   "execution_count": 118,
   "id": "c40f0645",
   "metadata": {},
   "outputs": [
    {
     "name": "stdout",
     "output_type": "stream",
     "text": [
      "\n",
      "               precision    recall  f1-score   support\n",
      "\n",
      "           0       0.98      0.87      0.92      1599\n",
      "           1       0.88      0.98      0.93      1587\n",
      "\n",
      "    accuracy                           0.93      3186\n",
      "   macro avg       0.93      0.93      0.93      3186\n",
      "weighted avg       0.93      0.93      0.93      3186\n",
      "\n",
      "\n",
      "Confusion Matrix\n",
      "[[1390  209]\n",
      " [  27 1560]]\n"
     ]
    }
   ],
   "source": [
    "print(\"\\n\",classification_report(y_te,dt_p1))\n",
    "print(\"\\nConfusion Matrix\")\n",
    "print(dt_cf1)"
   ]
  },
  {
   "cell_type": "markdown",
   "id": "3677e171",
   "metadata": {},
   "source": [
    "# RF-Random oversampling"
   ]
  },
  {
   "cell_type": "code",
   "execution_count": 119,
   "id": "805b981b",
   "metadata": {},
   "outputs": [],
   "source": [
    "from sklearn.ensemble import RandomForestClassifier\n",
    "rf1=RandomForestClassifier()"
   ]
  },
  {
   "cell_type": "code",
   "execution_count": 120,
   "id": "20ca09b5",
   "metadata": {},
   "outputs": [
    {
     "data": {
      "text/html": [
       "<style>#sk-container-id-10 {color: black;}#sk-container-id-10 pre{padding: 0;}#sk-container-id-10 div.sk-toggleable {background-color: white;}#sk-container-id-10 label.sk-toggleable__label {cursor: pointer;display: block;width: 100%;margin-bottom: 0;padding: 0.3em;box-sizing: border-box;text-align: center;}#sk-container-id-10 label.sk-toggleable__label-arrow:before {content: \"▸\";float: left;margin-right: 0.25em;color: #696969;}#sk-container-id-10 label.sk-toggleable__label-arrow:hover:before {color: black;}#sk-container-id-10 div.sk-estimator:hover label.sk-toggleable__label-arrow:before {color: black;}#sk-container-id-10 div.sk-toggleable__content {max-height: 0;max-width: 0;overflow: hidden;text-align: left;background-color: #f0f8ff;}#sk-container-id-10 div.sk-toggleable__content pre {margin: 0.2em;color: black;border-radius: 0.25em;background-color: #f0f8ff;}#sk-container-id-10 input.sk-toggleable__control:checked~div.sk-toggleable__content {max-height: 200px;max-width: 100%;overflow: auto;}#sk-container-id-10 input.sk-toggleable__control:checked~label.sk-toggleable__label-arrow:before {content: \"▾\";}#sk-container-id-10 div.sk-estimator input.sk-toggleable__control:checked~label.sk-toggleable__label {background-color: #d4ebff;}#sk-container-id-10 div.sk-label input.sk-toggleable__control:checked~label.sk-toggleable__label {background-color: #d4ebff;}#sk-container-id-10 input.sk-hidden--visually {border: 0;clip: rect(1px 1px 1px 1px);clip: rect(1px, 1px, 1px, 1px);height: 1px;margin: -1px;overflow: hidden;padding: 0;position: absolute;width: 1px;}#sk-container-id-10 div.sk-estimator {font-family: monospace;background-color: #f0f8ff;border: 1px dotted black;border-radius: 0.25em;box-sizing: border-box;margin-bottom: 0.5em;}#sk-container-id-10 div.sk-estimator:hover {background-color: #d4ebff;}#sk-container-id-10 div.sk-parallel-item::after {content: \"\";width: 100%;border-bottom: 1px solid gray;flex-grow: 1;}#sk-container-id-10 div.sk-label:hover label.sk-toggleable__label {background-color: #d4ebff;}#sk-container-id-10 div.sk-serial::before {content: \"\";position: absolute;border-left: 1px solid gray;box-sizing: border-box;top: 0;bottom: 0;left: 50%;z-index: 0;}#sk-container-id-10 div.sk-serial {display: flex;flex-direction: column;align-items: center;background-color: white;padding-right: 0.2em;padding-left: 0.2em;position: relative;}#sk-container-id-10 div.sk-item {position: relative;z-index: 1;}#sk-container-id-10 div.sk-parallel {display: flex;align-items: stretch;justify-content: center;background-color: white;position: relative;}#sk-container-id-10 div.sk-item::before, #sk-container-id-10 div.sk-parallel-item::before {content: \"\";position: absolute;border-left: 1px solid gray;box-sizing: border-box;top: 0;bottom: 0;left: 50%;z-index: -1;}#sk-container-id-10 div.sk-parallel-item {display: flex;flex-direction: column;z-index: 1;position: relative;background-color: white;}#sk-container-id-10 div.sk-parallel-item:first-child::after {align-self: flex-end;width: 50%;}#sk-container-id-10 div.sk-parallel-item:last-child::after {align-self: flex-start;width: 50%;}#sk-container-id-10 div.sk-parallel-item:only-child::after {width: 0;}#sk-container-id-10 div.sk-dashed-wrapped {border: 1px dashed gray;margin: 0 0.4em 0.5em 0.4em;box-sizing: border-box;padding-bottom: 0.4em;background-color: white;}#sk-container-id-10 div.sk-label label {font-family: monospace;font-weight: bold;display: inline-block;line-height: 1.2em;}#sk-container-id-10 div.sk-label-container {text-align: center;}#sk-container-id-10 div.sk-container {/* jupyter's `normalize.less` sets `[hidden] { display: none; }` but bootstrap.min.css set `[hidden] { display: none !important; }` so we also need the `!important` here to be able to override the default hidden behavior on the sphinx rendered scikit-learn.org. See: https://github.com/scikit-learn/scikit-learn/issues/21755 */display: inline-block !important;position: relative;}#sk-container-id-10 div.sk-text-repr-fallback {display: none;}</style><div id=\"sk-container-id-10\" class=\"sk-top-container\"><div class=\"sk-text-repr-fallback\"><pre>RandomForestClassifier()</pre><b>In a Jupyter environment, please rerun this cell to show the HTML representation or trust the notebook. <br />On GitHub, the HTML representation is unable to render, please try loading this page with nbviewer.org.</b></div><div class=\"sk-container\" hidden><div class=\"sk-item\"><div class=\"sk-estimator sk-toggleable\"><input class=\"sk-toggleable__control sk-hidden--visually\" id=\"sk-estimator-id-10\" type=\"checkbox\" checked><label for=\"sk-estimator-id-10\" class=\"sk-toggleable__label sk-toggleable__label-arrow\">RandomForestClassifier</label><div class=\"sk-toggleable__content\"><pre>RandomForestClassifier()</pre></div></div></div></div></div>"
      ],
      "text/plain": [
       "RandomForestClassifier()"
      ]
     },
     "execution_count": 120,
     "metadata": {},
     "output_type": "execute_result"
    }
   ],
   "source": [
    "rf1.fit(x_tr,y_tr)"
   ]
  },
  {
   "cell_type": "code",
   "execution_count": 121,
   "id": "cc61d3fa",
   "metadata": {},
   "outputs": [],
   "source": [
    "rf_p1=rf1.predict(x_te)"
   ]
  },
  {
   "cell_type": "code",
   "execution_count": 122,
   "id": "c1f8ad1b",
   "metadata": {},
   "outputs": [
    {
     "data": {
      "text/plain": [
       "array([[1475,  124],\n",
       "       [  20, 1567]], dtype=int64)"
      ]
     },
     "execution_count": 122,
     "metadata": {},
     "output_type": "execute_result"
    }
   ],
   "source": [
    "rf_cf1=confusion_matrix(y_te,rf_p1)\n",
    "rf_cf1"
   ]
  },
  {
   "cell_type": "code",
   "execution_count": 123,
   "id": "bba939fa",
   "metadata": {},
   "outputs": [
    {
     "data": {
      "text/plain": [
       "95.48022598870057"
      ]
     },
     "execution_count": 123,
     "metadata": {},
     "output_type": "execute_result"
    }
   ],
   "source": [
    "rf_ac1=rf_cf1.diagonal().sum()/rf_cf1.sum()*100\n",
    "rf_ac1"
   ]
  },
  {
   "cell_type": "code",
   "execution_count": 124,
   "id": "26ae7485",
   "metadata": {},
   "outputs": [],
   "source": [
    "rf_re1=recall_score(y_te,rf_p1)\n",
    "rf_pr1=precision_score(y_te,rf_p1)\n",
    "rf_f1=f1_score(y_te,rf_p1,average=\"weighted\")"
   ]
  },
  {
   "cell_type": "code",
   "execution_count": 125,
   "id": "426a5ae1",
   "metadata": {},
   "outputs": [
    {
     "name": "stdout",
     "output_type": "stream",
     "text": [
      "\n",
      "               precision    recall  f1-score   support\n",
      "\n",
      "           0       0.99      0.92      0.95      1599\n",
      "           1       0.93      0.99      0.96      1587\n",
      "\n",
      "    accuracy                           0.95      3186\n",
      "   macro avg       0.96      0.95      0.95      3186\n",
      "weighted avg       0.96      0.95      0.95      3186\n",
      "\n",
      "\n",
      "Confusion Matrix\n",
      "[[1475  124]\n",
      " [  20 1567]]\n"
     ]
    }
   ],
   "source": [
    "print(\"\\n\",classification_report(y_te,rf_p1))\n",
    "print(\"\\nConfusion Matrix\")\n",
    "print(rf_cf1)"
   ]
  },
  {
   "cell_type": "markdown",
   "id": "b9f17d29",
   "metadata": {},
   "source": [
    "# KNN-Random oversampling"
   ]
  },
  {
   "cell_type": "code",
   "execution_count": 126,
   "id": "5449e2b5",
   "metadata": {},
   "outputs": [],
   "source": [
    "from sklearn.neighbors import KNeighborsClassifier\n",
    "knn=KNeighborsClassifier()"
   ]
  },
  {
   "cell_type": "code",
   "execution_count": 127,
   "id": "31269fca",
   "metadata": {},
   "outputs": [
    {
     "data": {
      "text/html": [
       "<style>#sk-container-id-11 {color: black;}#sk-container-id-11 pre{padding: 0;}#sk-container-id-11 div.sk-toggleable {background-color: white;}#sk-container-id-11 label.sk-toggleable__label {cursor: pointer;display: block;width: 100%;margin-bottom: 0;padding: 0.3em;box-sizing: border-box;text-align: center;}#sk-container-id-11 label.sk-toggleable__label-arrow:before {content: \"▸\";float: left;margin-right: 0.25em;color: #696969;}#sk-container-id-11 label.sk-toggleable__label-arrow:hover:before {color: black;}#sk-container-id-11 div.sk-estimator:hover label.sk-toggleable__label-arrow:before {color: black;}#sk-container-id-11 div.sk-toggleable__content {max-height: 0;max-width: 0;overflow: hidden;text-align: left;background-color: #f0f8ff;}#sk-container-id-11 div.sk-toggleable__content pre {margin: 0.2em;color: black;border-radius: 0.25em;background-color: #f0f8ff;}#sk-container-id-11 input.sk-toggleable__control:checked~div.sk-toggleable__content {max-height: 200px;max-width: 100%;overflow: auto;}#sk-container-id-11 input.sk-toggleable__control:checked~label.sk-toggleable__label-arrow:before {content: \"▾\";}#sk-container-id-11 div.sk-estimator input.sk-toggleable__control:checked~label.sk-toggleable__label {background-color: #d4ebff;}#sk-container-id-11 div.sk-label input.sk-toggleable__control:checked~label.sk-toggleable__label {background-color: #d4ebff;}#sk-container-id-11 input.sk-hidden--visually {border: 0;clip: rect(1px 1px 1px 1px);clip: rect(1px, 1px, 1px, 1px);height: 1px;margin: -1px;overflow: hidden;padding: 0;position: absolute;width: 1px;}#sk-container-id-11 div.sk-estimator {font-family: monospace;background-color: #f0f8ff;border: 1px dotted black;border-radius: 0.25em;box-sizing: border-box;margin-bottom: 0.5em;}#sk-container-id-11 div.sk-estimator:hover {background-color: #d4ebff;}#sk-container-id-11 div.sk-parallel-item::after {content: \"\";width: 100%;border-bottom: 1px solid gray;flex-grow: 1;}#sk-container-id-11 div.sk-label:hover label.sk-toggleable__label {background-color: #d4ebff;}#sk-container-id-11 div.sk-serial::before {content: \"\";position: absolute;border-left: 1px solid gray;box-sizing: border-box;top: 0;bottom: 0;left: 50%;z-index: 0;}#sk-container-id-11 div.sk-serial {display: flex;flex-direction: column;align-items: center;background-color: white;padding-right: 0.2em;padding-left: 0.2em;position: relative;}#sk-container-id-11 div.sk-item {position: relative;z-index: 1;}#sk-container-id-11 div.sk-parallel {display: flex;align-items: stretch;justify-content: center;background-color: white;position: relative;}#sk-container-id-11 div.sk-item::before, #sk-container-id-11 div.sk-parallel-item::before {content: \"\";position: absolute;border-left: 1px solid gray;box-sizing: border-box;top: 0;bottom: 0;left: 50%;z-index: -1;}#sk-container-id-11 div.sk-parallel-item {display: flex;flex-direction: column;z-index: 1;position: relative;background-color: white;}#sk-container-id-11 div.sk-parallel-item:first-child::after {align-self: flex-end;width: 50%;}#sk-container-id-11 div.sk-parallel-item:last-child::after {align-self: flex-start;width: 50%;}#sk-container-id-11 div.sk-parallel-item:only-child::after {width: 0;}#sk-container-id-11 div.sk-dashed-wrapped {border: 1px dashed gray;margin: 0 0.4em 0.5em 0.4em;box-sizing: border-box;padding-bottom: 0.4em;background-color: white;}#sk-container-id-11 div.sk-label label {font-family: monospace;font-weight: bold;display: inline-block;line-height: 1.2em;}#sk-container-id-11 div.sk-label-container {text-align: center;}#sk-container-id-11 div.sk-container {/* jupyter's `normalize.less` sets `[hidden] { display: none; }` but bootstrap.min.css set `[hidden] { display: none !important; }` so we also need the `!important` here to be able to override the default hidden behavior on the sphinx rendered scikit-learn.org. See: https://github.com/scikit-learn/scikit-learn/issues/21755 */display: inline-block !important;position: relative;}#sk-container-id-11 div.sk-text-repr-fallback {display: none;}</style><div id=\"sk-container-id-11\" class=\"sk-top-container\"><div class=\"sk-text-repr-fallback\"><pre>KNeighborsClassifier()</pre><b>In a Jupyter environment, please rerun this cell to show the HTML representation or trust the notebook. <br />On GitHub, the HTML representation is unable to render, please try loading this page with nbviewer.org.</b></div><div class=\"sk-container\" hidden><div class=\"sk-item\"><div class=\"sk-estimator sk-toggleable\"><input class=\"sk-toggleable__control sk-hidden--visually\" id=\"sk-estimator-id-11\" type=\"checkbox\" checked><label for=\"sk-estimator-id-11\" class=\"sk-toggleable__label sk-toggleable__label-arrow\">KNeighborsClassifier</label><div class=\"sk-toggleable__content\"><pre>KNeighborsClassifier()</pre></div></div></div></div></div>"
      ],
      "text/plain": [
       "KNeighborsClassifier()"
      ]
     },
     "execution_count": 127,
     "metadata": {},
     "output_type": "execute_result"
    }
   ],
   "source": [
    "knn.fit(x_tr,y_tr)"
   ]
  },
  {
   "cell_type": "code",
   "execution_count": 128,
   "id": "e075a202",
   "metadata": {},
   "outputs": [],
   "source": [
    "knn_p1=knn.predict(x_te)"
   ]
  },
  {
   "cell_type": "code",
   "execution_count": 129,
   "id": "7bab8ec4",
   "metadata": {},
   "outputs": [
    {
     "data": {
      "text/plain": [
       "array([[ 940,  659],\n",
       "       [ 297, 1290]], dtype=int64)"
      ]
     },
     "execution_count": 129,
     "metadata": {},
     "output_type": "execute_result"
    }
   ],
   "source": [
    "knn_cf1=confusion_matrix(y_te,knn_p1)\n",
    "knn_cf1"
   ]
  },
  {
   "cell_type": "code",
   "execution_count": 130,
   "id": "b40291bb",
   "metadata": {},
   "outputs": [
    {
     "data": {
      "text/plain": [
       "69.99372253609542"
      ]
     },
     "execution_count": 130,
     "metadata": {},
     "output_type": "execute_result"
    }
   ],
   "source": [
    "knn_ac1=knn_cf1.diagonal().sum()/knn_cf1.sum()*100\n",
    "knn_ac1"
   ]
  },
  {
   "cell_type": "code",
   "execution_count": 131,
   "id": "17996290",
   "metadata": {},
   "outputs": [],
   "source": [
    "knn_re1=recall_score(y_te,knn_p1)\n",
    "knn_pr1=precision_score(y_te,knn_p1)\n",
    "knn_f1=f1_score(y_te,knn_p1,average=\"weighted\")"
   ]
  },
  {
   "cell_type": "code",
   "execution_count": 132,
   "id": "c7213528",
   "metadata": {},
   "outputs": [
    {
     "name": "stdout",
     "output_type": "stream",
     "text": [
      "\n",
      "               precision    recall  f1-score   support\n",
      "\n",
      "           0       0.76      0.59      0.66      1599\n",
      "           1       0.66      0.81      0.73      1587\n",
      "\n",
      "    accuracy                           0.70      3186\n",
      "   macro avg       0.71      0.70      0.70      3186\n",
      "weighted avg       0.71      0.70      0.70      3186\n",
      "\n",
      "\n",
      "Confusion Matrix\n",
      "[[ 940  659]\n",
      " [ 297 1290]]\n"
     ]
    }
   ],
   "source": [
    "print(\"\\n\",classification_report(y_te,knn_p1)) \n",
    "print(\"\\nConfusion Matrix\")\n",
    "print(knn_cf1)"
   ]
  },
  {
   "cell_type": "markdown",
   "id": "4119b0ba",
   "metadata": {},
   "source": [
    "# XGB-Random oversampling"
   ]
  },
  {
   "cell_type": "code",
   "execution_count": 133,
   "id": "bbfbf837",
   "metadata": {},
   "outputs": [],
   "source": [
    "import xgboost\n",
    "from xgboost import XGBClassifier\n",
    "xgb=XGBClassifier()"
   ]
  },
  {
   "cell_type": "code",
   "execution_count": 134,
   "id": "b1c469a2",
   "metadata": {},
   "outputs": [
    {
     "data": {
      "text/html": [
       "<style>#sk-container-id-12 {color: black;}#sk-container-id-12 pre{padding: 0;}#sk-container-id-12 div.sk-toggleable {background-color: white;}#sk-container-id-12 label.sk-toggleable__label {cursor: pointer;display: block;width: 100%;margin-bottom: 0;padding: 0.3em;box-sizing: border-box;text-align: center;}#sk-container-id-12 label.sk-toggleable__label-arrow:before {content: \"▸\";float: left;margin-right: 0.25em;color: #696969;}#sk-container-id-12 label.sk-toggleable__label-arrow:hover:before {color: black;}#sk-container-id-12 div.sk-estimator:hover label.sk-toggleable__label-arrow:before {color: black;}#sk-container-id-12 div.sk-toggleable__content {max-height: 0;max-width: 0;overflow: hidden;text-align: left;background-color: #f0f8ff;}#sk-container-id-12 div.sk-toggleable__content pre {margin: 0.2em;color: black;border-radius: 0.25em;background-color: #f0f8ff;}#sk-container-id-12 input.sk-toggleable__control:checked~div.sk-toggleable__content {max-height: 200px;max-width: 100%;overflow: auto;}#sk-container-id-12 input.sk-toggleable__control:checked~label.sk-toggleable__label-arrow:before {content: \"▾\";}#sk-container-id-12 div.sk-estimator input.sk-toggleable__control:checked~label.sk-toggleable__label {background-color: #d4ebff;}#sk-container-id-12 div.sk-label input.sk-toggleable__control:checked~label.sk-toggleable__label {background-color: #d4ebff;}#sk-container-id-12 input.sk-hidden--visually {border: 0;clip: rect(1px 1px 1px 1px);clip: rect(1px, 1px, 1px, 1px);height: 1px;margin: -1px;overflow: hidden;padding: 0;position: absolute;width: 1px;}#sk-container-id-12 div.sk-estimator {font-family: monospace;background-color: #f0f8ff;border: 1px dotted black;border-radius: 0.25em;box-sizing: border-box;margin-bottom: 0.5em;}#sk-container-id-12 div.sk-estimator:hover {background-color: #d4ebff;}#sk-container-id-12 div.sk-parallel-item::after {content: \"\";width: 100%;border-bottom: 1px solid gray;flex-grow: 1;}#sk-container-id-12 div.sk-label:hover label.sk-toggleable__label {background-color: #d4ebff;}#sk-container-id-12 div.sk-serial::before {content: \"\";position: absolute;border-left: 1px solid gray;box-sizing: border-box;top: 0;bottom: 0;left: 50%;z-index: 0;}#sk-container-id-12 div.sk-serial {display: flex;flex-direction: column;align-items: center;background-color: white;padding-right: 0.2em;padding-left: 0.2em;position: relative;}#sk-container-id-12 div.sk-item {position: relative;z-index: 1;}#sk-container-id-12 div.sk-parallel {display: flex;align-items: stretch;justify-content: center;background-color: white;position: relative;}#sk-container-id-12 div.sk-item::before, #sk-container-id-12 div.sk-parallel-item::before {content: \"\";position: absolute;border-left: 1px solid gray;box-sizing: border-box;top: 0;bottom: 0;left: 50%;z-index: -1;}#sk-container-id-12 div.sk-parallel-item {display: flex;flex-direction: column;z-index: 1;position: relative;background-color: white;}#sk-container-id-12 div.sk-parallel-item:first-child::after {align-self: flex-end;width: 50%;}#sk-container-id-12 div.sk-parallel-item:last-child::after {align-self: flex-start;width: 50%;}#sk-container-id-12 div.sk-parallel-item:only-child::after {width: 0;}#sk-container-id-12 div.sk-dashed-wrapped {border: 1px dashed gray;margin: 0 0.4em 0.5em 0.4em;box-sizing: border-box;padding-bottom: 0.4em;background-color: white;}#sk-container-id-12 div.sk-label label {font-family: monospace;font-weight: bold;display: inline-block;line-height: 1.2em;}#sk-container-id-12 div.sk-label-container {text-align: center;}#sk-container-id-12 div.sk-container {/* jupyter's `normalize.less` sets `[hidden] { display: none; }` but bootstrap.min.css set `[hidden] { display: none !important; }` so we also need the `!important` here to be able to override the default hidden behavior on the sphinx rendered scikit-learn.org. See: https://github.com/scikit-learn/scikit-learn/issues/21755 */display: inline-block !important;position: relative;}#sk-container-id-12 div.sk-text-repr-fallback {display: none;}</style><div id=\"sk-container-id-12\" class=\"sk-top-container\"><div class=\"sk-text-repr-fallback\"><pre>XGBClassifier(base_score=None, booster=None, callbacks=None,\n",
       "              colsample_bylevel=None, colsample_bynode=None,\n",
       "              colsample_bytree=None, early_stopping_rounds=None,\n",
       "              enable_categorical=False, eval_metric=None, feature_types=None,\n",
       "              gamma=None, gpu_id=None, grow_policy=None, importance_type=None,\n",
       "              interaction_constraints=None, learning_rate=None, max_bin=None,\n",
       "              max_cat_threshold=None, max_cat_to_onehot=None,\n",
       "              max_delta_step=None, max_depth=None, max_leaves=None,\n",
       "              min_child_weight=None, missing=nan, monotone_constraints=None,\n",
       "              n_estimators=100, n_jobs=None, num_parallel_tree=None,\n",
       "              predictor=None, random_state=None, ...)</pre><b>In a Jupyter environment, please rerun this cell to show the HTML representation or trust the notebook. <br />On GitHub, the HTML representation is unable to render, please try loading this page with nbviewer.org.</b></div><div class=\"sk-container\" hidden><div class=\"sk-item\"><div class=\"sk-estimator sk-toggleable\"><input class=\"sk-toggleable__control sk-hidden--visually\" id=\"sk-estimator-id-12\" type=\"checkbox\" checked><label for=\"sk-estimator-id-12\" class=\"sk-toggleable__label sk-toggleable__label-arrow\">XGBClassifier</label><div class=\"sk-toggleable__content\"><pre>XGBClassifier(base_score=None, booster=None, callbacks=None,\n",
       "              colsample_bylevel=None, colsample_bynode=None,\n",
       "              colsample_bytree=None, early_stopping_rounds=None,\n",
       "              enable_categorical=False, eval_metric=None, feature_types=None,\n",
       "              gamma=None, gpu_id=None, grow_policy=None, importance_type=None,\n",
       "              interaction_constraints=None, learning_rate=None, max_bin=None,\n",
       "              max_cat_threshold=None, max_cat_to_onehot=None,\n",
       "              max_delta_step=None, max_depth=None, max_leaves=None,\n",
       "              min_child_weight=None, missing=nan, monotone_constraints=None,\n",
       "              n_estimators=100, n_jobs=None, num_parallel_tree=None,\n",
       "              predictor=None, random_state=None, ...)</pre></div></div></div></div></div>"
      ],
      "text/plain": [
       "XGBClassifier(base_score=None, booster=None, callbacks=None,\n",
       "              colsample_bylevel=None, colsample_bynode=None,\n",
       "              colsample_bytree=None, early_stopping_rounds=None,\n",
       "              enable_categorical=False, eval_metric=None, feature_types=None,\n",
       "              gamma=None, gpu_id=None, grow_policy=None, importance_type=None,\n",
       "              interaction_constraints=None, learning_rate=None, max_bin=None,\n",
       "              max_cat_threshold=None, max_cat_to_onehot=None,\n",
       "              max_delta_step=None, max_depth=None, max_leaves=None,\n",
       "              min_child_weight=None, missing=nan, monotone_constraints=None,\n",
       "              n_estimators=100, n_jobs=None, num_parallel_tree=None,\n",
       "              predictor=None, random_state=None, ...)"
      ]
     },
     "execution_count": 134,
     "metadata": {},
     "output_type": "execute_result"
    }
   ],
   "source": [
    "xgb.fit(x_tr,y_tr)"
   ]
  },
  {
   "cell_type": "code",
   "execution_count": 135,
   "id": "642040c0",
   "metadata": {},
   "outputs": [],
   "source": [
    "xgb_p1=xgb.predict(x_te)"
   ]
  },
  {
   "cell_type": "code",
   "execution_count": 136,
   "id": "3c7d594c",
   "metadata": {},
   "outputs": [
    {
     "data": {
      "text/plain": [
       "array([[1387,  212],\n",
       "       [ 113, 1474]], dtype=int64)"
      ]
     },
     "execution_count": 136,
     "metadata": {},
     "output_type": "execute_result"
    }
   ],
   "source": [
    "xgb_cf1=confusion_matrix(y_te,xgb_p1)\n",
    "xgb_cf1"
   ]
  },
  {
   "cell_type": "code",
   "execution_count": 137,
   "id": "6e3f0455",
   "metadata": {},
   "outputs": [
    {
     "data": {
      "text/plain": [
       "89.79912115505336"
      ]
     },
     "execution_count": 137,
     "metadata": {},
     "output_type": "execute_result"
    }
   ],
   "source": [
    "xgb_ac1=xgb_cf1.diagonal().sum()/xgb_cf1.sum()*100\n",
    "xgb_ac1"
   ]
  },
  {
   "cell_type": "code",
   "execution_count": 138,
   "id": "3e4868d1",
   "metadata": {},
   "outputs": [],
   "source": [
    "xgb_re1=recall_score(y_te,xgb_p1)\n",
    "xgb_pr1=precision_score(y_te,xgb_p1)\n",
    "xgb_f1=f1_score(y_te,xgb_p1,average=\"weighted\")"
   ]
  },
  {
   "cell_type": "code",
   "execution_count": 139,
   "id": "8bafc7b7",
   "metadata": {},
   "outputs": [
    {
     "name": "stdout",
     "output_type": "stream",
     "text": [
      "\n",
      "               precision    recall  f1-score   support\n",
      "\n",
      "           0       0.92      0.87      0.90      1599\n",
      "           1       0.87      0.93      0.90      1587\n",
      "\n",
      "    accuracy                           0.90      3186\n",
      "   macro avg       0.90      0.90      0.90      3186\n",
      "weighted avg       0.90      0.90      0.90      3186\n",
      "\n",
      "\n",
      "Confusion Matrix\n",
      "[[1387  212]\n",
      " [ 113 1474]]\n"
     ]
    }
   ],
   "source": [
    "print(\"\\n\",classification_report(y_te,xgb_p1)) \n",
    "print(\"\\nConfusion Matrix\")\n",
    "print(xgb_cf1)"
   ]
  },
  {
   "cell_type": "markdown",
   "id": "7a8fae99",
   "metadata": {},
   "source": [
    "# SVM-Random oversampling"
   ]
  },
  {
   "cell_type": "code",
   "execution_count": 140,
   "id": "7cfdb6c5",
   "metadata": {},
   "outputs": [],
   "source": [
    "from sklearn.svm import SVC\n",
    "svm=SVC()"
   ]
  },
  {
   "cell_type": "code",
   "execution_count": 141,
   "id": "38b39f64",
   "metadata": {},
   "outputs": [
    {
     "data": {
      "text/html": [
       "<style>#sk-container-id-13 {color: black;}#sk-container-id-13 pre{padding: 0;}#sk-container-id-13 div.sk-toggleable {background-color: white;}#sk-container-id-13 label.sk-toggleable__label {cursor: pointer;display: block;width: 100%;margin-bottom: 0;padding: 0.3em;box-sizing: border-box;text-align: center;}#sk-container-id-13 label.sk-toggleable__label-arrow:before {content: \"▸\";float: left;margin-right: 0.25em;color: #696969;}#sk-container-id-13 label.sk-toggleable__label-arrow:hover:before {color: black;}#sk-container-id-13 div.sk-estimator:hover label.sk-toggleable__label-arrow:before {color: black;}#sk-container-id-13 div.sk-toggleable__content {max-height: 0;max-width: 0;overflow: hidden;text-align: left;background-color: #f0f8ff;}#sk-container-id-13 div.sk-toggleable__content pre {margin: 0.2em;color: black;border-radius: 0.25em;background-color: #f0f8ff;}#sk-container-id-13 input.sk-toggleable__control:checked~div.sk-toggleable__content {max-height: 200px;max-width: 100%;overflow: auto;}#sk-container-id-13 input.sk-toggleable__control:checked~label.sk-toggleable__label-arrow:before {content: \"▾\";}#sk-container-id-13 div.sk-estimator input.sk-toggleable__control:checked~label.sk-toggleable__label {background-color: #d4ebff;}#sk-container-id-13 div.sk-label input.sk-toggleable__control:checked~label.sk-toggleable__label {background-color: #d4ebff;}#sk-container-id-13 input.sk-hidden--visually {border: 0;clip: rect(1px 1px 1px 1px);clip: rect(1px, 1px, 1px, 1px);height: 1px;margin: -1px;overflow: hidden;padding: 0;position: absolute;width: 1px;}#sk-container-id-13 div.sk-estimator {font-family: monospace;background-color: #f0f8ff;border: 1px dotted black;border-radius: 0.25em;box-sizing: border-box;margin-bottom: 0.5em;}#sk-container-id-13 div.sk-estimator:hover {background-color: #d4ebff;}#sk-container-id-13 div.sk-parallel-item::after {content: \"\";width: 100%;border-bottom: 1px solid gray;flex-grow: 1;}#sk-container-id-13 div.sk-label:hover label.sk-toggleable__label {background-color: #d4ebff;}#sk-container-id-13 div.sk-serial::before {content: \"\";position: absolute;border-left: 1px solid gray;box-sizing: border-box;top: 0;bottom: 0;left: 50%;z-index: 0;}#sk-container-id-13 div.sk-serial {display: flex;flex-direction: column;align-items: center;background-color: white;padding-right: 0.2em;padding-left: 0.2em;position: relative;}#sk-container-id-13 div.sk-item {position: relative;z-index: 1;}#sk-container-id-13 div.sk-parallel {display: flex;align-items: stretch;justify-content: center;background-color: white;position: relative;}#sk-container-id-13 div.sk-item::before, #sk-container-id-13 div.sk-parallel-item::before {content: \"\";position: absolute;border-left: 1px solid gray;box-sizing: border-box;top: 0;bottom: 0;left: 50%;z-index: -1;}#sk-container-id-13 div.sk-parallel-item {display: flex;flex-direction: column;z-index: 1;position: relative;background-color: white;}#sk-container-id-13 div.sk-parallel-item:first-child::after {align-self: flex-end;width: 50%;}#sk-container-id-13 div.sk-parallel-item:last-child::after {align-self: flex-start;width: 50%;}#sk-container-id-13 div.sk-parallel-item:only-child::after {width: 0;}#sk-container-id-13 div.sk-dashed-wrapped {border: 1px dashed gray;margin: 0 0.4em 0.5em 0.4em;box-sizing: border-box;padding-bottom: 0.4em;background-color: white;}#sk-container-id-13 div.sk-label label {font-family: monospace;font-weight: bold;display: inline-block;line-height: 1.2em;}#sk-container-id-13 div.sk-label-container {text-align: center;}#sk-container-id-13 div.sk-container {/* jupyter's `normalize.less` sets `[hidden] { display: none; }` but bootstrap.min.css set `[hidden] { display: none !important; }` so we also need the `!important` here to be able to override the default hidden behavior on the sphinx rendered scikit-learn.org. See: https://github.com/scikit-learn/scikit-learn/issues/21755 */display: inline-block !important;position: relative;}#sk-container-id-13 div.sk-text-repr-fallback {display: none;}</style><div id=\"sk-container-id-13\" class=\"sk-top-container\"><div class=\"sk-text-repr-fallback\"><pre>SVC()</pre><b>In a Jupyter environment, please rerun this cell to show the HTML representation or trust the notebook. <br />On GitHub, the HTML representation is unable to render, please try loading this page with nbviewer.org.</b></div><div class=\"sk-container\" hidden><div class=\"sk-item\"><div class=\"sk-estimator sk-toggleable\"><input class=\"sk-toggleable__control sk-hidden--visually\" id=\"sk-estimator-id-13\" type=\"checkbox\" checked><label for=\"sk-estimator-id-13\" class=\"sk-toggleable__label sk-toggleable__label-arrow\">SVC</label><div class=\"sk-toggleable__content\"><pre>SVC()</pre></div></div></div></div></div>"
      ],
      "text/plain": [
       "SVC()"
      ]
     },
     "execution_count": 141,
     "metadata": {},
     "output_type": "execute_result"
    }
   ],
   "source": [
    "svm.fit(x_tr,y_tr)"
   ]
  },
  {
   "cell_type": "code",
   "execution_count": 142,
   "id": "d0e64b41",
   "metadata": {},
   "outputs": [],
   "source": [
    "svm_p1=svm.predict(x_te)"
   ]
  },
  {
   "cell_type": "code",
   "execution_count": 143,
   "id": "944f0f47",
   "metadata": {},
   "outputs": [
    {
     "data": {
      "text/plain": [
       "array([[ 617,  982],\n",
       "       [ 391, 1196]], dtype=int64)"
      ]
     },
     "execution_count": 143,
     "metadata": {},
     "output_type": "execute_result"
    }
   ],
   "source": [
    "svm_cf1=confusion_matrix(y_te,svm_p1)\n",
    "svm_cf1"
   ]
  },
  {
   "cell_type": "code",
   "execution_count": 144,
   "id": "c3b16bb3",
   "metadata": {},
   "outputs": [
    {
     "data": {
      "text/plain": [
       "56.90521029504081"
      ]
     },
     "execution_count": 144,
     "metadata": {},
     "output_type": "execute_result"
    }
   ],
   "source": [
    "svm_ac1=svm_cf1.diagonal().sum()/svm_cf1.sum()*100\n",
    "svm_ac1"
   ]
  },
  {
   "cell_type": "code",
   "execution_count": 145,
   "id": "85dd492a",
   "metadata": {},
   "outputs": [],
   "source": [
    "svm_re1=recall_score(y_te,svm_p1)\n",
    "svm_pr1=precision_score(y_te,svm_p1)\n",
    "svm_f1=f1_score(y_te,svm_p1,average=\"weighted\")"
   ]
  },
  {
   "cell_type": "code",
   "execution_count": 146,
   "id": "ac1ab301",
   "metadata": {},
   "outputs": [
    {
     "name": "stdout",
     "output_type": "stream",
     "text": [
      "\n",
      "               precision    recall  f1-score   support\n",
      "\n",
      "           0       0.61      0.39      0.47      1599\n",
      "           1       0.55      0.75      0.64      1587\n",
      "\n",
      "    accuracy                           0.57      3186\n",
      "   macro avg       0.58      0.57      0.55      3186\n",
      "weighted avg       0.58      0.57      0.55      3186\n",
      "\n",
      "\n",
      "Confusion Matrix\n",
      "[[ 617  982]\n",
      " [ 391 1196]]\n"
     ]
    }
   ],
   "source": [
    "print(\"\\n\",classification_report(y_te,svm_p1)) \n",
    "print(\"\\nConfusion Matrix\")\n",
    "print(svm_cf1)"
   ]
  },
  {
   "cell_type": "markdown",
   "id": "50898696",
   "metadata": {},
   "source": [
    "# NB-Random oversampling"
   ]
  },
  {
   "cell_type": "code",
   "execution_count": 147,
   "id": "db533080",
   "metadata": {},
   "outputs": [],
   "source": [
    "from sklearn.naive_bayes import MultinomialNB\n",
    "nb=MultinomialNB()"
   ]
  },
  {
   "cell_type": "code",
   "execution_count": 148,
   "id": "4a95bfc2",
   "metadata": {},
   "outputs": [
    {
     "data": {
      "text/html": [
       "<style>#sk-container-id-14 {color: black;}#sk-container-id-14 pre{padding: 0;}#sk-container-id-14 div.sk-toggleable {background-color: white;}#sk-container-id-14 label.sk-toggleable__label {cursor: pointer;display: block;width: 100%;margin-bottom: 0;padding: 0.3em;box-sizing: border-box;text-align: center;}#sk-container-id-14 label.sk-toggleable__label-arrow:before {content: \"▸\";float: left;margin-right: 0.25em;color: #696969;}#sk-container-id-14 label.sk-toggleable__label-arrow:hover:before {color: black;}#sk-container-id-14 div.sk-estimator:hover label.sk-toggleable__label-arrow:before {color: black;}#sk-container-id-14 div.sk-toggleable__content {max-height: 0;max-width: 0;overflow: hidden;text-align: left;background-color: #f0f8ff;}#sk-container-id-14 div.sk-toggleable__content pre {margin: 0.2em;color: black;border-radius: 0.25em;background-color: #f0f8ff;}#sk-container-id-14 input.sk-toggleable__control:checked~div.sk-toggleable__content {max-height: 200px;max-width: 100%;overflow: auto;}#sk-container-id-14 input.sk-toggleable__control:checked~label.sk-toggleable__label-arrow:before {content: \"▾\";}#sk-container-id-14 div.sk-estimator input.sk-toggleable__control:checked~label.sk-toggleable__label {background-color: #d4ebff;}#sk-container-id-14 div.sk-label input.sk-toggleable__control:checked~label.sk-toggleable__label {background-color: #d4ebff;}#sk-container-id-14 input.sk-hidden--visually {border: 0;clip: rect(1px 1px 1px 1px);clip: rect(1px, 1px, 1px, 1px);height: 1px;margin: -1px;overflow: hidden;padding: 0;position: absolute;width: 1px;}#sk-container-id-14 div.sk-estimator {font-family: monospace;background-color: #f0f8ff;border: 1px dotted black;border-radius: 0.25em;box-sizing: border-box;margin-bottom: 0.5em;}#sk-container-id-14 div.sk-estimator:hover {background-color: #d4ebff;}#sk-container-id-14 div.sk-parallel-item::after {content: \"\";width: 100%;border-bottom: 1px solid gray;flex-grow: 1;}#sk-container-id-14 div.sk-label:hover label.sk-toggleable__label {background-color: #d4ebff;}#sk-container-id-14 div.sk-serial::before {content: \"\";position: absolute;border-left: 1px solid gray;box-sizing: border-box;top: 0;bottom: 0;left: 50%;z-index: 0;}#sk-container-id-14 div.sk-serial {display: flex;flex-direction: column;align-items: center;background-color: white;padding-right: 0.2em;padding-left: 0.2em;position: relative;}#sk-container-id-14 div.sk-item {position: relative;z-index: 1;}#sk-container-id-14 div.sk-parallel {display: flex;align-items: stretch;justify-content: center;background-color: white;position: relative;}#sk-container-id-14 div.sk-item::before, #sk-container-id-14 div.sk-parallel-item::before {content: \"\";position: absolute;border-left: 1px solid gray;box-sizing: border-box;top: 0;bottom: 0;left: 50%;z-index: -1;}#sk-container-id-14 div.sk-parallel-item {display: flex;flex-direction: column;z-index: 1;position: relative;background-color: white;}#sk-container-id-14 div.sk-parallel-item:first-child::after {align-self: flex-end;width: 50%;}#sk-container-id-14 div.sk-parallel-item:last-child::after {align-self: flex-start;width: 50%;}#sk-container-id-14 div.sk-parallel-item:only-child::after {width: 0;}#sk-container-id-14 div.sk-dashed-wrapped {border: 1px dashed gray;margin: 0 0.4em 0.5em 0.4em;box-sizing: border-box;padding-bottom: 0.4em;background-color: white;}#sk-container-id-14 div.sk-label label {font-family: monospace;font-weight: bold;display: inline-block;line-height: 1.2em;}#sk-container-id-14 div.sk-label-container {text-align: center;}#sk-container-id-14 div.sk-container {/* jupyter's `normalize.less` sets `[hidden] { display: none; }` but bootstrap.min.css set `[hidden] { display: none !important; }` so we also need the `!important` here to be able to override the default hidden behavior on the sphinx rendered scikit-learn.org. See: https://github.com/scikit-learn/scikit-learn/issues/21755 */display: inline-block !important;position: relative;}#sk-container-id-14 div.sk-text-repr-fallback {display: none;}</style><div id=\"sk-container-id-14\" class=\"sk-top-container\"><div class=\"sk-text-repr-fallback\"><pre>MultinomialNB()</pre><b>In a Jupyter environment, please rerun this cell to show the HTML representation or trust the notebook. <br />On GitHub, the HTML representation is unable to render, please try loading this page with nbviewer.org.</b></div><div class=\"sk-container\" hidden><div class=\"sk-item\"><div class=\"sk-estimator sk-toggleable\"><input class=\"sk-toggleable__control sk-hidden--visually\" id=\"sk-estimator-id-14\" type=\"checkbox\" checked><label for=\"sk-estimator-id-14\" class=\"sk-toggleable__label sk-toggleable__label-arrow\">MultinomialNB</label><div class=\"sk-toggleable__content\"><pre>MultinomialNB()</pre></div></div></div></div></div>"
      ],
      "text/plain": [
       "MultinomialNB()"
      ]
     },
     "execution_count": 148,
     "metadata": {},
     "output_type": "execute_result"
    }
   ],
   "source": [
    "nb.fit(x_tr,y_tr)"
   ]
  },
  {
   "cell_type": "code",
   "execution_count": 149,
   "id": "fedfba68",
   "metadata": {},
   "outputs": [],
   "source": [
    "nb_p1=nb.predict(x_te)"
   ]
  },
  {
   "cell_type": "code",
   "execution_count": 150,
   "id": "04e39909",
   "metadata": {},
   "outputs": [
    {
     "data": {
      "text/plain": [
       "array([[880, 719],\n",
       "       [732, 855]], dtype=int64)"
      ]
     },
     "execution_count": 150,
     "metadata": {},
     "output_type": "execute_result"
    }
   ],
   "source": [
    "nb_cf1=confusion_matrix(y_te,nb_p1)\n",
    "nb_cf1"
   ]
  },
  {
   "cell_type": "code",
   "execution_count": 151,
   "id": "6627f73b",
   "metadata": {},
   "outputs": [
    {
     "data": {
      "text/plain": [
       "54.45699937225361"
      ]
     },
     "execution_count": 151,
     "metadata": {},
     "output_type": "execute_result"
    }
   ],
   "source": [
    "nb_ac1=nb_cf1.diagonal().sum()/nb_cf1.sum()*100\n",
    "nb_ac1"
   ]
  },
  {
   "cell_type": "code",
   "execution_count": 152,
   "id": "e88c6533",
   "metadata": {},
   "outputs": [],
   "source": [
    "nb_re1=recall_score(y_te,nb_p1)\n",
    "nb_pr1=precision_score(y_te,nb_p1)\n",
    "nb_f1=f1_score(y_te,nb_p1,average=\"weighted\")"
   ]
  },
  {
   "cell_type": "code",
   "execution_count": 153,
   "id": "0def3917",
   "metadata": {},
   "outputs": [
    {
     "name": "stdout",
     "output_type": "stream",
     "text": [
      "\n",
      "               precision    recall  f1-score   support\n",
      "\n",
      "           0       0.55      0.55      0.55      1599\n",
      "           1       0.54      0.54      0.54      1587\n",
      "\n",
      "    accuracy                           0.54      3186\n",
      "   macro avg       0.54      0.54      0.54      3186\n",
      "weighted avg       0.54      0.54      0.54      3186\n",
      "\n",
      "\n",
      "Confusion Matrix\n",
      "[[880 719]\n",
      " [732 855]]\n"
     ]
    }
   ],
   "source": [
    "print(\"\\n\",classification_report(y_te,nb_p1)) \n",
    "print(\"\\nConfusion Matrix\")\n",
    "print(nb_cf1)"
   ]
  },
  {
   "cell_type": "markdown",
   "id": "44e09458",
   "metadata": {},
   "source": [
    "# Model2 After CI and EDA"
   ]
  },
  {
   "cell_type": "code",
   "execution_count": 154,
   "id": "6cbc4181",
   "metadata": {},
   "outputs": [
    {
     "data": {
      "text/html": [
       "<div>\n",
       "<style scoped>\n",
       "    .dataframe tbody tr th:only-of-type {\n",
       "        vertical-align: middle;\n",
       "    }\n",
       "\n",
       "    .dataframe tbody tr th {\n",
       "        vertical-align: top;\n",
       "    }\n",
       "\n",
       "    .dataframe thead th {\n",
       "        text-align: right;\n",
       "    }\n",
       "</style>\n",
       "<table border=\"1\" class=\"dataframe\">\n",
       "  <thead>\n",
       "    <tr style=\"text-align: right;\">\n",
       "      <th></th>\n",
       "      <th>Algorithm</th>\n",
       "      <th>Accuracy</th>\n",
       "      <th>Precision</th>\n",
       "      <th>Recall</th>\n",
       "      <th>f1-score</th>\n",
       "    </tr>\n",
       "  </thead>\n",
       "  <tbody>\n",
       "    <tr>\n",
       "      <th>0</th>\n",
       "      <td>Logistic Regression</td>\n",
       "      <td>65.787822</td>\n",
       "      <td>0.656782</td>\n",
       "      <td>0.655955</td>\n",
       "      <td>0.657877</td>\n",
       "    </tr>\n",
       "    <tr>\n",
       "      <th>1</th>\n",
       "      <td>Decision Tree</td>\n",
       "      <td>92.592593</td>\n",
       "      <td>0.881854</td>\n",
       "      <td>0.982987</td>\n",
       "      <td>0.925699</td>\n",
       "    </tr>\n",
       "    <tr>\n",
       "      <th>2</th>\n",
       "      <td>Random Forest</td>\n",
       "      <td>95.480226</td>\n",
       "      <td>0.926671</td>\n",
       "      <td>0.987398</td>\n",
       "      <td>0.954760</td>\n",
       "    </tr>\n",
       "    <tr>\n",
       "      <th>3</th>\n",
       "      <td>KNN</td>\n",
       "      <td>69.993723</td>\n",
       "      <td>0.661878</td>\n",
       "      <td>0.812854</td>\n",
       "      <td>0.696146</td>\n",
       "    </tr>\n",
       "    <tr>\n",
       "      <th>4</th>\n",
       "      <td>XGB</td>\n",
       "      <td>89.799121</td>\n",
       "      <td>0.874259</td>\n",
       "      <td>0.928796</td>\n",
       "      <td>0.897905</td>\n",
       "    </tr>\n",
       "    <tr>\n",
       "      <th>5</th>\n",
       "      <td>SVM</td>\n",
       "      <td>56.905210</td>\n",
       "      <td>0.549128</td>\n",
       "      <td>0.753623</td>\n",
       "      <td>0.554028</td>\n",
       "    </tr>\n",
       "    <tr>\n",
       "      <th>6</th>\n",
       "      <td>Naive Bayes</td>\n",
       "      <td>54.456999</td>\n",
       "      <td>0.543202</td>\n",
       "      <td>0.538752</td>\n",
       "      <td>0.544555</td>\n",
       "    </tr>\n",
       "  </tbody>\n",
       "</table>\n",
       "</div>"
      ],
      "text/plain": [
       "             Algorithm   Accuracy  Precision    Recall  f1-score\n",
       "0  Logistic Regression  65.787822   0.656782  0.655955  0.657877\n",
       "1        Decision Tree  92.592593   0.881854  0.982987  0.925699\n",
       "2        Random Forest  95.480226   0.926671  0.987398  0.954760\n",
       "3                  KNN  69.993723   0.661878  0.812854  0.696146\n",
       "4                  XGB  89.799121   0.874259  0.928796  0.897905\n",
       "5                  SVM  56.905210   0.549128  0.753623  0.554028\n",
       "6          Naive Bayes  54.456999   0.543202  0.538752  0.544555"
      ]
     },
     "execution_count": 154,
     "metadata": {},
     "output_type": "execute_result"
    }
   ],
   "source": [
    "algo=[\"Logistic Regression\",\"Decision Tree\",\"Random Forest\",\"KNN\",\"XGB\",\"SVM\",\"Naive Bayes\"]\n",
    "accuracy1=[lg_ac1,dt_ac1,rf_ac1,knn_ac1,xgb_ac1,svm_ac1,nb_ac1]\n",
    "precision1=[lg_pr1,dt_pr1,rf_pr1,knn_pr1,xgb_pr1,svm_pr1,nb_pr1]\n",
    "recall1=[lg_re1,dt_re1,rf_re1,knn_re1,xgb_re1,svm_re1,nb_re1]\n",
    "f1_score1=[lg_f1,dt_f1,rf_f1,knn_f1,xgb_f1,svm_f1,nb_f1]\n",
    "model2=pd.DataFrame({\"Algorithm\":algo,\"Accuracy\":accuracy1,\"Precision\":precision1,\"Recall\":recall1,\"f1-score\":f1_score1})\n",
    "model2"
   ]
  },
  {
   "cell_type": "markdown",
   "id": "1762f8fd",
   "metadata": {},
   "source": [
    "Conclusion : after Doining class imbalance and outlier treatment the accuracy of the model is inceases as compare to data Frame 1 Random Forest, Decision Tree and XGB model because the accuracy,F1 score,Recall,precesion of model is good as compare to other model."
   ]
  },
  {
   "cell_type": "markdown",
   "id": "0efa07f1",
   "metadata": {},
   "source": [
    "# IMBLEARN "
   ]
  },
  {
   "cell_type": "code",
   "execution_count": 155,
   "id": "627d652b",
   "metadata": {},
   "outputs": [],
   "source": [
    "# import imblearn\n",
    "# from imblearn.over_sampling import RandomOverSampler"
   ]
  },
  {
   "cell_type": "code",
   "execution_count": 156,
   "id": "28bfed59",
   "metadata": {},
   "outputs": [],
   "source": [
    "# d_x1=churn.iloc[:,0:-1]\n",
    "# d_y1=churn.iloc[:,-1]"
   ]
  },
  {
   "cell_type": "code",
   "execution_count": 157,
   "id": "7a15a980",
   "metadata": {},
   "outputs": [],
   "source": [
    "# d_y1.value_counts()"
   ]
  },
  {
   "cell_type": "code",
   "execution_count": 158,
   "id": "0f863d8c",
   "metadata": {},
   "outputs": [],
   "source": [
    "# a1=RandomOverSampler(random_state=42)\n",
    "# x2,y2=a1.fit_resample(d_x1,d_y1)"
   ]
  },
  {
   "cell_type": "code",
   "execution_count": 159,
   "id": "3ab966f6",
   "metadata": {},
   "outputs": [],
   "source": [
    "# x2.shape,y2.shape"
   ]
  },
  {
   "cell_type": "code",
   "execution_count": 160,
   "id": "a9a21d3f",
   "metadata": {},
   "outputs": [],
   "source": [
    "#y2.value_counts()"
   ]
  },
  {
   "cell_type": "code",
   "execution_count": 161,
   "id": "a7c05af1",
   "metadata": {},
   "outputs": [],
   "source": [
    "#xtr2,xte2,ytr2,yte2=train_test_split(x2,y2,test_size=0.2,random_state=100)\n",
    "#xtr2.shape,xte2.shape,ytr2.shape,yte2.shape"
   ]
  },
  {
   "cell_type": "code",
   "execution_count": 162,
   "id": "d3c3886a",
   "metadata": {},
   "outputs": [],
   "source": [
    "#x2.skew()"
   ]
  },
  {
   "cell_type": "code",
   "execution_count": 163,
   "id": "356ca7dc",
   "metadata": {},
   "outputs": [],
   "source": [
    "#fig=plt.figure(figsize=(5,5))\n",
    "#sns.boxplot(data=x2,y=\"CreditScore\")"
   ]
  },
  {
   "cell_type": "code",
   "execution_count": 164,
   "id": "5b196eb2",
   "metadata": {},
   "outputs": [],
   "source": [
    "#fig=plt.figure(figsize=(5,5))\n",
    "#sns.boxplot(data=x2,y=\"Age\")"
   ]
  },
  {
   "cell_type": "code",
   "execution_count": 165,
   "id": "da59f465",
   "metadata": {},
   "outputs": [],
   "source": [
    "# from scipy import stats\n",
    "\n",
    "# num_cols = ['CreditScore', 'Age']\n",
    "\n",
    "# # Detect and handle outliers\n",
    "# for col in num_cols:\n",
    "#     # Calculate the IQR (Interquartile Range)\n",
    "#     Q1 = x2[col].quantile(0.25)\n",
    "#     Q3 = x2[col].quantile(0.75)\n",
    "#     IQR = Q3 - Q1\n",
    "\n",
    "#     # Define the lower and upper bounds for outliers\n",
    "#     lower_bound = Q1 - 1.5 * IQR\n",
    "#     upper_bound = Q3 + 1.5 * IQR\n",
    "\n",
    "#     # Identify outliers\n",
    "#     outliers = x2[(x2[col] < lower_bound) | (x2[col] > upper_bound)]\n",
    "\n",
    "#     # Replace outliers with appropriate values or remove them\n",
    "#     if col == 'CreditScore':\n",
    "#         x2.loc[(x2[col] < lower_bound) | (x2[col] > upper_bound), col] = x2[col].median()\n",
    "#     elif col == 'Age':\n",
    "#         # Instead of replacing with median, you can remove outliers in 'Age'\n",
    "#         x2 = x2[(x2[col] >= lower_bound) & (x2[col] <= upper_bound)]\n",
    "\n",
    "#     # Measure skewness\n",
    "#     skewness = stats.skew(x2[col])\n",
    "#     print(f\"Skewness for {col}: {skewness}\")"
   ]
  },
  {
   "cell_type": "code",
   "execution_count": 166,
   "id": "f9e062d7",
   "metadata": {},
   "outputs": [],
   "source": [
    "# fig=plt.figure(figsize=(5,5))\n",
    "# sns.boxplot(data=x2,y=\"CreditScore\")"
   ]
  },
  {
   "cell_type": "code",
   "execution_count": 167,
   "id": "8e37e111",
   "metadata": {},
   "outputs": [],
   "source": [
    "# fig=plt.figure(figsize=(5,5))\n",
    "# sns.boxplot(data=x2,y=\"Age\")"
   ]
  },
  {
   "cell_type": "code",
   "execution_count": 168,
   "id": "c64e9df1",
   "metadata": {},
   "outputs": [],
   "source": [
    "# x2.skew()"
   ]
  },
  {
   "cell_type": "code",
   "execution_count": 169,
   "id": "89414a80",
   "metadata": {},
   "outputs": [],
   "source": [
    "# sns.distplot(x2.CreditScore) "
   ]
  },
  {
   "cell_type": "code",
   "execution_count": 170,
   "id": "2e72fa35",
   "metadata": {},
   "outputs": [],
   "source": [
    "# sns.distplot(x2.Age) "
   ]
  },
  {
   "cell_type": "markdown",
   "id": "285dd291",
   "metadata": {},
   "source": [
    "# Logistic Regression"
   ]
  },
  {
   "cell_type": "code",
   "execution_count": 171,
   "id": "272d5450",
   "metadata": {},
   "outputs": [],
   "source": [
    "# from sklearn.linear_model import LogisticRegression\n",
    "# lg=LogisticRegression()"
   ]
  },
  {
   "cell_type": "code",
   "execution_count": 172,
   "id": "244c5cd6",
   "metadata": {},
   "outputs": [],
   "source": [
    "#lg.fit(xtr2,ytr2)"
   ]
  },
  {
   "cell_type": "code",
   "execution_count": 173,
   "id": "89a675d1",
   "metadata": {},
   "outputs": [],
   "source": [
    "#lg_p3=lg.predict(xte2)"
   ]
  },
  {
   "cell_type": "code",
   "execution_count": 174,
   "id": "2a1953e0",
   "metadata": {},
   "outputs": [],
   "source": [
    "# lg_cf3=confusion_matrix(yte2,lg_p3)\n",
    "# lg_cf3"
   ]
  },
  {
   "cell_type": "code",
   "execution_count": 175,
   "id": "1cb6678d",
   "metadata": {},
   "outputs": [],
   "source": [
    "# lg_ac3=lg_cf3.diagonal().sum()/lg_cf3.sum()*100\n",
    "# lg_ac3"
   ]
  },
  {
   "cell_type": "code",
   "execution_count": 176,
   "id": "1b38ae36",
   "metadata": {},
   "outputs": [],
   "source": [
    "# lg_a3=f1_score(yte2,lg_p3)\n",
    "# lg_b3=precision_score(yte2,lg_p3)\n",
    "# lg_c3=recall_score(yte2,lg_p3)"
   ]
  },
  {
   "cell_type": "code",
   "execution_count": 177,
   "id": "94b79bb2",
   "metadata": {},
   "outputs": [],
   "source": [
    "# print(\"\\n\",classification_report(yte2,lg_p3))\n",
    "# print(\"\\nConfusion Matrix\")\n",
    "# print(lg_cf3)"
   ]
  },
  {
   "cell_type": "markdown",
   "id": "25d4dd8c",
   "metadata": {},
   "source": [
    "# Decision Tree"
   ]
  },
  {
   "cell_type": "code",
   "execution_count": 178,
   "id": "95d4741e",
   "metadata": {},
   "outputs": [],
   "source": [
    "# from sklearn.tree import DecisionTreeClassifier\n",
    "# dt=DecisionTreeClassifier()"
   ]
  },
  {
   "cell_type": "code",
   "execution_count": 179,
   "id": "9bfe33df",
   "metadata": {},
   "outputs": [],
   "source": [
    "# dt.fit(xtr2,ytr2)"
   ]
  },
  {
   "cell_type": "code",
   "execution_count": 180,
   "id": "86cda653",
   "metadata": {},
   "outputs": [],
   "source": [
    "# dt_p3=dt.predict(xte2)"
   ]
  },
  {
   "cell_type": "code",
   "execution_count": 181,
   "id": "a6b4ef5f",
   "metadata": {},
   "outputs": [],
   "source": [
    "# dt_cf3=confusion_matrix(yte2,dt_p3)\n",
    "# dt_cf3"
   ]
  },
  {
   "cell_type": "code",
   "execution_count": 182,
   "id": "3ccff240",
   "metadata": {},
   "outputs": [],
   "source": [
    "# dt_ac3=dt_cf3.diagonal().sum()/dt_cf3.sum()*100\n",
    "# dt_ac3"
   ]
  },
  {
   "cell_type": "code",
   "execution_count": 183,
   "id": "6bb4d49c",
   "metadata": {},
   "outputs": [],
   "source": [
    "# dt_a3=f1_score(yte2,dt_p3)\n",
    "# dt_b3=precision_score(yte2,dt_p3)\n",
    "# dt_c3=recall_score(yte2,dt_p3)"
   ]
  },
  {
   "cell_type": "code",
   "execution_count": 184,
   "id": "cba607aa",
   "metadata": {},
   "outputs": [],
   "source": [
    "# print(classification_report(yte2,dt_p3))\n",
    "# print(\"\\nConfusion Matrix\")\n",
    "# print(dt_cf3)"
   ]
  },
  {
   "cell_type": "markdown",
   "id": "21770ad1",
   "metadata": {},
   "source": [
    "# Random Forest"
   ]
  },
  {
   "cell_type": "code",
   "execution_count": 185,
   "id": "c3bca748",
   "metadata": {},
   "outputs": [],
   "source": [
    "# from sklearn.ensemble import RandomForestClassifier\n",
    "# rf=RandomForestClassifier()"
   ]
  },
  {
   "cell_type": "code",
   "execution_count": 186,
   "id": "33a0f754",
   "metadata": {},
   "outputs": [],
   "source": [
    "# rf.fit(xtr2,ytr2)"
   ]
  },
  {
   "cell_type": "code",
   "execution_count": 187,
   "id": "c1095d43",
   "metadata": {},
   "outputs": [],
   "source": [
    "# rf_p3=rf.predict(xte2)"
   ]
  },
  {
   "cell_type": "code",
   "execution_count": 188,
   "id": "7bf5c22e",
   "metadata": {},
   "outputs": [],
   "source": [
    "# rf_cf3=confusion_matrix(yte2,rf_p3)\n",
    "# rf_cf3"
   ]
  },
  {
   "cell_type": "code",
   "execution_count": 189,
   "id": "5404e6d6",
   "metadata": {},
   "outputs": [],
   "source": [
    "# rf_ac3=rf_cf3.diagonal().sum()/rf_cf3.sum()*100\n",
    "# rf_ac3"
   ]
  },
  {
   "cell_type": "code",
   "execution_count": 190,
   "id": "2ed2286b",
   "metadata": {},
   "outputs": [],
   "source": [
    "# rf_a3=f1_score(yte2,rf_p3)\n",
    "# rf_b3=precision_score(yte2,rf_p3)\n",
    "# rf_c3=recall_score(yte2,rf_p3)"
   ]
  },
  {
   "cell_type": "code",
   "execution_count": 191,
   "id": "7ccab50e",
   "metadata": {},
   "outputs": [],
   "source": [
    "# print(classification_report(yte2,rf_p3))\n",
    "# print(\"\\nConfusion Matrix\")\n",
    "# print(rf_cf3)"
   ]
  },
  {
   "cell_type": "markdown",
   "id": "308afb6f",
   "metadata": {},
   "source": [
    "# KNN"
   ]
  },
  {
   "cell_type": "code",
   "execution_count": 192,
   "id": "58d8ad74",
   "metadata": {},
   "outputs": [],
   "source": [
    "# from sklearn.neighbors import KNeighborsClassifier\n",
    "# knn=KNeighborsClassifier()"
   ]
  },
  {
   "cell_type": "code",
   "execution_count": 193,
   "id": "d674e30c",
   "metadata": {},
   "outputs": [],
   "source": [
    "# knn.fit(xtr2,ytr2)"
   ]
  },
  {
   "cell_type": "code",
   "execution_count": 194,
   "id": "54b08f58",
   "metadata": {},
   "outputs": [],
   "source": [
    "# knn_p3=knn.predict(xte2)"
   ]
  },
  {
   "cell_type": "code",
   "execution_count": 195,
   "id": "f0e5b345",
   "metadata": {},
   "outputs": [],
   "source": [
    "# knn_cf3=confusion_matrix(yte2,knn_p3)\n",
    "# knn_cf3"
   ]
  },
  {
   "cell_type": "code",
   "execution_count": 196,
   "id": "23501e4f",
   "metadata": {},
   "outputs": [],
   "source": [
    "# knn_ac3=knn_cf3.diagonal().sum()/knn_cf3.sum()*100\n",
    "# knn_ac3"
   ]
  },
  {
   "cell_type": "code",
   "execution_count": 197,
   "id": "ac823ea1",
   "metadata": {},
   "outputs": [],
   "source": [
    "# knn_a3=f1_score(yte2,knn_p3)\n",
    "# knn_b3=precision_score(yte2,knn_p3)\n",
    "# knn_c3=recall_score(yte2,knn_p3)"
   ]
  },
  {
   "cell_type": "code",
   "execution_count": 198,
   "id": "600f1665",
   "metadata": {},
   "outputs": [],
   "source": [
    "# print(classification_report(yte2,knn_p3))\n",
    "# print(\"\\nConfusion Matrix\")\n",
    "# print(knn_cf3)"
   ]
  },
  {
   "cell_type": "markdown",
   "id": "6000ee81",
   "metadata": {},
   "source": [
    "# XGB"
   ]
  },
  {
   "cell_type": "code",
   "execution_count": 199,
   "id": "0da680a9",
   "metadata": {},
   "outputs": [],
   "source": [
    "# import xgboost\n",
    "# from xgboost import XGBClassifier\n",
    "# xgb=XGBClassifier()"
   ]
  },
  {
   "cell_type": "code",
   "execution_count": 200,
   "id": "5792eb0b",
   "metadata": {},
   "outputs": [],
   "source": [
    "# xgb.fit(xtr2,ytr2)"
   ]
  },
  {
   "cell_type": "code",
   "execution_count": 201,
   "id": "1e6fe025",
   "metadata": {},
   "outputs": [],
   "source": [
    "# xgb_p3=xgb.predict(xte2)"
   ]
  },
  {
   "cell_type": "code",
   "execution_count": 202,
   "id": "d09ed68e",
   "metadata": {},
   "outputs": [],
   "source": [
    "# xgb_cf3=confusion_matrix(yte2,xgb_p3)\n",
    "# xgb_cf3"
   ]
  },
  {
   "cell_type": "code",
   "execution_count": 203,
   "id": "261f930f",
   "metadata": {},
   "outputs": [],
   "source": [
    "# xgb_ac3=xgb_cf3.diagonal().sum()/xgb_cf3.sum()*100\n",
    "# xgb_ac3"
   ]
  },
  {
   "cell_type": "code",
   "execution_count": 204,
   "id": "33f6af3b",
   "metadata": {},
   "outputs": [],
   "source": [
    "# xgb_a3=f1_score(yte2,xgb_p3)\n",
    "# xgb_b3=precision_score(yte2,xgb_p3)\n",
    "# xgb_c3=recall_score(yte2,xgb_p3)"
   ]
  },
  {
   "cell_type": "code",
   "execution_count": 205,
   "id": "d9857e7d",
   "metadata": {},
   "outputs": [],
   "source": [
    "# print(classification_report(yte2,xgb_p3))\n",
    "# print(\"\\nConfusion Matrix\")\n",
    "# print(xgb_cf3)"
   ]
  },
  {
   "cell_type": "markdown",
   "id": "da023623",
   "metadata": {},
   "source": [
    "# SVM"
   ]
  },
  {
   "cell_type": "code",
   "execution_count": 206,
   "id": "57425f8f",
   "metadata": {},
   "outputs": [],
   "source": [
    "# from sklearn.svm import SVC\n",
    "# svm=SVC()"
   ]
  },
  {
   "cell_type": "code",
   "execution_count": 207,
   "id": "6ad3911e",
   "metadata": {},
   "outputs": [],
   "source": [
    "# svm.fit(xtr2,ytr2)"
   ]
  },
  {
   "cell_type": "code",
   "execution_count": 208,
   "id": "7f8e869e",
   "metadata": {},
   "outputs": [],
   "source": [
    "# svm_p3=svm.predict(xte2)"
   ]
  },
  {
   "cell_type": "code",
   "execution_count": 209,
   "id": "784277ff",
   "metadata": {},
   "outputs": [],
   "source": [
    "# svm_cf3=confusion_matrix(yte2,svm_p3)\n",
    "# svm_cf3"
   ]
  },
  {
   "cell_type": "code",
   "execution_count": 210,
   "id": "c5927bf7",
   "metadata": {},
   "outputs": [],
   "source": [
    "# svm_ac3=svm_cf3.diagonal().sum()/svm_cf3.sum()*100\n",
    "# svm_ac3"
   ]
  },
  {
   "cell_type": "code",
   "execution_count": 211,
   "id": "5720f080",
   "metadata": {},
   "outputs": [],
   "source": [
    "# svm_a3=f1_score(yte2,svm_p3)\n",
    "# svm_b3=precision_score(yte2,svm_p3)\n",
    "# svm_c3=recall_score(yte2,svm_p3)"
   ]
  },
  {
   "cell_type": "code",
   "execution_count": 212,
   "id": "0d183099",
   "metadata": {},
   "outputs": [],
   "source": [
    "# print(classification_report(yte2,svm_p3))\n",
    "# print(\"\\nConfusion Matrix\")\n",
    "# print(svm_cf3)"
   ]
  },
  {
   "cell_type": "markdown",
   "id": "0246c10a",
   "metadata": {},
   "source": [
    "# Naive Bayes"
   ]
  },
  {
   "cell_type": "code",
   "execution_count": 213,
   "id": "d2926356",
   "metadata": {},
   "outputs": [],
   "source": [
    "# from sklearn.naive_bayes import MultinomialNB\n",
    "# nb=MultinomialNB()"
   ]
  },
  {
   "cell_type": "code",
   "execution_count": 214,
   "id": "f704f55e",
   "metadata": {},
   "outputs": [],
   "source": [
    "# nb.fit(xtr2,ytr2)"
   ]
  },
  {
   "cell_type": "code",
   "execution_count": 215,
   "id": "17c6ac64",
   "metadata": {},
   "outputs": [],
   "source": [
    "# nb_p3=nb.predict(xte2)"
   ]
  },
  {
   "cell_type": "code",
   "execution_count": 216,
   "id": "d347e07d",
   "metadata": {},
   "outputs": [],
   "source": [
    "# nb_cf3=confusion_matrix(yte2,nb_p3)\n",
    "# nb_cf3"
   ]
  },
  {
   "cell_type": "code",
   "execution_count": 217,
   "id": "7e0bcc38",
   "metadata": {},
   "outputs": [],
   "source": [
    "# nb_ac3=nb_cf3.diagonal().sum()/nb_cf3.sum()*100\n",
    "# nb_ac3"
   ]
  },
  {
   "cell_type": "code",
   "execution_count": 218,
   "id": "0b5cf2f2",
   "metadata": {},
   "outputs": [],
   "source": [
    "# nb_a3=f1_score(yte2,nb_p3)\n",
    "# nb_b3=precision_score(yte2,nb_p3)\n",
    "# nb_c3=recall_score(yte2,nb_p3)"
   ]
  },
  {
   "cell_type": "code",
   "execution_count": 219,
   "id": "185eba72",
   "metadata": {},
   "outputs": [],
   "source": [
    "# print(classification_report(yte2,nb_p3))\n",
    "# print(\"\\nConfusion Matrix\")\n",
    "# print(nb_cf3)"
   ]
  },
  {
   "cell_type": "code",
   "execution_count": 220,
   "id": "987773fc",
   "metadata": {},
   "outputs": [],
   "source": [
    "# algo=[\"Logistic Regression\",\"Decision Tree\",\"Random Forest\",\"KNN\",\"XGB\",\"SVM\",\"Naive Bayes\"]\n",
    "# accuracy=[lg_ac3,dt_ac3,rf_ac3,knn_ac3,xgb_ac3,svm_ac3,nb_ac3,]\n",
    "# f1=[lg_a3,dt_a3,rf_a3,knn_a3,xgb_a3,svm_a3,nb_a3]\n",
    "# precision=[lg_b3,dt_b3,rf_b3,knn_b3,xgb_b3,svm_b3,nb_b3]\n",
    "# recall=[lg_c3,dt_c3,rf_c3,knn_c3,xgb_c3,svm_c3,nb_c3]"
   ]
  },
  {
   "cell_type": "code",
   "execution_count": 221,
   "id": "eb8a1261",
   "metadata": {},
   "outputs": [],
   "source": [
    "# model3=pd.DataFrame({\"Algorithm\":algo,\"Accuracy\":accuracy,\"F1-score\":f1,\"Precision\":precision,\"Recall\":recall})\n",
    "# model3"
   ]
  },
  {
   "cell_type": "markdown",
   "id": "e610c418",
   "metadata": {},
   "source": [
    "# Feature Selection"
   ]
  },
  {
   "cell_type": "markdown",
   "id": "35898d83",
   "metadata": {},
   "source": [
    "# RFE "
   ]
  },
  {
   "cell_type": "code",
   "execution_count": 222,
   "id": "5c7833b7",
   "metadata": {},
   "outputs": [],
   "source": [
    "from sklearn.feature_selection import RFE\n",
    "from sklearn.ensemble import RandomForestClassifier\n",
    "rf1=RandomForestClassifier()\n",
    "rfe=RFE(rf1,n_features_to_select=5)"
   ]
  },
  {
   "cell_type": "code",
   "execution_count": 223,
   "id": "c4aa82c9",
   "metadata": {},
   "outputs": [
    {
     "data": {
      "text/html": [
       "<style>#sk-container-id-15 {color: black;}#sk-container-id-15 pre{padding: 0;}#sk-container-id-15 div.sk-toggleable {background-color: white;}#sk-container-id-15 label.sk-toggleable__label {cursor: pointer;display: block;width: 100%;margin-bottom: 0;padding: 0.3em;box-sizing: border-box;text-align: center;}#sk-container-id-15 label.sk-toggleable__label-arrow:before {content: \"▸\";float: left;margin-right: 0.25em;color: #696969;}#sk-container-id-15 label.sk-toggleable__label-arrow:hover:before {color: black;}#sk-container-id-15 div.sk-estimator:hover label.sk-toggleable__label-arrow:before {color: black;}#sk-container-id-15 div.sk-toggleable__content {max-height: 0;max-width: 0;overflow: hidden;text-align: left;background-color: #f0f8ff;}#sk-container-id-15 div.sk-toggleable__content pre {margin: 0.2em;color: black;border-radius: 0.25em;background-color: #f0f8ff;}#sk-container-id-15 input.sk-toggleable__control:checked~div.sk-toggleable__content {max-height: 200px;max-width: 100%;overflow: auto;}#sk-container-id-15 input.sk-toggleable__control:checked~label.sk-toggleable__label-arrow:before {content: \"▾\";}#sk-container-id-15 div.sk-estimator input.sk-toggleable__control:checked~label.sk-toggleable__label {background-color: #d4ebff;}#sk-container-id-15 div.sk-label input.sk-toggleable__control:checked~label.sk-toggleable__label {background-color: #d4ebff;}#sk-container-id-15 input.sk-hidden--visually {border: 0;clip: rect(1px 1px 1px 1px);clip: rect(1px, 1px, 1px, 1px);height: 1px;margin: -1px;overflow: hidden;padding: 0;position: absolute;width: 1px;}#sk-container-id-15 div.sk-estimator {font-family: monospace;background-color: #f0f8ff;border: 1px dotted black;border-radius: 0.25em;box-sizing: border-box;margin-bottom: 0.5em;}#sk-container-id-15 div.sk-estimator:hover {background-color: #d4ebff;}#sk-container-id-15 div.sk-parallel-item::after {content: \"\";width: 100%;border-bottom: 1px solid gray;flex-grow: 1;}#sk-container-id-15 div.sk-label:hover label.sk-toggleable__label {background-color: #d4ebff;}#sk-container-id-15 div.sk-serial::before {content: \"\";position: absolute;border-left: 1px solid gray;box-sizing: border-box;top: 0;bottom: 0;left: 50%;z-index: 0;}#sk-container-id-15 div.sk-serial {display: flex;flex-direction: column;align-items: center;background-color: white;padding-right: 0.2em;padding-left: 0.2em;position: relative;}#sk-container-id-15 div.sk-item {position: relative;z-index: 1;}#sk-container-id-15 div.sk-parallel {display: flex;align-items: stretch;justify-content: center;background-color: white;position: relative;}#sk-container-id-15 div.sk-item::before, #sk-container-id-15 div.sk-parallel-item::before {content: \"\";position: absolute;border-left: 1px solid gray;box-sizing: border-box;top: 0;bottom: 0;left: 50%;z-index: -1;}#sk-container-id-15 div.sk-parallel-item {display: flex;flex-direction: column;z-index: 1;position: relative;background-color: white;}#sk-container-id-15 div.sk-parallel-item:first-child::after {align-self: flex-end;width: 50%;}#sk-container-id-15 div.sk-parallel-item:last-child::after {align-self: flex-start;width: 50%;}#sk-container-id-15 div.sk-parallel-item:only-child::after {width: 0;}#sk-container-id-15 div.sk-dashed-wrapped {border: 1px dashed gray;margin: 0 0.4em 0.5em 0.4em;box-sizing: border-box;padding-bottom: 0.4em;background-color: white;}#sk-container-id-15 div.sk-label label {font-family: monospace;font-weight: bold;display: inline-block;line-height: 1.2em;}#sk-container-id-15 div.sk-label-container {text-align: center;}#sk-container-id-15 div.sk-container {/* jupyter's `normalize.less` sets `[hidden] { display: none; }` but bootstrap.min.css set `[hidden] { display: none !important; }` so we also need the `!important` here to be able to override the default hidden behavior on the sphinx rendered scikit-learn.org. See: https://github.com/scikit-learn/scikit-learn/issues/21755 */display: inline-block !important;position: relative;}#sk-container-id-15 div.sk-text-repr-fallback {display: none;}</style><div id=\"sk-container-id-15\" class=\"sk-top-container\"><div class=\"sk-text-repr-fallback\"><pre>RFE(estimator=RandomForestClassifier(), n_features_to_select=5)</pre><b>In a Jupyter environment, please rerun this cell to show the HTML representation or trust the notebook. <br />On GitHub, the HTML representation is unable to render, please try loading this page with nbviewer.org.</b></div><div class=\"sk-container\" hidden><div class=\"sk-item sk-dashed-wrapped\"><div class=\"sk-label-container\"><div class=\"sk-label sk-toggleable\"><input class=\"sk-toggleable__control sk-hidden--visually\" id=\"sk-estimator-id-15\" type=\"checkbox\" ><label for=\"sk-estimator-id-15\" class=\"sk-toggleable__label sk-toggleable__label-arrow\">RFE</label><div class=\"sk-toggleable__content\"><pre>RFE(estimator=RandomForestClassifier(), n_features_to_select=5)</pre></div></div></div><div class=\"sk-parallel\"><div class=\"sk-parallel-item\"><div class=\"sk-item\"><div class=\"sk-label-container\"><div class=\"sk-label sk-toggleable\"><input class=\"sk-toggleable__control sk-hidden--visually\" id=\"sk-estimator-id-16\" type=\"checkbox\" ><label for=\"sk-estimator-id-16\" class=\"sk-toggleable__label sk-toggleable__label-arrow\">estimator: RandomForestClassifier</label><div class=\"sk-toggleable__content\"><pre>RandomForestClassifier()</pre></div></div></div><div class=\"sk-serial\"><div class=\"sk-item\"><div class=\"sk-estimator sk-toggleable\"><input class=\"sk-toggleable__control sk-hidden--visually\" id=\"sk-estimator-id-17\" type=\"checkbox\" ><label for=\"sk-estimator-id-17\" class=\"sk-toggleable__label sk-toggleable__label-arrow\">RandomForestClassifier</label><div class=\"sk-toggleable__content\"><pre>RandomForestClassifier()</pre></div></div></div></div></div></div></div></div></div></div>"
      ],
      "text/plain": [
       "RFE(estimator=RandomForestClassifier(), n_features_to_select=5)"
      ]
     },
     "execution_count": 223,
     "metadata": {},
     "output_type": "execute_result"
    }
   ],
   "source": [
    "rfe.fit(class1_0.iloc[:,:-1],class1_0.iloc[:,-1])"
   ]
  },
  {
   "cell_type": "code",
   "execution_count": 224,
   "id": "5db32a6c",
   "metadata": {},
   "outputs": [
    {
     "data": {
      "text/plain": [
       "array([ True, False, False,  True, False,  True,  True, False, False,\n",
       "        True])"
      ]
     },
     "execution_count": 224,
     "metadata": {},
     "output_type": "execute_result"
    }
   ],
   "source": [
    "rfe.support_"
   ]
  },
  {
   "cell_type": "code",
   "execution_count": 225,
   "id": "17a0d781",
   "metadata": {},
   "outputs": [
    {
     "data": {
      "text/html": [
       "<div>\n",
       "<style scoped>\n",
       "    .dataframe tbody tr th:only-of-type {\n",
       "        vertical-align: middle;\n",
       "    }\n",
       "\n",
       "    .dataframe tbody tr th {\n",
       "        vertical-align: top;\n",
       "    }\n",
       "\n",
       "    .dataframe thead th {\n",
       "        text-align: right;\n",
       "    }\n",
       "</style>\n",
       "<table border=\"1\" class=\"dataframe\">\n",
       "  <thead>\n",
       "    <tr style=\"text-align: right;\">\n",
       "      <th></th>\n",
       "      <th>feature</th>\n",
       "      <th>col</th>\n",
       "    </tr>\n",
       "  </thead>\n",
       "  <tbody>\n",
       "    <tr>\n",
       "      <th>0</th>\n",
       "      <td>True</td>\n",
       "      <td>CreditScore</td>\n",
       "    </tr>\n",
       "    <tr>\n",
       "      <th>1</th>\n",
       "      <td>False</td>\n",
       "      <td>Geography</td>\n",
       "    </tr>\n",
       "    <tr>\n",
       "      <th>2</th>\n",
       "      <td>False</td>\n",
       "      <td>Gender</td>\n",
       "    </tr>\n",
       "    <tr>\n",
       "      <th>3</th>\n",
       "      <td>True</td>\n",
       "      <td>Age</td>\n",
       "    </tr>\n",
       "    <tr>\n",
       "      <th>4</th>\n",
       "      <td>False</td>\n",
       "      <td>Tenure</td>\n",
       "    </tr>\n",
       "    <tr>\n",
       "      <th>5</th>\n",
       "      <td>True</td>\n",
       "      <td>Balance</td>\n",
       "    </tr>\n",
       "    <tr>\n",
       "      <th>6</th>\n",
       "      <td>True</td>\n",
       "      <td>NumOfProducts</td>\n",
       "    </tr>\n",
       "    <tr>\n",
       "      <th>7</th>\n",
       "      <td>False</td>\n",
       "      <td>HasCrCard</td>\n",
       "    </tr>\n",
       "    <tr>\n",
       "      <th>8</th>\n",
       "      <td>False</td>\n",
       "      <td>IsActiveMember</td>\n",
       "    </tr>\n",
       "    <tr>\n",
       "      <th>9</th>\n",
       "      <td>True</td>\n",
       "      <td>EstimatedSalary</td>\n",
       "    </tr>\n",
       "  </tbody>\n",
       "</table>\n",
       "</div>"
      ],
      "text/plain": [
       "   feature              col\n",
       "0     True      CreditScore\n",
       "1    False        Geography\n",
       "2    False           Gender\n",
       "3     True              Age\n",
       "4    False           Tenure\n",
       "5     True          Balance\n",
       "6     True    NumOfProducts\n",
       "7    False        HasCrCard\n",
       "8    False   IsActiveMember\n",
       "9     True  EstimatedSalary"
      ]
     },
     "execution_count": 225,
     "metadata": {},
     "output_type": "execute_result"
    }
   ],
   "source": [
    "f1=pd.DataFrame({'feature':list(rfe.support_),'col':list(class1_0.iloc[:,:-1].columns)})\n",
    "f1"
   ]
  },
  {
   "cell_type": "code",
   "execution_count": 226,
   "id": "b89990dd",
   "metadata": {},
   "outputs": [
    {
     "data": {
      "text/plain": [
       "Index(['CreditScore', 'Geography', 'Gender', 'Age', 'Tenure', 'Balance',\n",
       "       'NumOfProducts', 'HasCrCard', 'IsActiveMember', 'EstimatedSalary',\n",
       "       'Exited'],\n",
       "      dtype='object')"
      ]
     },
     "execution_count": 226,
     "metadata": {},
     "output_type": "execute_result"
    }
   ],
   "source": [
    "class1_0.columns"
   ]
  },
  {
   "cell_type": "code",
   "execution_count": 227,
   "id": "75c8a646",
   "metadata": {},
   "outputs": [],
   "source": [
    "# List of columns to drop\n",
    "df=class1_0.drop(['Geography', 'Gender', 'NumOfProducts', 'HasCrCard', 'IsActiveMember'],axis=1)"
   ]
  },
  {
   "cell_type": "code",
   "execution_count": 228,
   "id": "7e1c5005",
   "metadata": {},
   "outputs": [
    {
     "data": {
      "text/plain": [
       "CreditScore        0\n",
       "Age                0\n",
       "Tenure             0\n",
       "Balance            0\n",
       "EstimatedSalary    0\n",
       "Exited             0\n",
       "dtype: int64"
      ]
     },
     "execution_count": 228,
     "metadata": {},
     "output_type": "execute_result"
    }
   ],
   "source": [
    "df.isnull().sum()"
   ]
  },
  {
   "cell_type": "code",
   "execution_count": 229,
   "id": "d30ce13f",
   "metadata": {},
   "outputs": [],
   "source": [
    "n_x=df.iloc[:,:-1]\n",
    "n_y=df.iloc[:,-1]"
   ]
  },
  {
   "cell_type": "code",
   "execution_count": 230,
   "id": "fd7cd20b",
   "metadata": {},
   "outputs": [
    {
     "data": {
      "text/plain": [
       "((12740, 5), (3186, 5), (12740,), (3186,))"
      ]
     },
     "execution_count": 230,
     "metadata": {},
     "output_type": "execute_result"
    }
   ],
   "source": [
    "xtr,xte,ytr,yte=train_test_split(n_x,n_y,test_size=0.2,random_state=101)\n",
    "xtr.shape,xte.shape,ytr.shape,yte.shape"
   ]
  },
  {
   "cell_type": "code",
   "execution_count": 231,
   "id": "9a8ea40e",
   "metadata": {},
   "outputs": [
    {
     "name": "stdout",
     "output_type": "stream",
     "text": [
      "LogisticRegression()\n",
      "\n",
      "               precision    recall  f1-score   support\n",
      "\n",
      "           0       0.63      0.64      0.64      1579\n",
      "           1       0.64      0.64      0.64      1607\n",
      "\n",
      "    accuracy                           0.64      3186\n",
      "   macro avg       0.64      0.64      0.64      3186\n",
      "weighted avg       0.64      0.64      0.64      3186\n",
      "\n",
      "\n",
      "Confusion Matrix\n",
      "[[1013  566]\n",
      " [ 583 1024]]\n"
     ]
    }
   ],
   "source": [
    "# Logistic-FS\n",
    "from sklearn.metrics import confusion_matrix, precision_score, recall_score, accuracy_score, f1_score, classification_report\n",
    "print(lg)\n",
    "lg.fit(xtr,ytr)\n",
    "lg_f=lg.predict(xte)\n",
    "fcf1=confusion_matrix(yte,lg_f)\n",
    "fac1=fcf1.diagonal().sum()/fcf1.sum()*100\n",
    "fre1=recall_score(yte,lg_f)\n",
    "fpr1=precision_score(yte,lg_f)\n",
    "ff1=f1_score(yte,lg_f,average='weighted')\n",
    "print(\"\\n\",classification_report(yte,lg_f)) \n",
    "print(\"\\nConfusion Matrix\")\n",
    "print(fcf1)"
   ]
  },
  {
   "cell_type": "code",
   "execution_count": 232,
   "id": "f6ac8e7d",
   "metadata": {},
   "outputs": [
    {
     "name": "stdout",
     "output_type": "stream",
     "text": [
      "DecisionTreeClassifier()\n",
      "\n",
      "               precision    recall  f1-score   support\n",
      "\n",
      "           0       0.96      0.79      0.87      1579\n",
      "           1       0.83      0.97      0.89      1607\n",
      "\n",
      "    accuracy                           0.88      3186\n",
      "   macro avg       0.89      0.88      0.88      3186\n",
      "weighted avg       0.89      0.88      0.88      3186\n",
      "\n",
      "\n",
      "Confusion Matrix\n",
      "[[1249  330]\n",
      " [  46 1561]]\n"
     ]
    }
   ],
   "source": [
    "print(dt)\n",
    "dt.fit(xtr,ytr)\n",
    "dt_f=dt.predict(xte)\n",
    "fcf2=confusion_matrix(yte,dt_f)\n",
    "fac2=fcf2.diagonal().sum()/fcf2.sum()*100\n",
    "fre2=recall_score(yte,dt_f)\n",
    "fpr2=precision_score(yte,dt_f)\n",
    "ff2=f1_score(yte,dt_f,average='weighted')\n",
    "print(\"\\n\",classification_report(yte,dt_f)) \n",
    "print(\"\\nConfusion Matrix\")\n",
    "print(fcf2)"
   ]
  },
  {
   "cell_type": "code",
   "execution_count": 233,
   "id": "a7217ab2",
   "metadata": {},
   "outputs": [
    {
     "name": "stdout",
     "output_type": "stream",
     "text": [
      "RandomForestClassifier()\n",
      "\n",
      "               precision    recall  f1-score   support\n",
      "\n",
      "           0       0.97      0.87      0.92      1579\n",
      "           1       0.89      0.97      0.93      1607\n",
      "\n",
      "    accuracy                           0.92      3186\n",
      "   macro avg       0.93      0.92      0.92      3186\n",
      "weighted avg       0.93      0.92      0.92      3186\n",
      "\n",
      "\n",
      "Confusion Matrix\n",
      "[[1377  202]\n",
      " [  46 1561]]\n"
     ]
    }
   ],
   "source": [
    "print(rf)\n",
    "rf.fit(xtr,ytr)\n",
    "rf_f=rf.predict(xte)\n",
    "fcf3=confusion_matrix(yte,rf_f)\n",
    "fac3=fcf3.diagonal().sum()/fcf3.sum()*100\n",
    "fre3=recall_score(yte,rf_f)\n",
    "fpr3=precision_score(yte,rf_f)\n",
    "ff3=f1_score(yte,rf_f,average='weighted')\n",
    "print(\"\\n\",classification_report(yte,rf_f)) \n",
    "print(\"\\nConfusion Matrix\")\n",
    "print(fcf3)"
   ]
  },
  {
   "cell_type": "code",
   "execution_count": 234,
   "id": "401b0963",
   "metadata": {},
   "outputs": [
    {
     "name": "stdout",
     "output_type": "stream",
     "text": [
      "KNeighborsClassifier()\n",
      "\n",
      "               precision    recall  f1-score   support\n",
      "\n",
      "           0       0.76      0.57      0.65      1579\n",
      "           1       0.66      0.82      0.73      1607\n",
      "\n",
      "    accuracy                           0.69      3186\n",
      "   macro avg       0.71      0.69      0.69      3186\n",
      "weighted avg       0.71      0.69      0.69      3186\n",
      "\n",
      "\n",
      "Confusion Matrix\n",
      "[[ 895  684]\n",
      " [ 289 1318]]\n"
     ]
    }
   ],
   "source": [
    "print(knn)\n",
    "knn.fit(xtr,ytr)\n",
    "knn_f=knn.predict(xte)\n",
    "fcf4=confusion_matrix(yte,knn_f)\n",
    "fac4=fcf4.diagonal().sum()/fcf4.sum()*100\n",
    "fre4=recall_score(yte,knn_f)\n",
    "fpr4=precision_score(yte,knn_f)\n",
    "ff4=f1_score(yte,knn_f,average='weighted')\n",
    "print(\"\\n\",classification_report(yte,knn_f)) \n",
    "print(\"\\nConfusion Matrix\")\n",
    "print(fcf4)"
   ]
  },
  {
   "cell_type": "code",
   "execution_count": 235,
   "id": "85b2f762",
   "metadata": {},
   "outputs": [
    {
     "name": "stdout",
     "output_type": "stream",
     "text": [
      "XGBClassifier(base_score=None, booster=None, callbacks=None,\n",
      "              colsample_bylevel=None, colsample_bynode=None,\n",
      "              colsample_bytree=None, early_stopping_rounds=None,\n",
      "              enable_categorical=False, eval_metric=None, feature_types=None,\n",
      "              gamma=None, gpu_id=None, grow_policy=None, importance_type=None,\n",
      "              interaction_constraints=None, learning_rate=None, max_bin=None,\n",
      "              max_cat_threshold=None, max_cat_to_onehot=None,\n",
      "              max_delta_step=None, max_depth=None, max_leaves=None,\n",
      "              min_child_weight=None, missing=nan, monotone_constraints=None,\n",
      "              n_estimators=100, n_jobs=None, num_parallel_tree=None,\n",
      "              predictor=None, random_state=None, ...)\n",
      "\n",
      "               precision    recall  f1-score   support\n",
      "\n",
      "           0       0.85      0.80      0.83      1579\n",
      "           1       0.82      0.86      0.84      1607\n",
      "\n",
      "    accuracy                           0.83      3186\n",
      "   macro avg       0.83      0.83      0.83      3186\n",
      "weighted avg       0.83      0.83      0.83      3186\n",
      "\n",
      "\n",
      "Confusion Matrix\n",
      "[[ 895  684]\n",
      " [ 289 1318]]\n"
     ]
    }
   ],
   "source": [
    "print(xgb)\n",
    "xgb.fit(xtr,ytr)\n",
    "xgb_f=xgb.predict(xte)\n",
    "fcf5=confusion_matrix(yte,knn_f)\n",
    "fac5=fcf5.diagonal().sum()/fcf5.sum()*100\n",
    "fre5=recall_score(yte,xgb_f)\n",
    "fpr5=precision_score(yte,xgb_f)\n",
    "ff5=f1_score(yte,xgb_f,average='weighted')\n",
    "print(\"\\n\",classification_report(yte,xgb_f)) \n",
    "print(\"\\nConfusion Matrix\")\n",
    "print(fcf5)"
   ]
  },
  {
   "cell_type": "code",
   "execution_count": 236,
   "id": "b3565b89",
   "metadata": {},
   "outputs": [
    {
     "name": "stdout",
     "output_type": "stream",
     "text": [
      "SVC()\n",
      "\n",
      "               precision    recall  f1-score   support\n",
      "\n",
      "           0       0.61      0.38      0.47      1579\n",
      "           1       0.56      0.76      0.64      1607\n",
      "\n",
      "    accuracy                           0.57      3186\n",
      "   macro avg       0.58      0.57      0.55      3186\n",
      "weighted avg       0.58      0.57      0.56      3186\n",
      "\n",
      "\n",
      "Confusion Matrix\n",
      "[[ 605  974]\n",
      " [ 392 1215]]\n"
     ]
    }
   ],
   "source": [
    "from sklearn.svm import SVC\n",
    "svm=SVC()\n",
    "print(svm)\n",
    "svm.fit(xtr,ytr)\n",
    "svm_f=svm.predict(xte)\n",
    "fcf6=confusion_matrix(yte,svm_f)\n",
    "fac6=fcf6.diagonal().sum()/fcf6.sum()*100\n",
    "fre6=recall_score(yte,svm_f)\n",
    "fpr6=precision_score(yte,svm_f)\n",
    "ff6=f1_score(yte,svm_f,average='weighted')\n",
    "print(\"\\n\",classification_report(yte,svm_f)) \n",
    "print(\"\\nConfusion Matrix\")\n",
    "print(fcf6)"
   ]
  },
  {
   "cell_type": "code",
   "execution_count": 237,
   "id": "0329ed8e",
   "metadata": {},
   "outputs": [
    {
     "name": "stdout",
     "output_type": "stream",
     "text": [
      "MultinomialNB()\n",
      "\n",
      "               precision    recall  f1-score   support\n",
      "\n",
      "           0       0.54      0.54      0.54      1579\n",
      "           1       0.55      0.56      0.55      1607\n",
      "\n",
      "    accuracy                           0.55      3186\n",
      "   macro avg       0.55      0.55      0.55      3186\n",
      "weighted avg       0.55      0.55      0.55      3186\n",
      "\n",
      "\n",
      "Confusion Matrix\n",
      "[[847 732]\n",
      " [713 894]]\n"
     ]
    }
   ],
   "source": [
    "print(nb)\n",
    "nb.fit(xtr,ytr)\n",
    "nb_f=nb.predict(xte)\n",
    "fcf7=confusion_matrix(yte,nb_f)\n",
    "fac7=fcf7.diagonal().sum()/fcf7.sum()*100\n",
    "fre7=recall_score(yte,nb_f)\n",
    "fpr7=precision_score(yte,nb_f)\n",
    "ff7=f1_score(yte,nb_f,average='weighted')\n",
    "print(\"\\n\",classification_report(yte,nb_f)) \n",
    "print(\"\\nConfusion Matrix\")\n",
    "print(fcf7)"
   ]
  },
  {
   "cell_type": "code",
   "execution_count": 238,
   "id": "a33c850f",
   "metadata": {},
   "outputs": [
    {
     "data": {
      "text/html": [
       "<div>\n",
       "<style scoped>\n",
       "    .dataframe tbody tr th:only-of-type {\n",
       "        vertical-align: middle;\n",
       "    }\n",
       "\n",
       "    .dataframe tbody tr th {\n",
       "        vertical-align: top;\n",
       "    }\n",
       "\n",
       "    .dataframe thead th {\n",
       "        text-align: right;\n",
       "    }\n",
       "</style>\n",
       "<table border=\"1\" class=\"dataframe\">\n",
       "  <thead>\n",
       "    <tr style=\"text-align: right;\">\n",
       "      <th></th>\n",
       "      <th>Model</th>\n",
       "      <th>Accuracy</th>\n",
       "      <th>Precision</th>\n",
       "      <th>Recall</th>\n",
       "      <th>f1-score</th>\n",
       "    </tr>\n",
       "  </thead>\n",
       "  <tbody>\n",
       "    <tr>\n",
       "      <th>0</th>\n",
       "      <td>Logistic</td>\n",
       "      <td>63.935970</td>\n",
       "      <td>0.644025</td>\n",
       "      <td>0.637212</td>\n",
       "      <td>0.639366</td>\n",
       "    </tr>\n",
       "    <tr>\n",
       "      <th>1</th>\n",
       "      <td>Decision Tree</td>\n",
       "      <td>88.198368</td>\n",
       "      <td>0.825489</td>\n",
       "      <td>0.971375</td>\n",
       "      <td>0.880943</td>\n",
       "    </tr>\n",
       "    <tr>\n",
       "      <th>2</th>\n",
       "      <td>Random Forest</td>\n",
       "      <td>92.215945</td>\n",
       "      <td>0.885423</td>\n",
       "      <td>0.971375</td>\n",
       "      <td>0.921939</td>\n",
       "    </tr>\n",
       "    <tr>\n",
       "      <th>3</th>\n",
       "      <td>KNN</td>\n",
       "      <td>69.460138</td>\n",
       "      <td>0.658342</td>\n",
       "      <td>0.820162</td>\n",
       "      <td>0.689484</td>\n",
       "    </tr>\n",
       "    <tr>\n",
       "      <th>4</th>\n",
       "      <td>xgb</td>\n",
       "      <td>69.460138</td>\n",
       "      <td>0.815141</td>\n",
       "      <td>0.864343</td>\n",
       "      <td>0.832505</td>\n",
       "    </tr>\n",
       "    <tr>\n",
       "      <th>5</th>\n",
       "      <td>SVM</td>\n",
       "      <td>57.124922</td>\n",
       "      <td>0.555048</td>\n",
       "      <td>0.756067</td>\n",
       "      <td>0.555683</td>\n",
       "    </tr>\n",
       "    <tr>\n",
       "      <th>6</th>\n",
       "      <td>NB</td>\n",
       "      <td>54.645323</td>\n",
       "      <td>0.549815</td>\n",
       "      <td>0.556316</td>\n",
       "      <td>0.546413</td>\n",
       "    </tr>\n",
       "  </tbody>\n",
       "</table>\n",
       "</div>"
      ],
      "text/plain": [
       "           Model   Accuracy  Precision    Recall  f1-score\n",
       "0       Logistic  63.935970   0.644025  0.637212  0.639366\n",
       "1  Decision Tree  88.198368   0.825489  0.971375  0.880943\n",
       "2  Random Forest  92.215945   0.885423  0.971375  0.921939\n",
       "3            KNN  69.460138   0.658342  0.820162  0.689484\n",
       "4            xgb  69.460138   0.815141  0.864343  0.832505\n",
       "5            SVM  57.124922   0.555048  0.756067  0.555683\n",
       "6             NB  54.645323   0.549815  0.556316  0.546413"
      ]
     },
     "execution_count": 238,
     "metadata": {},
     "output_type": "execute_result"
    }
   ],
   "source": [
    "algo=['Logistic','Decision Tree','Random Forest','KNN','xgb','SVM','NB']\n",
    "accuracy3=[fac1,fac2,fac3,fac4,fac5,fac6,fac7]\n",
    "precision3=[fpr1,fpr2,fpr3,fpr4,fpr5,fpr6,fpr7]\n",
    "recall3=[fre1,fre2,fre3,fre4,fre5,fre6,fre7]\n",
    "f1_score3=[ff1,ff2,ff3,ff4,ff5,ff6,ff7]\n",
    "model4=pd.DataFrame({\"Model\":algo,\"Accuracy\":accuracy3,\"Precision\":precision3,\"Recall\":recall3,\"f1-score\":f1_score3})\n",
    "model4"
   ]
  },
  {
   "cell_type": "code",
   "execution_count": 239,
   "id": "42514495",
   "metadata": {},
   "outputs": [
    {
     "data": {
      "image/png": "[encoded data removed]",
      "text/plain": [
       "<Figure size 640x480 with 2 Axes>"
      ]
     },
     "metadata": {},
     "output_type": "display_data"
    }
   ],
   "source": [
    "#Confusion matrix for Decision Tree model because the performance of model is good as compare to other model\n",
    "cm=confusion_matrix(yte,rf_f)\n",
    "sns.heatmap(cm,annot=True,fmt='d')\n",
    "plt.title('Confusion Matrix')\n",
    "plt.show()"
   ]
  },
  {
   "cell_type": "code",
   "execution_count": 240,
   "id": "67e1958c",
   "metadata": {},
   "outputs": [
    {
     "data": {
      "image/png": "[encoded data removed]",
      "text/plain": [
       "<Figure size 800x600 with 1 Axes>"
      ]
     },
     "metadata": {},
     "output_type": "display_data"
    }
   ],
   "source": [
    "# Import necessary libraries\n",
    "import numpy as np\n",
    "import matplotlib.pyplot as plt\n",
    "from sklearn.datasets import make_classification\n",
    "from sklearn.ensemble import RandomForestClassifier\n",
    "from sklearn.model_selection import train_test_split\n",
    "from sklearn.metrics import roc_curve, roc_auc_score, auc\n",
    "\n",
    "clf = RandomForestClassifier()\n",
    "\n",
    "# Train the classifier\n",
    "clf.fit(xtr,ytr)\n",
    "\n",
    "# Predict probabilities for the positive class (class 1)\n",
    "rf_f = clf.predict_proba(xte)[:, 1]\n",
    "\n",
    "# Calculate ROC curve\n",
    "fpr, tpr, thresholds = roc_curve(yte,rf_f)\n",
    "\n",
    "# Calculate AUC (Area Under the Curve)\n",
    "roc_auc = auc(fpr, tpr)\n",
    "\n",
    "# Plot the ROC curve\n",
    "plt.figure(figsize=(8, 6))\n",
    "plt.plot(fpr, tpr, color='darkorange', lw=2, label=f'ROC curve (AUC = {roc_auc:.2f})')\n",
    "plt.plot([0, 1], [0, 1], color='navy', lw=2, linestyle='--')\n",
    "plt.xlim([0.0, 1.0])\n",
    "plt.ylim([0.0, 1.05])\n",
    "plt.xlabel('False Positive Rate')\n",
    "plt.ylabel('True Positive Rate')\n",
    "plt.title('Receiver Operating Characteristic (ROC)')\n",
    "plt.legend(loc='lower right')\n",
    "plt.show()\n"
   ]
  },
  {
   "cell_type": "markdown",
   "id": "238c6f52",
   "metadata": {},
   "source": [
    "Conclusion:After Doing the feature selection the By comparing dataframe 2 and dataframe 3 performance of the model is not increases this means that feature selection does not any affect on the data in this case we can conclude that Random Forest and Decison tree is good fitted data"
   ]
  },
  {
   "cell_type": "code",
   "execution_count": null,
   "id": "719d4c16",
   "metadata": {},
   "outputs": [],
   "source": []
  }
 ],
 "metadata": {
  "kernelspec": {
   "display_name": "Python 3 (ipykernel)",
   "language": "python",
   "name": "python3"
  },
  "language_info": {
   "codemirror_mode": {
    "name": "ipython",
    "version": 3
   },
   "file_extension": ".py",
   "mimetype": "text/x-python",
   "name": "python",
   "nbconvert_exporter": "python",
   "pygments_lexer": "ipython3",
   "version": "3.11.4"
  }
 },
 "nbformat": 4,
 "nbformat_minor": 5
}
